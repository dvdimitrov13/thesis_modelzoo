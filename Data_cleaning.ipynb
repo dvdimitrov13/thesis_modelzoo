{
 "cells": [
  {
   "cell_type": "markdown",
   "metadata": {},
   "source": [
    "# Thesis Computer Vision Feature Extracton"
   ]
  },
  {
   "cell_type": "markdown",
   "metadata": {},
   "source": [
    "The goal of this thesis cosists of four tasks:\n",
    "* Extracting and cleaning raw pdf image data\n",
    "    * Identifying chart/graph/tables \n",
    "    * Cleaning trash images using color analysis\n",
    "* The first task is to identify the faces in each image and classify the following: \n",
    "    * age\n",
    "    * gender\n",
    "    * race\n",
    "    * emotion*\n",
    "* The second task is to classify images as either containing natural or artificial backgrounds\n",
    "* The final task is an oject detection model that covers a large number of images of interest"
   ]
  },
  {
   "cell_type": "markdown",
   "metadata": {},
   "source": [
    "#### Begining with the data cleaning we start by trianing a classifier to distinguish between natural images and charts and graphs"
   ]
  },
  {
   "cell_type": "code",
   "execution_count": 1,
   "metadata": {},
   "outputs": [
    {
     "name": "stderr",
     "output_type": "stream",
     "text": [
      "2022-06-21 22:51:28.797621: I tensorflow/stream_executor/platform/default/dso_loader.cc:49] Successfully opened dynamic library libcudart.so.10.1\n"
     ]
    }
   ],
   "source": [
    "import os, urllib\n",
    "import numpy as np\n",
    "import pandas as pd\n",
    "import tensorflow as tf\n",
    "import matplotlib.pyplot as plt\n",
    "import matplotlib.image as mpimg\n",
    "from PIL import Image\n",
    "from tensorflow.keras.models import model_from_json\n",
    "from sklearn.model_selection import StratifiedKFold\n",
    "from sklearn.metrics import classification_report, confusion_matrix\n",
    "from tensorflow.keras import applications\n",
    "from tensorflow.keras import optimizers\n",
    "from tensorflow.keras.callbacks import EarlyStopping\n",
    "from tensorflow.keras.models import Sequential, Model\n",
    "from tensorflow.keras.layers import Input, Dense, BatchNormalization, Dropout, Flatten, MaxPooling2D\n",
    "from tensorflow.keras.preprocessing.image import ImageDataGenerator"
   ]
  },
  {
   "cell_type": "code",
   "execution_count": 2,
   "metadata": {},
   "outputs": [
    {
     "name": "stdout",
     "output_type": "stream",
     "text": [
      "15 (6444, 3)\n"
     ]
    },
    {
     "data": {
      "text/html": [
       "<div>\n",
       "<style scoped>\n",
       "    .dataframe tbody tr th:only-of-type {\n",
       "        vertical-align: middle;\n",
       "    }\n",
       "\n",
       "    .dataframe tbody tr th {\n",
       "        vertical-align: top;\n",
       "    }\n",
       "\n",
       "    .dataframe thead th {\n",
       "        text-align: right;\n",
       "    }\n",
       "</style>\n",
       "<table border=\"1\" class=\"dataframe\">\n",
       "  <thead>\n",
       "    <tr style=\"text-align: right;\">\n",
       "      <th></th>\n",
       "      <th>chart</th>\n",
       "      <th>type</th>\n",
       "      <th>code</th>\n",
       "    </tr>\n",
       "  </thead>\n",
       "  <tbody>\n",
       "    <tr>\n",
       "      <th>0</th>\n",
       "      <td>1.area-chart.png</td>\n",
       "      <td>AreaGraph</td>\n",
       "      <td>0</td>\n",
       "    </tr>\n",
       "    <tr>\n",
       "      <th>1</th>\n",
       "      <td>10.depicting_area_chart.jpg</td>\n",
       "      <td>AreaGraph</td>\n",
       "      <td>0</td>\n",
       "    </tr>\n",
       "    <tr>\n",
       "      <th>2</th>\n",
       "      <td>100.stacked-area-chart-cliffs-stacked-area-cha...</td>\n",
       "      <td>AreaGraph</td>\n",
       "      <td>0</td>\n",
       "    </tr>\n",
       "    <tr>\n",
       "      <th>3</th>\n",
       "      <td>101.quantity2.png</td>\n",
       "      <td>AreaGraph</td>\n",
       "      <td>0</td>\n",
       "    </tr>\n",
       "    <tr>\n",
       "      <th>4</th>\n",
       "      <td>103.flutter-spline-area-charts.png</td>\n",
       "      <td>AreaGraph</td>\n",
       "      <td>0</td>\n",
       "    </tr>\n",
       "  </tbody>\n",
       "</table>\n",
       "</div>"
      ],
      "text/plain": [
       "                                               chart       type  code\n",
       "0                                   1.area-chart.png  AreaGraph     0\n",
       "1                        10.depicting_area_chart.jpg  AreaGraph     0\n",
       "2  100.stacked-area-chart-cliffs-stacked-area-cha...  AreaGraph     0\n",
       "3                                  101.quantity2.png  AreaGraph     0\n",
       "4                 103.flutter-spline-area-charts.png  AreaGraph     0"
      ]
     },
     "execution_count": 2,
     "metadata": {},
     "output_type": "execute_result"
    }
   ],
   "source": [
    "# Load the data -- assembled using a combination of a Kaggle dataset\n",
    "# with a personal downloader to acquire \"table\" category and not_chart coming from original data\n",
    "\n",
    "DIR_ = 'Data/chart_train/'\n",
    "\n",
    "traindf = pd.read_csv(os.path.join(DIR_,'train.csv')).iloc()[:,1:]\n",
    "traindf['code'] = traindf['type'].astype('category').cat.codes\n",
    "filenames = [file for file in os.listdir(os.path.join(DIR_,'Images/Images'))]\n",
    "traindf = traindf[traindf.chart.isin(filenames)].reset_index(drop=True)\n",
    "print(len(traindf.type.unique()), traindf.shape)\n",
    "traindf.head()"
   ]
  },
  {
   "cell_type": "code",
   "execution_count": 3,
   "metadata": {},
   "outputs": [
    {
     "data": {
      "text/plain": [
       "(6016, 4)"
      ]
     },
     "execution_count": 3,
     "metadata": {},
     "output_type": "execute_result"
    }
   ],
   "source": [
    "# Next we clean the data from tranparent images as they give issues with training\n",
    "def has_transparency(img):\n",
    "  if img.info.get(\"transparency\", None) is not None:\n",
    "      return True\n",
    "  if img.mode == \"P\":\n",
    "      transparent = img.info.get(\"transparency\", -1)\n",
    "      for _, index in img.getcolors():\n",
    "          if index == transparent:\n",
    "              return True\n",
    "  elif img.mode == \"RGBA\":\n",
    "      extrema = img.getextrema()\n",
    "      if extrema[3][0] < 255:\n",
    "          return True\n",
    "\n",
    "  return False\n",
    "\n",
    "traindf['transparency'] = traindf['chart'].map(lambda x: has_transparency(Image.open(os.path.join(DIR_,'Images/Images', x))))\n",
    "\n",
    "traindf.groupby('transparency')['chart'].nunique()\n",
    "traindf = traindf[traindf.transparency == False].reset_index(drop=True)\n",
    "traindf.shape"
   ]
  },
  {
   "cell_type": "code",
   "execution_count": 4,
   "metadata": {},
   "outputs": [],
   "source": [
    "# We define our model that uses VGG-19 IMAGENET to transfer learn\n",
    "\n",
    "def createModel(Model_name, final_classes):\n",
    "    vgg_model = Model_name(weights = \"imagenet\", include_top=False, input_shape = (224, 224, 3))\n",
    "\n",
    "    for layer in vgg_model.layers:\n",
    "        layer.trainable=False\n",
    "        \n",
    "    input = Input(shape=(224, 224, 3), name = 'image_input')\n",
    "    output_vgg19_conv = vgg_model(input)\n",
    "\n",
    "    x = BatchNormalization()(output_vgg19_conv)\n",
    "    x = MaxPooling2D(pool_size=(2, 2), padding='same')(x)\n",
    "    x = Dropout(0.3)(x)\n",
    "\n",
    "    x = Flatten()(x)\n",
    "    x = Dense(4096, activation='relu')(x)\n",
    "    x = BatchNormalization()(x)\n",
    "    x = Dropout(0.5)(x)\n",
    "\n",
    "    x = Dense(1024, activation='relu')(x)\n",
    "    x = BatchNormalization()(x)\n",
    "    x = Dropout(0.5)(x)\n",
    "\n",
    "    x = Dense(512, activation='relu')(x)\n",
    "    x = BatchNormalization()(x)\n",
    "    x = Dropout(0.3)(x)\n",
    "\n",
    "    x = Dense(final_classes, activation='softmax')(x)\n",
    "\n",
    "    model = Model(inputs=input, outputs=x)\n",
    "\n",
    "    model.summary()\n",
    "\n",
    "    model.compile(loss = \"categorical_crossentropy\",\n",
    "              optimizer = optimizers.Adadelta(lr = 1.0, rho = 0.95, epsilon = 1e-08, decay = 0.0),\n",
    "              metrics = ['accuracy'])\n",
    "    \n",
    "    return model"
   ]
  },
  {
   "cell_type": "code",
   "execution_count": 19,
   "metadata": {},
   "outputs": [],
   "source": [
    "# Now we split our data into trian and validation \n",
    "\n",
    "from sklearn.model_selection import train_test_split\n",
    "\n",
    "train, test = train_test_split(traindf, test_size=0.2, random_state=420)"
   ]
  },
  {
   "cell_type": "code",
   "execution_count": 36,
   "metadata": {},
   "outputs": [],
   "source": [
    "# def set_up_augmentation(\n",
    "#     rotation_range=0,\n",
    "#     height_shift_range=0, # vertical shift\n",
    "#     width_shift_range=0,\n",
    "#     zoom_range=0, # zoom\n",
    "#     vertical_flip=False,\n",
    "#     horizontal_flip=False\n",
    "# ):\n",
    "#     datagen_train = ImageDataGenerator(rescale=1./255.,\n",
    "#                                         rotation_range=rotation_range,\n",
    "#                                         height_shift_range=height_shift_range, # vertical shift\n",
    "#                                         width_shift_range=width_shift_range,\n",
    "#                                         zoom_range=zoom_range, # zoom\n",
    "#                                         vertical_flip=vertical_flip,\n",
    "#                                         horizontal_flip=horizontal_flip\n",
    "#                                     ) \n",
    "            \n",
    "#     datagen_valid = ImageDataGenerator(rescale=1./255)\n",
    "\n",
    "#     return datagen_train, datagen_valid\n",
    "\n",
    "def set_up_augmentation(\n",
    "    rotation_range=0,\n",
    "    guassian_blur=0, # vertical shift\n",
    "    zoom = 0,\n",
    "    horizontal_flip=0\n",
    "):\n",
    "    import imgaug as ia\n",
    "    import imgaug.augmenters as iaa\n",
    "\n",
    "    ia.seed(1411)\n",
    "\n",
    "    seq = iaa.Sequential([\n",
    "        iaa.Fliplr(horizontal_flip), # horizontal flips\n",
    "        iaa.Crop(percent=(0, zoom)), # random crops\n",
    "        # iaa.LinearContrast((0.75, 1.5)),\n",
    "        # Small gaussian blur with random sigma between 0 and 1.0.\n",
    "        # But we only blur about 25% of all images.\n",
    "        iaa.Sometimes(\n",
    "            guassian_blur,\n",
    "            iaa.GaussianBlur(sigma=(0, 1.0))\n",
    "        ),\n",
    "        # Apply affine transformations to each image.\n",
    "        # Scale/zoom them, translate/move them, rotate them and shear them.\n",
    "        iaa.Sometimes(\n",
    "        0.30, \n",
    "        iaa.Affine(rotate=(-rotation_range, rotation_range))\n",
    "        )\n",
    "    ], random_order=True) # apply augmenters in random order\n",
    "\n",
    "\n",
    "    datagen_train = ImageDataGenerator(rescale=1./255.,\n",
    "        preprocessing_function=seq.augment_image\n",
    "    )\n",
    "\n",
    "    datagen_valid = ImageDataGenerator(rescale=1./255)\n",
    "\n",
    "    return datagen_train, datagen_valid"
   ]
  },
  {
   "cell_type": "code",
   "execution_count": 10,
   "metadata": {},
   "outputs": [],
   "source": [
    "def initialize_model(Model_name, datagen_train,datagen_valid, final_classes, data):\n",
    "    model = createModel(Model_name, final_classes)\n",
    "\n",
    "    train_generator = datagen_train.flow_from_dataframe(dataframe=data,\n",
    "                                            directory=os.path.join(DIR_,'Images/Images'),\n",
    "                                            x_col=\"chart\",\n",
    "                                            y_col=\"type\",\n",
    "                                            batch_size=32,\n",
    "                                            seed=42,\n",
    "                                            color_mode=\"rgb\",\n",
    "                                            shuffle=True,\n",
    "                                            class_mode=\"categorical\",\n",
    "                                            target_size=(224, 224)\n",
    "                                            , validate_filenames=False\n",
    "                                            );\n",
    "\n",
    "    valid_generator=datagen_valid.flow_from_dataframe(dataframe=test,\n",
    "                                            directory=os.path.join(DIR_,'Images/Images'),\n",
    "                                            x_col=\"chart\",\n",
    "                                            y_col=\"type\",\n",
    "                                            batch_size=32,\n",
    "                                            seed=42,\n",
    "                                            color_mode=\"rgb\",\n",
    "                                            shuffle=False,\n",
    "                                            class_mode=\"categorical\",\n",
    "                                            target_size=(224, 224)\n",
    "                                            , validate_filenames=False\n",
    "                                            );\n",
    "\n",
    "    STEP_SIZE_TRAIN=train_generator.n//train_generator.batch_size\n",
    "    STEP_SIZE_VALID=valid_generator.n//valid_generator.batch_size\n",
    "\n",
    "\n",
    "    es = EarlyStopping(monitor='val_loss', mode='min', verbose=1, patience=5, restore_best_weights=True)\n",
    "\n",
    "    return model, train_generator, valid_generator, STEP_SIZE_TRAIN, STEP_SIZE_VALID, es"
   ]
  },
  {
   "cell_type": "code",
   "execution_count": 7,
   "metadata": {},
   "outputs": [],
   "source": [
    "# Before we train the model we define a helper function to illustrate results\n",
    "def printHistory(history, filename):\n",
    "    fig, (ax1, ax2) = plt.subplots(1,2)\n",
    "    fig.suptitle('VGG-19')\n",
    "    \n",
    "    \n",
    "    ax1.set_title('Accuracy')\n",
    "    ax1.set_ylabel('accuracy')\n",
    "    ax1.set_xlabel('epoch')\n",
    "    ax1.legend(['train', 'val'], loc='upper left')\n",
    "    ax1.plot(history.history['accuracy'])\n",
    "    ax1.plot(history.history['val_accuracy'])\n",
    "    \n",
    "    ax2.set_title('Loss')\n",
    "    ax2.set_ylabel('loss')\n",
    "    ax2.set_xlabel('epoch')\n",
    "    ax2.legend(['train', 'val'], loc='upper left')\n",
    "    ax2.plot(history.history['loss'])\n",
    "    ax2.plot(history.history['val_loss'])\n",
    "\n",
    "    plt.savefig(filename)\n",
    "\n",
    "    plt.show()"
   ]
  },
  {
   "cell_type": "markdown",
   "metadata": {},
   "source": [
    "##### Hyperparameter experimentation"
   ]
  },
  {
   "cell_type": "code",
   "execution_count": 29,
   "metadata": {},
   "outputs": [
    {
     "name": "stdout",
     "output_type": "stream",
     "text": [
      "Model: \"model_2\"\n",
      "_________________________________________________________________\n",
      "Layer (type)                 Output Shape              Param #   \n",
      "=================================================================\n",
      "image_input (InputLayer)     [(None, 224, 224, 3)]     0         \n",
      "_________________________________________________________________\n",
      "vgg19 (Functional)           (None, 7, 7, 512)         20024384  \n",
      "_________________________________________________________________\n",
      "batch_normalization_8 (Batch (None, 7, 7, 512)         2048      \n",
      "_________________________________________________________________\n",
      "max_pooling2d_2 (MaxPooling2 (None, 4, 4, 512)         0         \n",
      "_________________________________________________________________\n",
      "dropout_8 (Dropout)          (None, 4, 4, 512)         0         \n",
      "_________________________________________________________________\n",
      "flatten_2 (Flatten)          (None, 8192)              0         \n",
      "_________________________________________________________________\n",
      "dense_8 (Dense)              (None, 4096)              33558528  \n",
      "_________________________________________________________________\n",
      "batch_normalization_9 (Batch (None, 4096)              16384     \n",
      "_________________________________________________________________\n",
      "dropout_9 (Dropout)          (None, 4096)              0         \n",
      "_________________________________________________________________\n",
      "dense_9 (Dense)              (None, 1024)              4195328   \n",
      "_________________________________________________________________\n",
      "batch_normalization_10 (Batc (None, 1024)              4096      \n",
      "_________________________________________________________________\n",
      "dropout_10 (Dropout)         (None, 1024)              0         \n",
      "_________________________________________________________________\n",
      "dense_10 (Dense)             (None, 512)               524800    \n",
      "_________________________________________________________________\n",
      "batch_normalization_11 (Batc (None, 512)               2048      \n",
      "_________________________________________________________________\n",
      "dropout_11 (Dropout)         (None, 512)               0         \n",
      "_________________________________________________________________\n",
      "dense_11 (Dense)             (None, 15)                7695      \n",
      "=================================================================\n",
      "Total params: 58,335,311\n",
      "Trainable params: 38,298,639\n",
      "Non-trainable params: 20,036,672\n",
      "_________________________________________________________________\n",
      "Found 4812 non-validated image filenames belonging to 15 classes.\n",
      "Found 1204 non-validated image filenames belonging to 15 classes.\n"
     ]
    },
    {
     "name": "stderr",
     "output_type": "stream",
     "text": [
      "/home/3049637/.conda/envs/tf-gpu/lib/python3.9/site-packages/tensorflow/python/keras/engine/training.py:1844: UserWarning: `Model.fit_generator` is deprecated and will be removed in a future version. Please use `Model.fit`, which supports generators.\n",
      "  warnings.warn('`Model.fit_generator` is deprecated and '\n"
     ]
    },
    {
     "name": "stdout",
     "output_type": "stream",
     "text": [
      "Epoch 1/30\n",
      "150/150 [==============================] - 30s 193ms/step - loss: 1.5043 - accuracy: 0.5736 - val_loss: 0.5716 - val_accuracy: 0.8226\n",
      "Epoch 2/30\n",
      "150/150 [==============================] - 28s 189ms/step - loss: 0.5101 - accuracy: 0.8352 - val_loss: 0.4318 - val_accuracy: 0.8514\n",
      "Epoch 3/30\n",
      "150/150 [==============================] - 29s 194ms/step - loss: 0.3724 - accuracy: 0.8840 - val_loss: 0.4073 - val_accuracy: 0.8733\n",
      "Epoch 4/30\n",
      "150/150 [==============================] - 29s 194ms/step - loss: 0.2438 - accuracy: 0.9177 - val_loss: 0.3940 - val_accuracy: 0.8801\n",
      "Epoch 5/30\n",
      "150/150 [==============================] - 29s 190ms/step - loss: 0.1788 - accuracy: 0.9409 - val_loss: 0.4297 - val_accuracy: 0.8775\n",
      "Epoch 6/30\n",
      "150/150 [==============================] - 29s 191ms/step - loss: 0.1414 - accuracy: 0.9505 - val_loss: 0.4020 - val_accuracy: 0.8860\n",
      "Epoch 7/30\n",
      "150/150 [==============================] - 28s 188ms/step - loss: 0.0991 - accuracy: 0.9713 - val_loss: 0.4886 - val_accuracy: 0.8750\n",
      "Epoch 8/30\n",
      "150/150 [==============================] - 29s 192ms/step - loss: 0.0940 - accuracy: 0.9686 - val_loss: 0.4434 - val_accuracy: 0.8868\n",
      "Epoch 9/30\n",
      "150/150 [==============================] - 28s 188ms/step - loss: 0.0787 - accuracy: 0.9739 - val_loss: 0.4107 - val_accuracy: 0.8885\n",
      "Restoring model weights from the end of the best epoch.\n",
      "Epoch 00009: early stopping\n"
     ]
    },
    {
     "data": {
      "image/png": "[encoded data removed]",
      "text/plain": [
       "<Figure size 432x288 with 2 Axes>"
      ]
     },
     "metadata": {
      "needs_background": "light"
     },
     "output_type": "display_data"
    }
   ],
   "source": [
    "#Trains the model on data generated batch-by-batch by a Python generator\n",
    "datagen_train, datagen_valid = set_up_augmentation()\n",
    "\n",
    "model, train_generator, valid_generator\\\n",
    "    , STEP_SIZE_TRAIN, STEP_SIZE_VALID, es = \\\n",
    "    initialize_model(applications.VGG19, datagen_train, datagen_valid)\n",
    "\n",
    "## Fozen [:-5] best accuracy 88%\n",
    "## Currently training fully frozen -result = similar results faster train\n",
    "history = model.fit_generator(generator=train_generator,\\\n",
    "                    validation_data = valid_generator, \\\n",
    "                    steps_per_epoch=STEP_SIZE_TRAIN, \\\n",
    "                    validation_steps=STEP_SIZE_VALID, \\\n",
    "                    epochs=30, \\\n",
    "                    verbose=1, \\\n",
    "                    callbacks=[es])\n",
    "\n",
    "printHistory(history, 'output/no_aug.jpg')"
   ]
  },
  {
   "cell_type": "code",
   "execution_count": 34,
   "metadata": {},
   "outputs": [
    {
     "name": "stdout",
     "output_type": "stream",
     "text": [
      "Model: \"model_5\"\n",
      "_________________________________________________________________\n",
      "Layer (type)                 Output Shape              Param #   \n",
      "=================================================================\n",
      "image_input (InputLayer)     [(None, 224, 224, 3)]     0         \n",
      "_________________________________________________________________\n",
      "resnet50 (Functional)        (None, 7, 7, 2048)        23587712  \n",
      "_________________________________________________________________\n",
      "batch_normalization_20 (Batc (None, 7, 7, 2048)        8192      \n",
      "_________________________________________________________________\n",
      "max_pooling2d_5 (MaxPooling2 (None, 4, 4, 2048)        0         \n",
      "_________________________________________________________________\n",
      "dropout_20 (Dropout)         (None, 4, 4, 2048)        0         \n",
      "_________________________________________________________________\n",
      "flatten_5 (Flatten)          (None, 32768)             0         \n",
      "_________________________________________________________________\n",
      "dense_20 (Dense)             (None, 4096)              134221824 \n",
      "_________________________________________________________________\n",
      "batch_normalization_21 (Batc (None, 4096)              16384     \n",
      "_________________________________________________________________\n",
      "dropout_21 (Dropout)         (None, 4096)              0         \n",
      "_________________________________________________________________\n",
      "dense_21 (Dense)             (None, 1024)              4195328   \n",
      "_________________________________________________________________\n",
      "batch_normalization_22 (Batc (None, 1024)              4096      \n",
      "_________________________________________________________________\n",
      "dropout_22 (Dropout)         (None, 1024)              0         \n",
      "_________________________________________________________________\n",
      "dense_22 (Dense)             (None, 512)               524800    \n",
      "_________________________________________________________________\n",
      "batch_normalization_23 (Batc (None, 512)               2048      \n",
      "_________________________________________________________________\n",
      "dropout_23 (Dropout)         (None, 512)               0         \n",
      "_________________________________________________________________\n",
      "dense_23 (Dense)             (None, 15)                7695      \n",
      "=================================================================\n",
      "Total params: 162,568,079\n",
      "Trainable params: 138,965,007\n",
      "Non-trainable params: 23,603,072\n",
      "_________________________________________________________________\n",
      "Found 4812 non-validated image filenames belonging to 15 classes.\n",
      "Found 1204 non-validated image filenames belonging to 15 classes.\n"
     ]
    },
    {
     "name": "stderr",
     "output_type": "stream",
     "text": [
      "/home/3049637/.conda/envs/tf-gpu/lib/python3.9/site-packages/tensorflow/python/keras/engine/training.py:1844: UserWarning: `Model.fit_generator` is deprecated and will be removed in a future version. Please use `Model.fit`, which supports generators.\n",
      "  warnings.warn('`Model.fit_generator` is deprecated and '\n"
     ]
    },
    {
     "name": "stdout",
     "output_type": "stream",
     "text": [
      "Epoch 1/50\n",
      "150/150 [==============================] - 31s 193ms/step - loss: 2.3180 - accuracy: 0.3855 - val_loss: 1.4685 - val_accuracy: 0.5397\n",
      "Epoch 2/50\n",
      "150/150 [==============================] - 28s 183ms/step - loss: 1.5706 - accuracy: 0.5420 - val_loss: 1.2344 - val_accuracy: 0.6149\n",
      "Epoch 3/50\n",
      "150/150 [==============================] - 28s 187ms/step - loss: 1.3608 - accuracy: 0.5888 - val_loss: 1.0964 - val_accuracy: 0.6706\n",
      "Epoch 4/50\n",
      "150/150 [==============================] - 27s 183ms/step - loss: 1.2509 - accuracy: 0.6186 - val_loss: 1.0177 - val_accuracy: 0.6841\n",
      "Epoch 5/50\n",
      "150/150 [==============================] - 28s 187ms/step - loss: 1.1578 - accuracy: 0.6498 - val_loss: 1.1471 - val_accuracy: 0.6410\n",
      "Epoch 6/50\n",
      "150/150 [==============================] - 28s 189ms/step - loss: 1.0729 - accuracy: 0.6757 - val_loss: 1.0968 - val_accuracy: 0.6639\n",
      "Epoch 7/50\n",
      "150/150 [==============================] - 29s 191ms/step - loss: 1.0267 - accuracy: 0.6786 - val_loss: 1.0710 - val_accuracy: 0.6858\n",
      "Epoch 8/50\n",
      "150/150 [==============================] - 28s 187ms/step - loss: 0.9632 - accuracy: 0.6999 - val_loss: 0.9838 - val_accuracy: 0.7086\n",
      "Epoch 9/50\n",
      "150/150 [==============================] - 28s 185ms/step - loss: 0.9519 - accuracy: 0.7042 - val_loss: 0.9694 - val_accuracy: 0.7078\n",
      "Epoch 10/50\n",
      "150/150 [==============================] - 28s 186ms/step - loss: 0.8874 - accuracy: 0.7104 - val_loss: 0.9580 - val_accuracy: 0.7188\n",
      "Epoch 11/50\n",
      "150/150 [==============================] - 28s 187ms/step - loss: 0.8590 - accuracy: 0.7306 - val_loss: 0.9193 - val_accuracy: 0.7162\n",
      "Epoch 12/50\n",
      "150/150 [==============================] - 28s 188ms/step - loss: 0.8258 - accuracy: 0.7323 - val_loss: 0.9830 - val_accuracy: 0.7128\n",
      "Epoch 13/50\n",
      "150/150 [==============================] - 28s 185ms/step - loss: 0.7732 - accuracy: 0.7590 - val_loss: 0.9603 - val_accuracy: 0.7264\n",
      "Epoch 14/50\n",
      "150/150 [==============================] - 28s 187ms/step - loss: 0.7397 - accuracy: 0.7622 - val_loss: 0.9906 - val_accuracy: 0.7128\n",
      "Epoch 15/50\n",
      "150/150 [==============================] - 28s 188ms/step - loss: 0.7693 - accuracy: 0.7569 - val_loss: 0.9265 - val_accuracy: 0.7213\n",
      "Epoch 16/50\n",
      "150/150 [==============================] - 28s 185ms/step - loss: 0.7266 - accuracy: 0.7656 - val_loss: 0.9636 - val_accuracy: 0.7103\n",
      "Restoring model weights from the end of the best epoch.\n",
      "Epoch 00016: early stopping\n"
     ]
    },
    {
     "data": {
      "image/png": "[encoded data removed]",
      "text/plain": [
       "<Figure size 432x288 with 2 Axes>"
      ]
     },
     "metadata": {
      "needs_background": "light"
     },
     "output_type": "display_data"
    }
   ],
   "source": [
    "#Experimenting with ResNet50\n",
    "datagen_train, datagen_valid = set_up_augmentation()\n",
    "\n",
    "model, train_generator, valid_generator\\\n",
    "    , STEP_SIZE_TRAIN, STEP_SIZE_VALID, es = \\\n",
    "    initialize_model(applications.ResNet50, datagen_train, datagen_valid)\n",
    "\n",
    "history = model.fit_generator(generator=train_generator,\\\n",
    "                    validation_data = valid_generator, \\\n",
    "                    steps_per_epoch=STEP_SIZE_TRAIN, \\\n",
    "                    validation_steps=STEP_SIZE_VALID, \\\n",
    "                    epochs=50, \\\n",
    "                    verbose=1, \\\n",
    "                    callbacks=[es])\n",
    "\n",
    "printHistory(history, 'output/no_aug_Res.jpg')"
   ]
  },
  {
   "cell_type": "code",
   "execution_count": 35,
   "metadata": {},
   "outputs": [
    {
     "name": "stdout",
     "output_type": "stream",
     "text": [
      "Downloading data from https://storage.googleapis.com/tensorflow/keras-applications/inception_resnet_v2/inception_resnet_v2_weights_tf_dim_ordering_tf_kernels_notop.h5\n",
      "219062272/219055592 [==============================] - 3s 0us/step\n",
      "Model: \"model_6\"\n",
      "_________________________________________________________________\n",
      "Layer (type)                 Output Shape              Param #   \n",
      "=================================================================\n",
      "image_input (InputLayer)     [(None, 224, 224, 3)]     0         \n",
      "_________________________________________________________________\n",
      "inception_resnet_v2 (Functio (None, 5, 5, 1536)        54336736  \n",
      "_________________________________________________________________\n",
      "batch_normalization_227 (Bat (None, 5, 5, 1536)        6144      \n",
      "_________________________________________________________________\n",
      "max_pooling2d_10 (MaxPooling (None, 3, 3, 1536)        0         \n",
      "_________________________________________________________________\n",
      "dropout_24 (Dropout)         (None, 3, 3, 1536)        0         \n",
      "_________________________________________________________________\n",
      "flatten_6 (Flatten)          (None, 13824)             0         \n",
      "_________________________________________________________________\n",
      "dense_24 (Dense)             (None, 4096)              56627200  \n",
      "_________________________________________________________________\n",
      "batch_normalization_228 (Bat (None, 4096)              16384     \n",
      "_________________________________________________________________\n",
      "dropout_25 (Dropout)         (None, 4096)              0         \n",
      "_________________________________________________________________\n",
      "dense_25 (Dense)             (None, 1024)              4195328   \n",
      "_________________________________________________________________\n",
      "batch_normalization_229 (Bat (None, 1024)              4096      \n",
      "_________________________________________________________________\n",
      "dropout_26 (Dropout)         (None, 1024)              0         \n",
      "_________________________________________________________________\n",
      "dense_26 (Dense)             (None, 512)               524800    \n",
      "_________________________________________________________________\n",
      "batch_normalization_230 (Bat (None, 512)               2048      \n",
      "_________________________________________________________________\n",
      "dropout_27 (Dropout)         (None, 512)               0         \n",
      "_________________________________________________________________\n",
      "dense_27 (Dense)             (None, 15)                7695      \n",
      "=================================================================\n",
      "Total params: 115,720,431\n",
      "Trainable params: 61,369,359\n",
      "Non-trainable params: 54,351,072\n",
      "_________________________________________________________________\n",
      "Found 4812 non-validated image filenames belonging to 15 classes.\n",
      "Found 1204 non-validated image filenames belonging to 15 classes.\n"
     ]
    },
    {
     "name": "stderr",
     "output_type": "stream",
     "text": [
      "/home/3049637/.conda/envs/tf-gpu/lib/python3.9/site-packages/tensorflow/python/keras/engine/training.py:1844: UserWarning: `Model.fit_generator` is deprecated and will be removed in a future version. Please use `Model.fit`, which supports generators.\n",
      "  warnings.warn('`Model.fit_generator` is deprecated and '\n"
     ]
    },
    {
     "name": "stdout",
     "output_type": "stream",
     "text": [
      "Epoch 1/50\n",
      "150/150 [==============================] - 147s 574ms/step - loss: 1.5463 - accuracy: 0.5703 - val_loss: 0.6581 - val_accuracy: 0.8091\n",
      "Epoch 2/50\n",
      "150/150 [==============================] - 29s 189ms/step - loss: 0.5780 - accuracy: 0.8294 - val_loss: 0.4648 - val_accuracy: 0.8573\n",
      "Epoch 3/50\n",
      "150/150 [==============================] - 28s 189ms/step - loss: 0.4600 - accuracy: 0.8584 - val_loss: 0.4920 - val_accuracy: 0.8497\n",
      "Epoch 4/50\n",
      "150/150 [==============================] - 28s 188ms/step - loss: 0.3144 - accuracy: 0.9006 - val_loss: 0.4257 - val_accuracy: 0.8682\n",
      "Epoch 5/50\n",
      "150/150 [==============================] - 28s 187ms/step - loss: 0.2624 - accuracy: 0.9110 - val_loss: 0.4233 - val_accuracy: 0.8725\n",
      "Epoch 6/50\n",
      "150/150 [==============================] - 28s 189ms/step - loss: 0.1888 - accuracy: 0.9409 - val_loss: 0.4294 - val_accuracy: 0.8708\n",
      "Epoch 7/50\n",
      "150/150 [==============================] - 28s 187ms/step - loss: 0.1517 - accuracy: 0.9510 - val_loss: 0.4378 - val_accuracy: 0.8792\n",
      "Epoch 8/50\n",
      "150/150 [==============================] - 29s 190ms/step - loss: 0.1633 - accuracy: 0.9439 - val_loss: 0.4321 - val_accuracy: 0.8851\n",
      "Epoch 9/50\n",
      "150/150 [==============================] - 29s 190ms/step - loss: 0.1008 - accuracy: 0.9684 - val_loss: 0.4372 - val_accuracy: 0.8885\n",
      "Epoch 10/50\n",
      "150/150 [==============================] - 28s 188ms/step - loss: 0.1005 - accuracy: 0.9696 - val_loss: 0.4852 - val_accuracy: 0.8877\n",
      "Restoring model weights from the end of the best epoch.\n",
      "Epoch 00010: early stopping\n"
     ]
    },
    {
     "data": {
      "image/png": "[encoded data removed]",
      "text/plain": [
       "<Figure size 432x288 with 2 Axes>"
      ]
     },
     "metadata": {
      "needs_background": "light"
     },
     "output_type": "display_data"
    }
   ],
   "source": [
    "#Experimenting with Inception\n",
    "datagen_train, datagen_valid = set_up_augmentation()\n",
    "\n",
    "model, train_generator, valid_generator\\\n",
    "    , STEP_SIZE_TRAIN, STEP_SIZE_VALID, es = \\\n",
    "    initialize_model(applications.InceptionResNetV2, datagen_train, datagen_valid)\n",
    "\n",
    "history = model.fit_generator(generator=train_generator,\\\n",
    "                    validation_data = valid_generator, \\\n",
    "                    steps_per_epoch=STEP_SIZE_TRAIN, \\\n",
    "                    validation_steps=STEP_SIZE_VALID, \\\n",
    "                    epochs=50, \\\n",
    "                    verbose=1, \\\n",
    "                    callbacks=[es])\n",
    "\n",
    "printHistory(history, 'output/no_aug_INC.jpg')"
   ]
  },
  {
   "cell_type": "code",
   "execution_count": 32,
   "metadata": {},
   "outputs": [
    {
     "name": "stdout",
     "output_type": "stream",
     "text": [
      "Model: \"model_3\"\n",
      "_________________________________________________________________\n",
      "Layer (type)                 Output Shape              Param #   \n",
      "=================================================================\n",
      "image_input (InputLayer)     [(None, 224, 224, 3)]     0         \n",
      "_________________________________________________________________\n",
      "vgg19 (Functional)           (None, 7, 7, 512)         20024384  \n",
      "_________________________________________________________________\n",
      "batch_normalization_12 (Batc (None, 7, 7, 512)         2048      \n",
      "_________________________________________________________________\n",
      "max_pooling2d_3 (MaxPooling2 (None, 4, 4, 512)         0         \n",
      "_________________________________________________________________\n",
      "dropout_12 (Dropout)         (None, 4, 4, 512)         0         \n",
      "_________________________________________________________________\n",
      "flatten_3 (Flatten)          (None, 8192)              0         \n",
      "_________________________________________________________________\n",
      "dense_12 (Dense)             (None, 4096)              33558528  \n",
      "_________________________________________________________________\n",
      "batch_normalization_13 (Batc (None, 4096)              16384     \n",
      "_________________________________________________________________\n",
      "dropout_13 (Dropout)         (None, 4096)              0         \n",
      "_________________________________________________________________\n",
      "dense_13 (Dense)             (None, 1024)              4195328   \n",
      "_________________________________________________________________\n",
      "batch_normalization_14 (Batc (None, 1024)              4096      \n",
      "_________________________________________________________________\n",
      "dropout_14 (Dropout)         (None, 1024)              0         \n",
      "_________________________________________________________________\n",
      "dense_14 (Dense)             (None, 512)               524800    \n",
      "_________________________________________________________________\n",
      "batch_normalization_15 (Batc (None, 512)               2048      \n",
      "_________________________________________________________________\n",
      "dropout_15 (Dropout)         (None, 512)               0         \n",
      "_________________________________________________________________\n",
      "dense_15 (Dense)             (None, 15)                7695      \n",
      "=================================================================\n",
      "Total params: 58,335,311\n",
      "Trainable params: 38,298,639\n",
      "Non-trainable params: 20,036,672\n",
      "_________________________________________________________________\n",
      "Found 4812 non-validated image filenames belonging to 15 classes.\n",
      "Found 1204 non-validated image filenames belonging to 15 classes.\n"
     ]
    },
    {
     "name": "stderr",
     "output_type": "stream",
     "text": [
      "/home/3049637/.conda/envs/tf-gpu/lib/python3.9/site-packages/tensorflow/python/keras/engine/training.py:1844: UserWarning: `Model.fit_generator` is deprecated and will be removed in a future version. Please use `Model.fit`, which supports generators.\n",
      "  warnings.warn('`Model.fit_generator` is deprecated and '\n"
     ]
    },
    {
     "name": "stdout",
     "output_type": "stream",
     "text": [
      "Epoch 1/30\n",
      "150/150 [==============================] - 65s 430ms/step - loss: 1.7937 - accuracy: 0.4948 - val_loss: 0.7199 - val_accuracy: 0.7627\n",
      "Epoch 2/30\n",
      "150/150 [==============================] - 65s 433ms/step - loss: 0.9448 - accuracy: 0.7158 - val_loss: 0.5881 - val_accuracy: 0.8125\n",
      "Epoch 3/30\n",
      "150/150 [==============================] - 65s 432ms/step - loss: 0.8380 - accuracy: 0.7453 - val_loss: 0.5063 - val_accuracy: 0.8497\n",
      "Epoch 4/30\n",
      "150/150 [==============================] - 65s 431ms/step - loss: 0.7562 - accuracy: 0.7745 - val_loss: 0.5201 - val_accuracy: 0.8530\n",
      "Epoch 5/30\n",
      "150/150 [==============================] - 64s 429ms/step - loss: 0.7012 - accuracy: 0.7823 - val_loss: 0.5077 - val_accuracy: 0.8412\n",
      "Epoch 6/30\n",
      "150/150 [==============================] - 64s 429ms/step - loss: 0.6291 - accuracy: 0.8100 - val_loss: 0.4595 - val_accuracy: 0.8649\n",
      "Epoch 7/30\n",
      "150/150 [==============================] - 65s 432ms/step - loss: 0.6602 - accuracy: 0.8062 - val_loss: 0.4525 - val_accuracy: 0.8632\n",
      "Epoch 8/30\n",
      "150/150 [==============================] - 65s 433ms/step - loss: 0.6252 - accuracy: 0.7971 - val_loss: 0.5326 - val_accuracy: 0.8463\n",
      "Epoch 9/30\n",
      "150/150 [==============================] - 65s 436ms/step - loss: 0.5888 - accuracy: 0.8100 - val_loss: 0.4654 - val_accuracy: 0.8725\n",
      "Epoch 10/30\n",
      "150/150 [==============================] - 64s 428ms/step - loss: 0.5574 - accuracy: 0.8240 - val_loss: 0.4750 - val_accuracy: 0.8657\n",
      "Epoch 11/30\n",
      "150/150 [==============================] - 64s 429ms/step - loss: 0.5499 - accuracy: 0.8378 - val_loss: 0.4403 - val_accuracy: 0.8556\n",
      "Epoch 12/30\n",
      "150/150 [==============================] - 64s 430ms/step - loss: 0.5180 - accuracy: 0.8346 - val_loss: 0.4470 - val_accuracy: 0.8640\n",
      "Epoch 13/30\n",
      "150/150 [==============================] - 65s 431ms/step - loss: 0.5392 - accuracy: 0.8351 - val_loss: 0.4193 - val_accuracy: 0.8682\n",
      "Epoch 14/30\n",
      "150/150 [==============================] - 65s 432ms/step - loss: 0.5009 - accuracy: 0.8334 - val_loss: 0.4784 - val_accuracy: 0.8556\n",
      "Epoch 15/30\n",
      "150/150 [==============================] - 65s 432ms/step - loss: 0.4767 - accuracy: 0.8458 - val_loss: 0.4480 - val_accuracy: 0.8691\n",
      "Epoch 16/30\n",
      "150/150 [==============================] - 64s 429ms/step - loss: 0.5012 - accuracy: 0.8393 - val_loss: 0.4377 - val_accuracy: 0.8699\n",
      "Epoch 17/30\n",
      "150/150 [==============================] - 64s 430ms/step - loss: 0.4962 - accuracy: 0.8463 - val_loss: 0.4430 - val_accuracy: 0.8742\n",
      "Epoch 18/30\n",
      "150/150 [==============================] - 64s 427ms/step - loss: 0.4737 - accuracy: 0.8529 - val_loss: 0.4306 - val_accuracy: 0.8699\n",
      "Restoring model weights from the end of the best epoch.\n",
      "Epoch 00018: early stopping\n"
     ]
    },
    {
     "data": {
      "image/png": "[encoded data removed]",
      "text/plain": [
       "<Figure size 432x288 with 2 Axes>"
      ]
     },
     "metadata": {
      "needs_background": "light"
     },
     "output_type": "display_data"
    }
   ],
   "source": [
    "#Trains the model on data generated batch-by-batch by a Python generator\n",
    "datagen_train, datagen_valid = set_up_augmentation(\n",
    "    rotation_range=25,\n",
    "    height_shift_range=0.2, # vertical shift\n",
    "    width_shift_range=.2,\n",
    "    zoom_range=0.1, # zoom\n",
    "    vertical_flip=True,\n",
    "    horizontal_flip=True\n",
    ")\n",
    "\n",
    "model, train_generator, valid_generator\\\n",
    "    , STEP_SIZE_TRAIN, STEP_SIZE_VALID, es = \\\n",
    "    initialize_model(applications.VGG19, datagen_train, datagen_valid)\n",
    "\n",
    "## Adding augmentation -- full augmentatio set reduced overfitting but lowered over all scores\n",
    "history = model.fit_generator(generator=train_generator,\\\n",
    "                    validation_data = valid_generator, \\\n",
    "                    steps_per_epoch=STEP_SIZE_TRAIN, \\\n",
    "                    validation_steps=STEP_SIZE_VALID, \\\n",
    "                    epochs=30, \\\n",
    "                    verbose=1, \\\n",
    "                    callbacks=[es])\n",
    "\n",
    "printHistory(history, 'output/no_aug.jpg')"
   ]
  },
  {
   "cell_type": "code",
   "execution_count": 36,
   "metadata": {},
   "outputs": [
    {
     "name": "stdout",
     "output_type": "stream",
     "text": [
      "Model: \"model_7\"\n",
      "_________________________________________________________________\n",
      "Layer (type)                 Output Shape              Param #   \n",
      "=================================================================\n",
      "image_input (InputLayer)     [(None, 224, 224, 3)]     0         \n",
      "_________________________________________________________________\n",
      "vgg19 (Functional)           (None, 7, 7, 512)         20024384  \n",
      "_________________________________________________________________\n",
      "batch_normalization_231 (Bat (None, 7, 7, 512)         2048      \n",
      "_________________________________________________________________\n",
      "max_pooling2d_11 (MaxPooling (None, 4, 4, 512)         0         \n",
      "_________________________________________________________________\n",
      "dropout_28 (Dropout)         (None, 4, 4, 512)         0         \n",
      "_________________________________________________________________\n",
      "flatten_7 (Flatten)          (None, 8192)              0         \n",
      "_________________________________________________________________\n",
      "dense_28 (Dense)             (None, 4096)              33558528  \n",
      "_________________________________________________________________\n",
      "batch_normalization_232 (Bat (None, 4096)              16384     \n",
      "_________________________________________________________________\n",
      "dropout_29 (Dropout)         (None, 4096)              0         \n",
      "_________________________________________________________________\n",
      "dense_29 (Dense)             (None, 1024)              4195328   \n",
      "_________________________________________________________________\n",
      "batch_normalization_233 (Bat (None, 1024)              4096      \n",
      "_________________________________________________________________\n",
      "dropout_30 (Dropout)         (None, 1024)              0         \n",
      "_________________________________________________________________\n",
      "dense_30 (Dense)             (None, 512)               524800    \n",
      "_________________________________________________________________\n",
      "batch_normalization_234 (Bat (None, 512)               2048      \n",
      "_________________________________________________________________\n",
      "dropout_31 (Dropout)         (None, 512)               0         \n",
      "_________________________________________________________________\n",
      "dense_31 (Dense)             (None, 15)                7695      \n",
      "=================================================================\n",
      "Total params: 58,335,311\n",
      "Trainable params: 38,298,639\n",
      "Non-trainable params: 20,036,672\n",
      "_________________________________________________________________\n",
      "Found 4812 non-validated image filenames belonging to 15 classes.\n",
      "Found 1204 non-validated image filenames belonging to 15 classes.\n"
     ]
    },
    {
     "name": "stderr",
     "output_type": "stream",
     "text": [
      "/home/3049637/.conda/envs/tf-gpu/lib/python3.9/site-packages/tensorflow/python/keras/engine/training.py:1844: UserWarning: `Model.fit_generator` is deprecated and will be removed in a future version. Please use `Model.fit`, which supports generators.\n",
      "  warnings.warn('`Model.fit_generator` is deprecated and '\n"
     ]
    },
    {
     "name": "stdout",
     "output_type": "stream",
     "text": [
      "Epoch 1/30\n",
      "150/150 [==============================] - 63s 415ms/step - loss: 1.6023 - accuracy: 0.5541 - val_loss: 0.6195 - val_accuracy: 0.8159\n",
      "Epoch 2/30\n",
      "150/150 [==============================] - 62s 416ms/step - loss: 0.7825 - accuracy: 0.7680 - val_loss: 0.5663 - val_accuracy: 0.8133\n",
      "Epoch 3/30\n",
      "150/150 [==============================] - 63s 420ms/step - loss: 0.6376 - accuracy: 0.8020 - val_loss: 0.4313 - val_accuracy: 0.8632\n",
      "Epoch 4/30\n",
      "150/150 [==============================] - 62s 416ms/step - loss: 0.5285 - accuracy: 0.8306 - val_loss: 0.4357 - val_accuracy: 0.8632\n",
      "Epoch 5/30\n",
      "150/150 [==============================] - 63s 418ms/step - loss: 0.5525 - accuracy: 0.8302 - val_loss: 0.4894 - val_accuracy: 0.8581\n",
      "Epoch 6/30\n",
      "150/150 [==============================] - 62s 416ms/step - loss: 0.4898 - accuracy: 0.8468 - val_loss: 0.4559 - val_accuracy: 0.8666\n",
      "Epoch 7/30\n",
      "150/150 [==============================] - 63s 418ms/step - loss: 0.4286 - accuracy: 0.8596 - val_loss: 0.4253 - val_accuracy: 0.8725\n",
      "Epoch 8/30\n",
      "150/150 [==============================] - 63s 419ms/step - loss: 0.3966 - accuracy: 0.8679 - val_loss: 0.4425 - val_accuracy: 0.8623\n",
      "Epoch 9/30\n",
      "150/150 [==============================] - 63s 421ms/step - loss: 0.3983 - accuracy: 0.8737 - val_loss: 0.3895 - val_accuracy: 0.8792\n",
      "Epoch 10/30\n",
      "150/150 [==============================] - 63s 417ms/step - loss: 0.3684 - accuracy: 0.8794 - val_loss: 0.4054 - val_accuracy: 0.8792\n",
      "Epoch 11/30\n",
      "150/150 [==============================] - 62s 412ms/step - loss: 0.3609 - accuracy: 0.8851 - val_loss: 0.4194 - val_accuracy: 0.8775\n",
      "Epoch 12/30\n",
      "150/150 [==============================] - 62s 415ms/step - loss: 0.2983 - accuracy: 0.9094 - val_loss: 0.4015 - val_accuracy: 0.8885\n",
      "Epoch 13/30\n",
      "150/150 [==============================] - 62s 416ms/step - loss: 0.3061 - accuracy: 0.9017 - val_loss: 0.4263 - val_accuracy: 0.8809\n",
      "Epoch 14/30\n",
      "150/150 [==============================] - 62s 412ms/step - loss: 0.3029 - accuracy: 0.8990 - val_loss: 0.4102 - val_accuracy: 0.8682\n",
      "Restoring model weights from the end of the best epoch.\n",
      "Epoch 00014: early stopping\n"
     ]
    },
    {
     "data": {
      "image/png": "[encoded data removed]",
      "text/plain": [
       "<Figure size 432x288 with 2 Axes>"
      ]
     },
     "metadata": {
      "needs_background": "light"
     },
     "output_type": "display_data"
    }
   ],
   "source": [
    "#Trains the model on data generated batch-by-batch by a Python generator\n",
    "datagen_train, datagen_valid = set_up_augmentation(\n",
    "    rotation_range=10,\n",
    "    # height_shift_range=0.2, # vertical shift\n",
    "    # width_shift_range=.2,\n",
    "    zoom_range=0.1, # zoom\n",
    "    vertical_flip=True,\n",
    "    horizontal_flip=True\n",
    ")\n",
    "\n",
    "model, train_generator, valid_generator\\\n",
    "    , STEP_SIZE_TRAIN, STEP_SIZE_VALID, es = \\\n",
    "    initialize_model(applications.VGG19, datagen_train, datagen_valid)\n",
    "\n",
    "## testing lower augmentation levels\n",
    "history = model.fit_generator(generator=train_generator,\\\n",
    "                    validation_data = valid_generator, \\\n",
    "                    steps_per_epoch=STEP_SIZE_TRAIN, \\\n",
    "                    validation_steps=STEP_SIZE_VALID, \\\n",
    "                    epochs=30, \\\n",
    "                    verbose=1, \\\n",
    "                    callbacks=[es])\n",
    "\n",
    "printHistory(history, 'output/no_aug.jpg')"
   ]
  },
  {
   "cell_type": "code",
   "execution_count": 39,
   "metadata": {},
   "outputs": [
    {
     "name": "stdout",
     "output_type": "stream",
     "text": [
      "Model: \"model_10\"\n",
      "_________________________________________________________________\n",
      "Layer (type)                 Output Shape              Param #   \n",
      "=================================================================\n",
      "image_input (InputLayer)     [(None, 224, 224, 3)]     0         \n",
      "_________________________________________________________________\n",
      "inception_resnet_v2 (Functio (None, 5, 5, 1536)        54336736  \n",
      "_________________________________________________________________\n",
      "batch_normalization_852 (Bat (None, 5, 5, 1536)        6144      \n",
      "_________________________________________________________________\n",
      "max_pooling2d_26 (MaxPooling (None, 3, 3, 1536)        0         \n",
      "_________________________________________________________________\n",
      "dropout_40 (Dropout)         (None, 3, 3, 1536)        0         \n",
      "_________________________________________________________________\n",
      "flatten_10 (Flatten)         (None, 13824)             0         \n",
      "_________________________________________________________________\n",
      "dense_40 (Dense)             (None, 4096)              56627200  \n",
      "_________________________________________________________________\n",
      "batch_normalization_853 (Bat (None, 4096)              16384     \n",
      "_________________________________________________________________\n",
      "dropout_41 (Dropout)         (None, 4096)              0         \n",
      "_________________________________________________________________\n",
      "dense_41 (Dense)             (None, 1024)              4195328   \n",
      "_________________________________________________________________\n",
      "batch_normalization_854 (Bat (None, 1024)              4096      \n",
      "_________________________________________________________________\n",
      "dropout_42 (Dropout)         (None, 1024)              0         \n",
      "_________________________________________________________________\n",
      "dense_42 (Dense)             (None, 512)               524800    \n",
      "_________________________________________________________________\n",
      "batch_normalization_855 (Bat (None, 512)               2048      \n",
      "_________________________________________________________________\n",
      "dropout_43 (Dropout)         (None, 512)               0         \n",
      "_________________________________________________________________\n",
      "dense_43 (Dense)             (None, 15)                7695      \n",
      "=================================================================\n",
      "Total params: 115,720,431\n",
      "Trainable params: 61,369,359\n",
      "Non-trainable params: 54,351,072\n",
      "_________________________________________________________________\n",
      "Found 4812 non-validated image filenames belonging to 15 classes.\n",
      "Found 1204 non-validated image filenames belonging to 15 classes.\n"
     ]
    },
    {
     "name": "stderr",
     "output_type": "stream",
     "text": [
      "/home/3049637/.conda/envs/tf-gpu/lib/python3.9/site-packages/tensorflow/python/keras/engine/training.py:1844: UserWarning: `Model.fit_generator` is deprecated and will be removed in a future version. Please use `Model.fit`, which supports generators.\n",
      "  warnings.warn('`Model.fit_generator` is deprecated and '\n"
     ]
    },
    {
     "name": "stdout",
     "output_type": "stream",
     "text": [
      "Epoch 1/40\n",
      "150/150 [==============================] - 74s 439ms/step - loss: 1.6914 - accuracy: 0.5374 - val_loss: 0.7645 - val_accuracy: 0.7660\n",
      "Epoch 2/40\n",
      "150/150 [==============================] - 63s 422ms/step - loss: 0.9287 - accuracy: 0.7254 - val_loss: 0.6481 - val_accuracy: 0.8032\n",
      "Epoch 3/40\n",
      "150/150 [==============================] - 63s 422ms/step - loss: 0.7245 - accuracy: 0.7754 - val_loss: 0.6253 - val_accuracy: 0.8032\n",
      "Epoch 4/40\n",
      "150/150 [==============================] - 62s 415ms/step - loss: 0.7270 - accuracy: 0.7692 - val_loss: 0.5673 - val_accuracy: 0.8235\n",
      "Epoch 5/40\n",
      "150/150 [==============================] - 63s 423ms/step - loss: 0.6389 - accuracy: 0.7981 - val_loss: 0.5533 - val_accuracy: 0.8209\n",
      "Epoch 6/40\n",
      "150/150 [==============================] - 63s 420ms/step - loss: 0.6353 - accuracy: 0.8022 - val_loss: 0.5378 - val_accuracy: 0.8412\n",
      "Epoch 7/40\n",
      "150/150 [==============================] - 63s 420ms/step - loss: 0.5296 - accuracy: 0.8280 - val_loss: 0.5412 - val_accuracy: 0.8311\n",
      "Epoch 8/40\n",
      "150/150 [==============================] - 63s 420ms/step - loss: 0.5217 - accuracy: 0.8355 - val_loss: 0.5455 - val_accuracy: 0.8319\n",
      "Epoch 9/40\n",
      "150/150 [==============================] - 63s 421ms/step - loss: 0.5135 - accuracy: 0.8365 - val_loss: 0.5169 - val_accuracy: 0.8446\n",
      "Epoch 10/40\n",
      "150/150 [==============================] - 64s 425ms/step - loss: 0.4738 - accuracy: 0.8493 - val_loss: 0.4738 - val_accuracy: 0.8505\n",
      "Epoch 11/40\n",
      "150/150 [==============================] - 63s 420ms/step - loss: 0.4655 - accuracy: 0.8507 - val_loss: 0.4751 - val_accuracy: 0.8446\n",
      "Epoch 12/40\n",
      "150/150 [==============================] - 63s 417ms/step - loss: 0.4408 - accuracy: 0.8653 - val_loss: 0.4379 - val_accuracy: 0.8564\n",
      "Epoch 13/40\n",
      "150/150 [==============================] - 62s 415ms/step - loss: 0.4093 - accuracy: 0.8725 - val_loss: 0.4634 - val_accuracy: 0.8522\n",
      "Epoch 14/40\n",
      "150/150 [==============================] - 63s 417ms/step - loss: 0.4387 - accuracy: 0.8514 - val_loss: 0.4686 - val_accuracy: 0.8454\n",
      "Epoch 15/40\n",
      "150/150 [==============================] - 63s 419ms/step - loss: 0.4168 - accuracy: 0.8727 - val_loss: 0.4870 - val_accuracy: 0.8480\n",
      "Epoch 16/40\n",
      "150/150 [==============================] - 63s 419ms/step - loss: 0.3913 - accuracy: 0.8690 - val_loss: 0.4505 - val_accuracy: 0.8564\n",
      "Epoch 17/40\n",
      "150/150 [==============================] - 63s 420ms/step - loss: 0.3611 - accuracy: 0.8902 - val_loss: 0.4560 - val_accuracy: 0.8590\n",
      "Restoring model weights from the end of the best epoch.\n",
      "Epoch 00017: early stopping\n"
     ]
    },
    {
     "data": {
      "image/png": "[encoded data removed]",
      "text/plain": [
       "<Figure size 432x288 with 2 Axes>"
      ]
     },
     "metadata": {
      "needs_background": "light"
     },
     "output_type": "display_data"
    }
   ],
   "source": [
    "#Trains the model on data generated batch-by-batch by a Python generator\n",
    "datagen_train, datagen_valid = set_up_augmentation(\n",
    "    rotation_range=90,\n",
    "    # height_shift_range=0.2, # vertical shift\n",
    "    # width_shift_range=.2,\n",
    "    # zoom_range=0.2, # zoom\n",
    "    # vertical_flip=True,\n",
    "    horizontal_flip=True\n",
    ")\n",
    "\n",
    "model, train_generator, valid_generator\\\n",
    "    , STEP_SIZE_TRAIN, STEP_SIZE_VALID, es = \\\n",
    "    initialize_model(applications.InceptionResNetV2, datagen_train, datagen_valid)\n",
    "\n",
    "## testing lower augmentation levels\n",
    "history = model.fit_generator(generator=train_generator,\\\n",
    "                    validation_data = valid_generator, \\\n",
    "                    steps_per_epoch=STEP_SIZE_TRAIN, \\\n",
    "                    validation_steps=STEP_SIZE_VALID, \\\n",
    "                    epochs=40, \\\n",
    "                    verbose=1, \\\n",
    "                    callbacks=[es])\n",
    "\n",
    "printHistory(history, 'output/aug_INC.jpg')"
   ]
  },
  {
   "cell_type": "markdown",
   "metadata": {},
   "source": [
    "##### Final model training and evaluation"
   ]
  },
  {
   "cell_type": "code",
   "execution_count": 20,
   "metadata": {},
   "outputs": [
    {
     "name": "stdout",
     "output_type": "stream",
     "text": [
      "Model: \"model_4\"\n",
      "_________________________________________________________________\n",
      "Layer (type)                 Output Shape              Param #   \n",
      "=================================================================\n",
      "image_input (InputLayer)     [(None, 224, 224, 3)]     0         \n",
      "_________________________________________________________________\n",
      "vgg19 (Functional)           (None, 7, 7, 512)         20024384  \n",
      "_________________________________________________________________\n",
      "batch_normalization_16 (Batc (None, 7, 7, 512)         2048      \n",
      "_________________________________________________________________\n",
      "max_pooling2d_4 (MaxPooling2 (None, 4, 4, 512)         0         \n",
      "_________________________________________________________________\n",
      "dropout_16 (Dropout)         (None, 4, 4, 512)         0         \n",
      "_________________________________________________________________\n",
      "flatten_4 (Flatten)          (None, 8192)              0         \n",
      "_________________________________________________________________\n",
      "dense_16 (Dense)             (None, 4096)              33558528  \n",
      "_________________________________________________________________\n",
      "batch_normalization_17 (Batc (None, 4096)              16384     \n",
      "_________________________________________________________________\n",
      "dropout_17 (Dropout)         (None, 4096)              0         \n",
      "_________________________________________________________________\n",
      "dense_17 (Dense)             (None, 1024)              4195328   \n",
      "_________________________________________________________________\n",
      "batch_normalization_18 (Batc (None, 1024)              4096      \n",
      "_________________________________________________________________\n",
      "dropout_18 (Dropout)         (None, 1024)              0         \n",
      "_________________________________________________________________\n",
      "dense_18 (Dense)             (None, 512)               524800    \n",
      "_________________________________________________________________\n",
      "batch_normalization_19 (Batc (None, 512)               2048      \n",
      "_________________________________________________________________\n",
      "dropout_19 (Dropout)         (None, 512)               0         \n",
      "_________________________________________________________________\n",
      "dense_19 (Dense)             (None, 15)                7695      \n",
      "=================================================================\n",
      "Total params: 58,335,311\n",
      "Trainable params: 38,298,639\n",
      "Non-trainable params: 20,036,672\n",
      "_________________________________________________________________\n",
      "Found 4812 non-validated image filenames belonging to 15 classes.\n",
      "Found 1204 non-validated image filenames belonging to 15 classes.\n"
     ]
    },
    {
     "name": "stderr",
     "output_type": "stream",
     "text": [
      "/home/3049637/.conda/envs/tf-gpu/lib/python3.9/site-packages/tensorflow/python/keras/engine/training.py:1844: UserWarning: `Model.fit_generator` is deprecated and will be removed in a future version. Please use `Model.fit`, which supports generators.\n",
      "  warnings.warn('`Model.fit_generator` is deprecated and '\n"
     ]
    },
    {
     "name": "stdout",
     "output_type": "stream",
     "text": [
      "Epoch 1/50\n",
      "150/150 [==============================] - 42s 270ms/step - loss: 1.7769 - accuracy: 0.4993 - val_loss: 0.7993 - val_accuracy: 0.7559\n",
      "Epoch 2/50\n",
      "150/150 [==============================] - 40s 266ms/step - loss: 0.8830 - accuracy: 0.7321 - val_loss: 0.5919 - val_accuracy: 0.8193\n",
      "Epoch 3/50\n",
      "150/150 [==============================] - 38s 255ms/step - loss: 0.7266 - accuracy: 0.7806 - val_loss: 0.5302 - val_accuracy: 0.8378\n",
      "Epoch 4/50\n",
      "150/150 [==============================] - 40s 263ms/step - loss: 0.6319 - accuracy: 0.8023 - val_loss: 0.5318 - val_accuracy: 0.8429\n",
      "Epoch 5/50\n",
      "150/150 [==============================] - 40s 269ms/step - loss: 0.6069 - accuracy: 0.8127 - val_loss: 0.5184 - val_accuracy: 0.8454\n",
      "Epoch 6/50\n",
      "150/150 [==============================] - 39s 257ms/step - loss: 0.5847 - accuracy: 0.8222 - val_loss: 0.4777 - val_accuracy: 0.8522\n",
      "Epoch 7/50\n",
      "150/150 [==============================] - 40s 266ms/step - loss: 0.5445 - accuracy: 0.8214 - val_loss: 0.4620 - val_accuracy: 0.8699\n",
      "Epoch 8/50\n",
      "150/150 [==============================] - 38s 255ms/step - loss: 0.5046 - accuracy: 0.8362 - val_loss: 0.4954 - val_accuracy: 0.8547\n",
      "Epoch 9/50\n",
      "150/150 [==============================] - 39s 261ms/step - loss: 0.4901 - accuracy: 0.8428 - val_loss: 0.5094 - val_accuracy: 0.8530\n",
      "Epoch 10/50\n",
      "150/150 [==============================] - 39s 261ms/step - loss: 0.4545 - accuracy: 0.8592 - val_loss: 0.5121 - val_accuracy: 0.8581\n",
      "Epoch 11/50\n",
      "150/150 [==============================] - 40s 264ms/step - loss: 0.4779 - accuracy: 0.8515 - val_loss: 0.4780 - val_accuracy: 0.8699\n",
      "Epoch 12/50\n",
      "150/150 [==============================] - 38s 255ms/step - loss: 0.4399 - accuracy: 0.8610 - val_loss: 0.4973 - val_accuracy: 0.8539\n",
      "Restoring model weights from the end of the best epoch.\n",
      "Epoch 00012: early stopping\n"
     ]
    },
    {
     "data": {
      "image/png": "[encoded data removed]",
      "text/plain": [
       "<Figure size 432x288 with 2 Axes>"
      ]
     },
     "metadata": {
      "needs_background": "light"
     },
     "output_type": "display_data"
    }
   ],
   "source": [
    "# Training the final model VGG no augmentations\n",
    "#Experimenting with Inception\n",
    "datagen_train, datagen_valid = set_up_augmentation(\n",
    "    rotation_range=25,\n",
    "    guassian_blur=0.25,\n",
    "    zoom = 0.2,\n",
    "    horizontal_flip=0.5\n",
    ")\n",
    "\n",
    "model, train_generator, valid_generator\\\n",
    "    , STEP_SIZE_TRAIN, STEP_SIZE_VALID, es = \\\n",
    "    initialize_model(applications.VGG19, datagen_train, datagen_valid, 15, data=train)\n",
    "\n",
    "history = model.fit_generator(generator=train_generator,\\\n",
    "                    validation_data = valid_generator, \\\n",
    "                    steps_per_epoch=STEP_SIZE_TRAIN, \\\n",
    "                    validation_steps=STEP_SIZE_VALID, \\\n",
    "                    epochs=50, \\\n",
    "                    verbose=1, \\\n",
    "                    callbacks=[es])\n",
    "\n",
    "printHistory(history, 'output/chart_final_newaug.jpg')\n",
    "model.save(\"models/chart_cls.h5\")"
   ]
  },
  {
   "cell_type": "code",
   "execution_count": 21,
   "metadata": {},
   "outputs": [
    {
     "name": "stderr",
     "output_type": "stream",
     "text": [
      "/home/3049637/.conda/envs/tf-gpu/lib/python3.9/site-packages/tensorflow/python/keras/engine/training.py:1905: UserWarning: `Model.predict_generator` is deprecated and will be removed in a future version. Please use `Model.predict`, which supports generators.\n",
      "  warnings.warn('`Model.predict_generator` is deprecated and '\n"
     ]
    }
   ],
   "source": [
    "# get predict prob and label \n",
    "ypred = model.predict_generator(valid_generator)\n",
    "\n",
    "y_true = valid_generator.classes\n",
    "ypred = np.argmax(ypred, axis=1)"
   ]
  },
  {
   "cell_type": "code",
   "execution_count": 22,
   "metadata": {},
   "outputs": [
    {
     "name": "stdout",
     "output_type": "stream",
     "text": [
      "Classification Report\n",
      "              precision    recall  f1-score   support\n",
      "\n",
      "           0       0.87      0.89      0.88        54\n",
      "           1       0.88      0.95      0.92        86\n",
      "           2       0.75      0.80      0.77        54\n",
      "           3       0.85      0.85      0.85        53\n",
      "           4       0.76      0.78      0.77        54\n",
      "           5       0.73      0.84      0.78        49\n",
      "           6       0.81      0.67      0.73        45\n",
      "           7       0.79      0.68      0.73        56\n",
      "           8       0.99      0.96      0.97       384\n",
      "           9       0.96      0.75      0.84        59\n",
      "          10       0.92      0.92      0.92        62\n",
      "          11       0.70      0.76      0.73        58\n",
      "          12       0.85      0.95      0.90        85\n",
      "          13       0.63      0.68      0.65        50\n",
      "          14       0.88      0.91      0.89        55\n",
      "\n",
      "    accuracy                           0.87      1204\n",
      "   macro avg       0.83      0.82      0.82      1204\n",
      "weighted avg       0.87      0.87      0.87      1204\n",
      "\n"
     ]
    }
   ],
   "source": [
    "print('Classification Report')\n",
    "print(classification_report(y_true, ypred))"
   ]
  },
  {
   "cell_type": "code",
   "execution_count": 23,
   "metadata": {},
   "outputs": [
    {
     "name": "stdout",
     "output_type": "stream",
     "text": [
      "Confusion Matrix\n",
      "[[ 48   1   2   0   0   1   0   0   1   1   0   0   0   0   0]\n",
      " [  1  82   2   0   0   1   0   0   0   0   0   0   0   0   0]\n",
      " [  0   2  43   0   0   2   0   0   0   0   0   4   2   1   0]\n",
      " [  0   0   0  45   0   0   0   0   0   0   2   2   2   1   1]\n",
      " [  0   0   3   0  42   0   0   4   0   0   0   0   1   4   0]\n",
      " [  0   0   0   0   0  41   0   1   0   1   0   3   2   1   0]\n",
      " [  3   0   0   2   0   3  30   0   0   0   0   6   1   0   0]\n",
      " [  0   0   1   1   4   0   1  38   1   0   0   0   0   9   1]\n",
      " [  2   2   0   0   2   0   5   0 369   0   1   0   1   0   2]\n",
      " [  0   6   3   0   0   1   0   1   0  44   0   1   2   1   0]\n",
      " [  0   0   0   2   0   0   0   0   0   0  57   0   0   1   2]\n",
      " [  1   0   1   0   0   5   0   1   0   0   0  44   3   2   1]\n",
      " [  0   0   2   1   0   0   0   0   0   0   0   1  81   0   0]\n",
      " [  0   0   0   0   6   2   1   3   2   0   0   2   0  34   0]\n",
      " [  0   0   0   2   1   0   0   0   0   0   2   0   0   0  50]]\n"
     ]
    },
    {
     "data": {
      "image/png": "[encoded data removed]",
      "text/plain": [
       "<Figure size 720x504 with 2 Axes>"
      ]
     },
     "metadata": {
      "needs_background": "light"
     },
     "output_type": "display_data"
    }
   ],
   "source": [
    "from sklearn.metrics import classification_report, confusion_matrix\n",
    "\n",
    "print('Confusion Matrix')\n",
    "cf_matrix = confusion_matrix(y_true, ypred)\n",
    "print(cf_matrix)\n",
    "\n",
    "import seaborn as sns\n",
    "\n",
    "target_names = ['AreaGraph', 'BarGraph', \n",
    "        'BoxPlot', 'BubbleChart', \n",
    "        'FlowChart', 'LineGraph',\n",
    "        'Map', 'NetworkDiagram',\n",
    "        'Not_chart', 'ParetoChart',\n",
    "        'PieChart', 'ScatterGraph',\n",
    "        'Table', 'TreeDiagram',\n",
    "        'VennDiagram']\n",
    "\n",
    "y_pred = ypred\n",
    "\n",
    "cm = confusion_matrix(y_true, y_pred)\n",
    "df_cm = pd.DataFrame(cm, index = target_names,\n",
    "                  columns = target_names)\n",
    "plt.figure(figsize = (10,7))\n",
    "sns.heatmap(df_cm, annot=True)\n",
    "plt.title('Confusion matrix')\n",
    "\n",
    "\n",
    "plt.savefig('output/nature_cls_confusion_M')\n",
    "\n",
    "## Display the visualization of the Confusion Matrix.\n",
    "plt.show()"
   ]
  },
  {
   "cell_type": "code",
   "execution_count": 21,
   "metadata": {},
   "outputs": [
    {
     "name": "stderr",
     "output_type": "stream",
     "text": [
      "100%|██████████| 1204/1204 [00:48<00:00, 24.82it/s]\n"
     ]
    },
    {
     "data": {
      "text/html": [
       "<div>\n",
       "<style scoped>\n",
       "    .dataframe tbody tr th:only-of-type {\n",
       "        vertical-align: middle;\n",
       "    }\n",
       "\n",
       "    .dataframe tbody tr th {\n",
       "        vertical-align: top;\n",
       "    }\n",
       "\n",
       "    .dataframe thead th {\n",
       "        text-align: right;\n",
       "    }\n",
       "</style>\n",
       "<table border=\"1\" class=\"dataframe\">\n",
       "  <thead>\n",
       "    <tr style=\"text-align: right;\">\n",
       "      <th></th>\n",
       "      <th>chart</th>\n",
       "      <th>type</th>\n",
       "      <th>code</th>\n",
       "      <th>transparency</th>\n",
       "      <th>prediction</th>\n",
       "    </tr>\n",
       "  </thead>\n",
       "  <tbody>\n",
       "    <tr>\n",
       "      <th>4675</th>\n",
       "      <td>PNXGF_2019_SustainabilityReport_28_Im60_jpg.rf...</td>\n",
       "      <td>Not_chart</td>\n",
       "      <td>8</td>\n",
       "      <td>False</td>\n",
       "      <td>8</td>\n",
       "    </tr>\n",
       "    <tr>\n",
       "      <th>5693</th>\n",
       "      <td>GS_2019_SustainabilityReport_43_Im8798_jpg.rf....</td>\n",
       "      <td>Not_chart</td>\n",
       "      <td>8</td>\n",
       "      <td>False</td>\n",
       "      <td>8</td>\n",
       "    </tr>\n",
       "    <tr>\n",
       "      <th>1434</th>\n",
       "      <td>75.compliance-reporting-process-flow-chart.png</td>\n",
       "      <td>FlowChart</td>\n",
       "      <td>4</td>\n",
       "      <td>False</td>\n",
       "      <td>4</td>\n",
       "    </tr>\n",
       "    <tr>\n",
       "      <th>5441</th>\n",
       "      <td>CAT_2015_SustainabilityReport_51_Im62_jpg.rf.3...</td>\n",
       "      <td>Not_chart</td>\n",
       "      <td>8</td>\n",
       "      <td>False</td>\n",
       "      <td>8</td>\n",
       "    </tr>\n",
       "    <tr>\n",
       "      <th>5695</th>\n",
       "      <td>COO_2019_SustainabilityReport_23_Im15357_jpg.r...</td>\n",
       "      <td>Not_chart</td>\n",
       "      <td>8</td>\n",
       "      <td>False</td>\n",
       "      <td>8</td>\n",
       "    </tr>\n",
       "    <tr>\n",
       "      <th>...</th>\n",
       "      <td>...</td>\n",
       "      <td>...</td>\n",
       "      <td>...</td>\n",
       "      <td>...</td>\n",
       "      <td>...</td>\n",
       "    </tr>\n",
       "    <tr>\n",
       "      <th>285</th>\n",
       "      <td>127.7uh73.png</td>\n",
       "      <td>BarGraph</td>\n",
       "      <td>1</td>\n",
       "      <td>False</td>\n",
       "      <td>1</td>\n",
       "    </tr>\n",
       "    <tr>\n",
       "      <th>855</th>\n",
       "      <td>330.boxplot6.jpg</td>\n",
       "      <td>BoxPlot</td>\n",
       "      <td>2</td>\n",
       "      <td>False</td>\n",
       "      <td>2</td>\n",
       "    </tr>\n",
       "    <tr>\n",
       "      <th>2916</th>\n",
       "      <td>295.ggplot2-scatter-plot-logo-data-visualizati...</td>\n",
       "      <td>ScatterGraph</td>\n",
       "      <td>11</td>\n",
       "      <td>False</td>\n",
       "      <td>5</td>\n",
       "    </tr>\n",
       "    <tr>\n",
       "      <th>1276</th>\n",
       "      <td>180.ceqa_process_chart.gif</td>\n",
       "      <td>FlowChart</td>\n",
       "      <td>4</td>\n",
       "      <td>False</td>\n",
       "      <td>4</td>\n",
       "    </tr>\n",
       "    <tr>\n",
       "      <th>444</th>\n",
       "      <td>252.p76-1.jpg</td>\n",
       "      <td>BarGraph</td>\n",
       "      <td>1</td>\n",
       "      <td>False</td>\n",
       "      <td>1</td>\n",
       "    </tr>\n",
       "  </tbody>\n",
       "</table>\n",
       "<p>1204 rows × 5 columns</p>\n",
       "</div>"
      ],
      "text/plain": [
       "                                                  chart          type  code  \\\n",
       "4675  PNXGF_2019_SustainabilityReport_28_Im60_jpg.rf...     Not_chart     8   \n",
       "5693  GS_2019_SustainabilityReport_43_Im8798_jpg.rf....     Not_chart     8   \n",
       "1434     75.compliance-reporting-process-flow-chart.png     FlowChart     4   \n",
       "5441  CAT_2015_SustainabilityReport_51_Im62_jpg.rf.3...     Not_chart     8   \n",
       "5695  COO_2019_SustainabilityReport_23_Im15357_jpg.r...     Not_chart     8   \n",
       "...                                                 ...           ...   ...   \n",
       "285                                       127.7uh73.png      BarGraph     1   \n",
       "855                                    330.boxplot6.jpg       BoxPlot     2   \n",
       "2916  295.ggplot2-scatter-plot-logo-data-visualizati...  ScatterGraph    11   \n",
       "1276                         180.ceqa_process_chart.gif     FlowChart     4   \n",
       "444                                       252.p76-1.jpg      BarGraph     1   \n",
       "\n",
       "      transparency  prediction  \n",
       "4675         False           8  \n",
       "5693         False           8  \n",
       "1434         False           4  \n",
       "5441         False           8  \n",
       "5695         False           8  \n",
       "...            ...         ...  \n",
       "285          False           1  \n",
       "855          False           2  \n",
       "2916         False           5  \n",
       "1276         False           4  \n",
       "444          False           1  \n",
       "\n",
       "[1204 rows x 5 columns]"
      ]
     },
     "execution_count": 21,
     "metadata": {},
     "output_type": "execute_result"
    }
   ],
   "source": [
    "# # Now we predict the validation iimages one by one to ensure they match\n",
    "# from tqdm import tqdm\n",
    "# tqdm.pandas()\n",
    "\n",
    "# def predict_img(img):\n",
    "#   # example of converting an image with the Keras API\n",
    "#   from tensorflow.keras.preprocessing.image import load_img\n",
    "#   from tensorflow.keras.preprocessing.image import img_to_array\n",
    "\n",
    "#   img_path = os.path.join(DIR_, 'Images/Images', img)\n",
    "#   image = np.expand_dims(img_to_array(load_img(img_path, target_size=(224, 224))) / 255, axis=0)\n",
    "#   pred = model.predict(image)\n",
    "  \n",
    "#   return np.argmax(pred, axis=1)[0]\n",
    "\n",
    "# test['prediction'] = test.chart.progress_map(lambda x: predict_img(x))\n",
    "# test"
   ]
  },
  {
   "cell_type": "code",
   "execution_count": 22,
   "metadata": {},
   "outputs": [
    {
     "data": {
      "image/png": "[encoded data removed]",
      "text/plain": [
       "<Figure size 720x504 with 2 Axes>"
      ]
     },
     "metadata": {
      "needs_background": "light"
     },
     "output_type": "display_data"
    },
    {
     "name": "stdout",
     "output_type": "stream",
     "text": [
      "Classification Report\n",
      "                precision    recall  f1-score   support\n",
      "\n",
      "     AreaGraph       0.84      0.89      0.86        54\n",
      "      BarGraph       0.92      0.88      0.90        86\n",
      "       BoxPlot       0.77      0.76      0.77        54\n",
      "   BubbleChart       0.85      0.75      0.80        53\n",
      "     FlowChart       0.80      0.76      0.78        54\n",
      "     LineGraph       0.77      0.88      0.82        49\n",
      "           Map       0.68      0.67      0.67        45\n",
      "NetworkDiagram       0.54      0.82      0.65        56\n",
      "     Not_chart       0.97      0.98      0.97       384\n",
      "   ParetoChart       0.92      0.83      0.88        59\n",
      "      PieChart       0.93      0.89      0.91        62\n",
      "  ScatterGraph       0.83      0.59      0.69        58\n",
      "         Table       0.87      0.95      0.91        85\n",
      "   TreeDiagram       0.88      0.56      0.68        50\n",
      "   VennDiagram       0.81      0.93      0.86        55\n",
      "\n",
      "      accuracy                           0.86      1204\n",
      "     macro avg       0.83      0.81      0.81      1204\n",
      "  weighted avg       0.87      0.86      0.86      1204\n",
      "\n"
     ]
    }
   ],
   "source": [
    "# Confution Matrix and Classification Report\n",
    "import seaborn as sns\n",
    "\n",
    "target_names = ['AreaGraph', 'BarGraph', \n",
    "        'BoxPlot', 'BubbleChart', \n",
    "        'FlowChart', 'LineGraph',\n",
    "        'Map', 'NetworkDiagram',\n",
    "        'Not_chart', 'ParetoChart',\n",
    "        'PieChart', 'ScatterGraph',\n",
    "        'Table', 'TreeDiagram',\n",
    "        'VennDiagram']\n",
    "\n",
    "y_pred = test.prediction\n",
    "y_true = test.code\n",
    "\n",
    "cm = confusion_matrix(y_true, y_pred)\n",
    "df_cm = pd.DataFrame(cm, index = target_names,\n",
    "                  columns = target_names)\n",
    "plt.figure(figsize = (10,7))\n",
    "sns.heatmap(df_cm, annot=True)\n",
    "plt.title('Confusion matrix')\n",
    "plt.savefig('output/confusion_matrx_chart.jpg')\n",
    "plt.show()\n",
    "\n",
    "\n",
    "print('Classification Report')\n",
    "print(classification_report(y_true, y_pred, target_names=target_names))"
   ]
  },
  {
   "cell_type": "markdown",
   "metadata": {},
   "source": [
    "#### Now we attempt to train a classifier to identify inverted images"
   ]
  },
  {
   "cell_type": "code",
   "execution_count": 24,
   "metadata": {},
   "outputs": [],
   "source": [
    "# Load the data\n",
    "\n",
    "DIR_inv = 'Data/inverted_cls/'\n",
    "inverted_folders = os.listdir(DIR_inv)"
   ]
  },
  {
   "cell_type": "code",
   "execution_count": 30,
   "metadata": {},
   "outputs": [],
   "source": [
    "import shutil\n",
    "\n",
    "d = []\n",
    "for c in inverted_folders:\n",
    "    if c != 'Agg_images':\n",
    "        classes_path = os.path.join(DIR_inv, c)\n",
    "\n",
    "        img_files = os.listdir(classes_path)\n",
    "        \n",
    "        for img in img_files:\n",
    "            \n",
    "            img_src = os.path.join(DIR_inv, c, img)\n",
    "            img_dest = os.path.join(DIR_inv, 'Agg_images', img)\n",
    "\n",
    "            shutil.copy(img_src, img_dest)\n",
    "\n",
    "            d.append(\n",
    "                {\n",
    "                    'filename': img,\n",
    "                    'class': c\n",
    "                }\n",
    "            )\n",
    "\n",
    "inv_train = pd.DataFrame(d)\n",
    "inv_train.to_csv(os.path.join(DIR_inv, 'train.csv'))"
   ]
  },
  {
   "cell_type": "code",
   "execution_count": 26,
   "metadata": {},
   "outputs": [
    {
     "name": "stdout",
     "output_type": "stream",
     "text": [
      "2 (10111, 4)\n"
     ]
    },
    {
     "data": {
      "text/html": [
       "<div>\n",
       "<style scoped>\n",
       "    .dataframe tbody tr th:only-of-type {\n",
       "        vertical-align: middle;\n",
       "    }\n",
       "\n",
       "    .dataframe tbody tr th {\n",
       "        vertical-align: top;\n",
       "    }\n",
       "\n",
       "    .dataframe thead th {\n",
       "        text-align: right;\n",
       "    }\n",
       "</style>\n",
       "<table border=\"1\" class=\"dataframe\">\n",
       "  <thead>\n",
       "    <tr style=\"text-align: right;\">\n",
       "      <th></th>\n",
       "      <th>Unnamed: 0</th>\n",
       "      <th>filename</th>\n",
       "      <th>class</th>\n",
       "      <th>code</th>\n",
       "    </tr>\n",
       "  </thead>\n",
       "  <tbody>\n",
       "    <tr>\n",
       "      <th>0</th>\n",
       "      <td>0</td>\n",
       "      <td>3M_2017_SustainabilityReport_105_Im145.jpg</td>\n",
       "      <td>Clean</td>\n",
       "      <td>0</td>\n",
       "    </tr>\n",
       "    <tr>\n",
       "      <th>1</th>\n",
       "      <td>1</td>\n",
       "      <td>3M_2015_SustainabilityReport_119_Im78.jpg</td>\n",
       "      <td>Clean</td>\n",
       "      <td>0</td>\n",
       "    </tr>\n",
       "    <tr>\n",
       "      <th>2</th>\n",
       "      <td>2</td>\n",
       "      <td>3M_2017_SustainabilityReport_105_Im150.jpg</td>\n",
       "      <td>Clean</td>\n",
       "      <td>0</td>\n",
       "    </tr>\n",
       "    <tr>\n",
       "      <th>3</th>\n",
       "      <td>3</td>\n",
       "      <td>3M_2015_SustainabilityReport_123_Im82.jpg</td>\n",
       "      <td>Clean</td>\n",
       "      <td>0</td>\n",
       "    </tr>\n",
       "    <tr>\n",
       "      <th>4</th>\n",
       "      <td>4</td>\n",
       "      <td>3M_2017_SustainabilityReport_105_Im151.jpg</td>\n",
       "      <td>Clean</td>\n",
       "      <td>0</td>\n",
       "    </tr>\n",
       "  </tbody>\n",
       "</table>\n",
       "</div>"
      ],
      "text/plain": [
       "   Unnamed: 0                                    filename  class  code\n",
       "0           0  3M_2017_SustainabilityReport_105_Im145.jpg  Clean     0\n",
       "1           1   3M_2015_SustainabilityReport_119_Im78.jpg  Clean     0\n",
       "2           2  3M_2017_SustainabilityReport_105_Im150.jpg  Clean     0\n",
       "3           3   3M_2015_SustainabilityReport_123_Im82.jpg  Clean     0\n",
       "4           4  3M_2017_SustainabilityReport_105_Im151.jpg  Clean     0"
      ]
     },
     "execution_count": 26,
     "metadata": {},
     "output_type": "execute_result"
    }
   ],
   "source": [
    "inv_train = pd.read_csv('Data/inverted_cls/train.csv')\n",
    "\n",
    "inv_train['code'] = inv_train['class'].astype('category').cat.codes\n",
    "print(len(inv_train.code.unique()), inv_train.shape)\n",
    "inv_train.head()"
   ]
  },
  {
   "cell_type": "code",
   "execution_count": 27,
   "metadata": {},
   "outputs": [],
   "source": [
    "from sklearn.model_selection import train_test_split\n",
    "\n",
    "train, test = train_test_split(inv_train, test_size=0.2, random_state=420)"
   ]
  },
  {
   "cell_type": "code",
   "execution_count": 30,
   "metadata": {},
   "outputs": [],
   "source": [
    "def initialize_model_inv(Model_name, datagen_train,datagen_valid, final_classes):\n",
    "    model = createModel(Model_name, final_classes)\n",
    "\n",
    "    train_generator = datagen_train.flow_from_dataframe(dataframe=train,\n",
    "                                            directory=os.path.join(DIR_inv,'Agg_images'),\n",
    "                                            x_col=\"filename\",\n",
    "                                            y_col=\"class\",\n",
    "                                            batch_size=32,\n",
    "                                            seed=42,\n",
    "                                            color_mode=\"rgb\",\n",
    "                                            shuffle=True,\n",
    "                                            class_mode=\"categorical\",\n",
    "                                            target_size=(224, 224)\n",
    "                                            , validate_filenames=False\n",
    "                                            );\n",
    "\n",
    "    valid_generator=datagen_valid.flow_from_dataframe(dataframe=test,\n",
    "                                            directory=os.path.join(DIR_inv,'Agg_images'),\n",
    "                                            x_col=\"filename\",\n",
    "                                            y_col=\"class\",\n",
    "                                            batch_size=32,\n",
    "                                            seed=42,\n",
    "                                            color_mode=\"rgb\",\n",
    "                                            shuffle=False,\n",
    "                                            class_mode=\"categorical\",\n",
    "                                            target_size=(224, 224)\n",
    "                                            , validate_filenames=False\n",
    "                                            );\n",
    "\n",
    "    STEP_SIZE_TRAIN=train_generator.n//train_generator.batch_size\n",
    "    STEP_SIZE_VALID=valid_generator.n//valid_generator.batch_size\n",
    "\n",
    "\n",
    "    es = EarlyStopping(monitor='val_loss', mode='min', verbose=1, patience=5, restore_best_weights=True)\n",
    "\n",
    "    return model, train_generator, valid_generator, STEP_SIZE_TRAIN, STEP_SIZE_VALID, es"
   ]
  },
  {
   "cell_type": "code",
   "execution_count": 37,
   "metadata": {},
   "outputs": [
    {
     "name": "stdout",
     "output_type": "stream",
     "text": [
      "Model: \"model_8\"\n",
      "_________________________________________________________________\n",
      "Layer (type)                 Output Shape              Param #   \n",
      "=================================================================\n",
      "image_input (InputLayer)     [(None, 224, 224, 3)]     0         \n",
      "_________________________________________________________________\n",
      "inception_resnet_v2 (Functio (None, 5, 5, 1536)        54336736  \n",
      "_________________________________________________________________\n",
      "batch_normalization_844 (Bat (None, 5, 5, 1536)        6144      \n",
      "_________________________________________________________________\n",
      "max_pooling2d_24 (MaxPooling (None, 3, 3, 1536)        0         \n",
      "_________________________________________________________________\n",
      "dropout_32 (Dropout)         (None, 3, 3, 1536)        0         \n",
      "_________________________________________________________________\n",
      "flatten_8 (Flatten)          (None, 13824)             0         \n",
      "_________________________________________________________________\n",
      "dense_32 (Dense)             (None, 4096)              56627200  \n",
      "_________________________________________________________________\n",
      "batch_normalization_845 (Bat (None, 4096)              16384     \n",
      "_________________________________________________________________\n",
      "dropout_33 (Dropout)         (None, 4096)              0         \n",
      "_________________________________________________________________\n",
      "dense_33 (Dense)             (None, 1024)              4195328   \n",
      "_________________________________________________________________\n",
      "batch_normalization_846 (Bat (None, 1024)              4096      \n",
      "_________________________________________________________________\n",
      "dropout_34 (Dropout)         (None, 1024)              0         \n",
      "_________________________________________________________________\n",
      "dense_34 (Dense)             (None, 512)               524800    \n",
      "_________________________________________________________________\n",
      "batch_normalization_847 (Bat (None, 512)               2048      \n",
      "_________________________________________________________________\n",
      "dropout_35 (Dropout)         (None, 512)               0         \n",
      "_________________________________________________________________\n",
      "dense_35 (Dense)             (None, 2)                 1026      \n",
      "=================================================================\n",
      "Total params: 115,713,762\n",
      "Trainable params: 61,362,690\n",
      "Non-trainable params: 54,351,072\n",
      "_________________________________________________________________\n",
      "Found 8088 non-validated image filenames belonging to 2 classes.\n",
      "Found 2023 non-validated image filenames belonging to 2 classes.\n"
     ]
    },
    {
     "name": "stderr",
     "output_type": "stream",
     "text": [
      "/home/3049637/.conda/envs/tf-gpu/lib/python3.9/site-packages/tensorflow/python/keras/engine/training.py:1844: UserWarning: `Model.fit_generator` is deprecated and will be removed in a future version. Please use `Model.fit`, which supports generators.\n",
      "  warnings.warn('`Model.fit_generator` is deprecated and '\n"
     ]
    },
    {
     "name": "stdout",
     "output_type": "stream",
     "text": [
      "Epoch 1/50\n",
      "252/252 [==============================] - 86s 311ms/step - loss: 0.6554 - accuracy: 0.7554 - val_loss: 0.4846 - val_accuracy: 0.8452\n",
      "Epoch 2/50\n",
      "252/252 [==============================] - 76s 301ms/step - loss: 0.3985 - accuracy: 0.8476 - val_loss: 0.4247 - val_accuracy: 0.8636\n",
      "Epoch 3/50\n",
      "252/252 [==============================] - 74s 295ms/step - loss: 0.3349 - accuracy: 0.8731 - val_loss: 0.3113 - val_accuracy: 0.8849\n",
      "Epoch 4/50\n",
      "252/252 [==============================] - 74s 295ms/step - loss: 0.2733 - accuracy: 0.8917 - val_loss: 0.2812 - val_accuracy: 0.9018\n",
      "Epoch 5/50\n",
      "252/252 [==============================] - 75s 298ms/step - loss: 0.2544 - accuracy: 0.8989 - val_loss: 0.2477 - val_accuracy: 0.9117\n",
      "Epoch 6/50\n",
      "252/252 [==============================] - 74s 294ms/step - loss: 0.2224 - accuracy: 0.9206 - val_loss: 0.2524 - val_accuracy: 0.9117\n",
      "Epoch 7/50\n",
      "252/252 [==============================] - 75s 299ms/step - loss: 0.1807 - accuracy: 0.9320 - val_loss: 0.2647 - val_accuracy: 0.9142\n",
      "Epoch 8/50\n",
      "252/252 [==============================] - 75s 296ms/step - loss: 0.1938 - accuracy: 0.9239 - val_loss: 0.2145 - val_accuracy: 0.9127\n",
      "Epoch 9/50\n",
      "252/252 [==============================] - 75s 298ms/step - loss: 0.1848 - accuracy: 0.9256 - val_loss: 0.2156 - val_accuracy: 0.9211\n",
      "Epoch 10/50\n",
      "252/252 [==============================] - 75s 298ms/step - loss: 0.1606 - accuracy: 0.9391 - val_loss: 0.2276 - val_accuracy: 0.9201\n",
      "Epoch 11/50\n",
      "252/252 [==============================] - 76s 303ms/step - loss: 0.1570 - accuracy: 0.9404 - val_loss: 0.2085 - val_accuracy: 0.9246\n",
      "Epoch 12/50\n",
      "252/252 [==============================] - 74s 293ms/step - loss: 0.1442 - accuracy: 0.9477 - val_loss: 0.2097 - val_accuracy: 0.9256\n",
      "Epoch 13/50\n",
      "252/252 [==============================] - 73s 290ms/step - loss: 0.1312 - accuracy: 0.9526 - val_loss: 0.2050 - val_accuracy: 0.9291\n",
      "Epoch 14/50\n",
      "252/252 [==============================] - 74s 295ms/step - loss: 0.1213 - accuracy: 0.9573 - val_loss: 0.2043 - val_accuracy: 0.9296\n",
      "Epoch 15/50\n",
      "252/252 [==============================] - 73s 291ms/step - loss: 0.1249 - accuracy: 0.9541 - val_loss: 0.2241 - val_accuracy: 0.9236\n",
      "Epoch 16/50\n",
      "252/252 [==============================] - 74s 292ms/step - loss: 0.1084 - accuracy: 0.9612 - val_loss: 0.2052 - val_accuracy: 0.9311\n",
      "Epoch 17/50\n",
      "252/252 [==============================] - 74s 292ms/step - loss: 0.1009 - accuracy: 0.9644 - val_loss: 0.2041 - val_accuracy: 0.9350\n",
      "Epoch 18/50\n",
      "252/252 [==============================] - 74s 292ms/step - loss: 0.1040 - accuracy: 0.9622 - val_loss: 0.2223 - val_accuracy: 0.9256\n",
      "Epoch 19/50\n",
      "252/252 [==============================] - 72s 287ms/step - loss: 0.1084 - accuracy: 0.9587 - val_loss: 0.2011 - val_accuracy: 0.9355\n",
      "Epoch 20/50\n",
      "252/252 [==============================] - 73s 290ms/step - loss: 0.1053 - accuracy: 0.9615 - val_loss: 0.2210 - val_accuracy: 0.9281\n",
      "Epoch 21/50\n",
      "252/252 [==============================] - 72s 286ms/step - loss: 0.0924 - accuracy: 0.9660 - val_loss: 0.1995 - val_accuracy: 0.9370\n",
      "Epoch 22/50\n",
      "252/252 [==============================] - 72s 286ms/step - loss: 0.0821 - accuracy: 0.9730 - val_loss: 0.1996 - val_accuracy: 0.9375\n",
      "Epoch 23/50\n",
      "252/252 [==============================] - 71s 282ms/step - loss: 0.0955 - accuracy: 0.9653 - val_loss: 0.2228 - val_accuracy: 0.9296\n",
      "Epoch 24/50\n",
      "252/252 [==============================] - 72s 284ms/step - loss: 0.0980 - accuracy: 0.9664 - val_loss: 0.2024 - val_accuracy: 0.9325\n",
      "Epoch 25/50\n",
      "252/252 [==============================] - 73s 289ms/step - loss: 0.0980 - accuracy: 0.9660 - val_loss: 0.2094 - val_accuracy: 0.9340\n",
      "Epoch 26/50\n",
      "252/252 [==============================] - 73s 288ms/step - loss: 0.0809 - accuracy: 0.9716 - val_loss: 0.2212 - val_accuracy: 0.9315\n",
      "Restoring model weights from the end of the best epoch.\n",
      "Epoch 00026: early stopping\n"
     ]
    },
    {
     "data": {
      "image/png": "[encoded data removed]",
      "text/plain": [
       "<Figure size 432x288 with 2 Axes>"
      ]
     },
     "metadata": {
      "needs_background": "light"
     },
     "output_type": "display_data"
    }
   ],
   "source": [
    "datagen_train, datagen_valid = set_up_augmentation(\n",
    "    rotation_range=25,\n",
    "    # guassian_blur=0.25,\n",
    "    # zoom = 0.2,\n",
    "    horizontal_flip=0.5\n",
    ")\n",
    "\n",
    "model, train_generator, valid_generator\\\n",
    "    , STEP_SIZE_TRAIN, STEP_SIZE_VALID, es = \\\n",
    "    initialize_model_inv(applications.InceptionResNetV2, datagen_train, datagen_valid, 2)\n",
    "\n",
    "history = model.fit_generator(generator=train_generator,\\\n",
    "                    validation_data = valid_generator, \\\n",
    "                    steps_per_epoch=STEP_SIZE_TRAIN, \\\n",
    "                    validation_steps=STEP_SIZE_VALID, \\\n",
    "                    epochs=50, \\\n",
    "                    verbose=1, \\\n",
    "                    callbacks=[es])\n",
    "\n",
    "printHistory(history, 'output/inverted_final_newaug.jpg')\n",
    "model.save(\"models/inverted_cls.h5\")"
   ]
  },
  {
   "cell_type": "code",
   "execution_count": 33,
   "metadata": {},
   "outputs": [
    {
     "name": "stderr",
     "output_type": "stream",
     "text": [
      "/home/3049637/.conda/envs/tf-gpu/lib/python3.9/site-packages/tensorflow/python/keras/engine/training.py:1905: UserWarning: `Model.predict_generator` is deprecated and will be removed in a future version. Please use `Model.predict`, which supports generators.\n",
      "  warnings.warn('`Model.predict_generator` is deprecated and '\n"
     ]
    }
   ],
   "source": [
    "# get predict prob and label \n",
    "ypred = model.predict_generator(valid_generator)\n",
    "\n",
    "y_true = valid_generator.classes\n",
    "ypred = np.argmax(ypred, axis=1)"
   ]
  },
  {
   "cell_type": "code",
   "execution_count": 34,
   "metadata": {},
   "outputs": [
    {
     "name": "stdout",
     "output_type": "stream",
     "text": [
      "Confusion Matrix\n",
      "[[949  80]\n",
      " [ 53 941]]\n"
     ]
    },
    {
     "data": {
      "image/png": "[encoded data removed]",
      "text/plain": [
       "<Figure size 720x504 with 2 Axes>"
      ]
     },
     "metadata": {
      "needs_background": "light"
     },
     "output_type": "display_data"
    },
    {
     "name": "stdout",
     "output_type": "stream",
     "text": [
      "Classification Report\n",
      "              precision    recall  f1-score   support\n",
      "\n",
      "       Clean       0.95      0.92      0.93      1029\n",
      "    Inverted       0.92      0.95      0.93       994\n",
      "\n",
      "    accuracy                           0.93      2023\n",
      "   macro avg       0.93      0.93      0.93      2023\n",
      "weighted avg       0.93      0.93      0.93      2023\n",
      "\n"
     ]
    }
   ],
   "source": [
    "from sklearn.metrics import classification_report, confusion_matrix\n",
    "\n",
    "print('Confusion Matrix')\n",
    "cf_matrix = confusion_matrix(y_true, ypred)\n",
    "print(cf_matrix)\n",
    "\n",
    "import seaborn as sns\n",
    "\n",
    "target_names = ['Clean', 'Inverted']\n",
    "\n",
    "y_pred = ypred\n",
    "\n",
    "cm = confusion_matrix(y_true, y_pred)\n",
    "df_cm = pd.DataFrame(cm, index = target_names,\n",
    "                  columns = target_names)\n",
    "plt.figure(figsize = (10,7))\n",
    "sns.heatmap(df_cm, annot=True)\n",
    "plt.title('Confusion matrix')\n",
    "\n",
    "\n",
    "plt.savefig('output/nature_cls_confusion_M')\n",
    "\n",
    "## Display the visualization of the Confusion Matrix.\n",
    "plt.show()\n",
    "\n",
    "print('Classification Report')\n",
    "print(classification_report(y_true, ypred, target_names=target_names))"
   ]
  },
  {
   "cell_type": "code",
   "execution_count": null,
   "metadata": {},
   "outputs": [],
   "source": []
  }
 ],
 "metadata": {
  "kernelspec": {
   "display_name": "Python 3.9.7 ('tf-gpu')",
   "language": "python",
   "name": "python3"
  },
  "language_info": {
   "codemirror_mode": {
    "name": "ipython",
    "version": 3
   },
   "file_extension": ".py",
   "mimetype": "text/x-python",
   "name": "python",
   "nbconvert_exporter": "python",
   "pygments_lexer": "ipython3",
   "version": "3.9.7"
  },
  "orig_nbformat": 4,
  "vscode": {
   "interpreter": {
    "hash": "d5053a38874775f3fd31bdcf8476db41f9fd936cc6a4484ab25ae54cfbc6823b"
   }
  }
 },
 "nbformat": 4,
 "nbformat_minor": 2
}
