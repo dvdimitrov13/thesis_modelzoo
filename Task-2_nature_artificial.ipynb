{
 "cells": [
  {
   "cell_type": "code",
   "execution_count": 1,
   "metadata": {},
   "outputs": [
    {
     "name": "stderr",
     "output_type": "stream",
     "text": [
      "2022-06-22 11:28:24.188275: I tensorflow/stream_executor/platform/default/dso_loader.cc:49] Successfully opened dynamic library libcudart.so.10.1\n"
     ]
    }
   ],
   "source": [
    "import os, urllib\n",
    "import numpy as np\n",
    "import pandas as pd\n",
    "import tensorflow as tf\n",
    "import matplotlib.pyplot as plt\n",
    "import matplotlib.image as mpimg\n",
    "from PIL import Image\n",
    "from tensorflow.keras.models import model_from_json\n",
    "from sklearn.model_selection import StratifiedKFold\n",
    "from sklearn.metrics import classification_report, confusion_matrix\n",
    "from tensorflow.keras import applications\n",
    "from tensorflow.keras import optimizers\n",
    "from tensorflow.keras.callbacks import EarlyStopping\n",
    "from tensorflow.keras.models import Sequential, Model\n",
    "from tensorflow.keras.layers import Input, Dense, BatchNormalization, Dropout, Flatten, MaxPooling2D\n",
    "from tensorflow.keras.preprocessing.image import ImageDataGenerator"
   ]
  },
  {
   "cell_type": "code",
   "execution_count": 2,
   "metadata": {},
   "outputs": [],
   "source": [
    "# Load the data\n",
    "\n",
    "DIR_inv = 'Data/nature_cls/train_data'\n",
    "folders = os.listdir(DIR_inv)"
   ]
  },
  {
   "cell_type": "code",
   "execution_count": 8,
   "metadata": {},
   "outputs": [],
   "source": [
    "import shutil\n",
    "\n",
    "d = []\n",
    "for c in folders:\n",
    "    if c != 'Agg_images':\n",
    "        classes_path = os.path.join(DIR_inv, c)\n",
    "\n",
    "        img_files = os.listdir(classes_path)\n",
    "        \n",
    "        for img in img_files:\n",
    "            \n",
    "            img_src = os.path.join(DIR_inv, c, img)\n",
    "            img_dest = os.path.join('Data/nature_cls', 'Agg_images', img)\n",
    "\n",
    "            shutil.copy(img_src, img_dest)\n",
    "\n",
    "            d.append(\n",
    "                {\n",
    "                    'filename': img,\n",
    "                    'class': c\n",
    "                }\n",
    "            )\n",
    "\n",
    "train = pd.DataFrame(d)\n",
    "train.to_csv(os.path.join('Data/nature_cls', 'train.csv'))"
   ]
  },
  {
   "cell_type": "code",
   "execution_count": 3,
   "metadata": {},
   "outputs": [
    {
     "name": "stdout",
     "output_type": "stream",
     "text": [
      "3 (2966, 3)\n"
     ]
    },
    {
     "data": {
      "text/html": [
       "<div>\n",
       "<style scoped>\n",
       "    .dataframe tbody tr th:only-of-type {\n",
       "        vertical-align: middle;\n",
       "    }\n",
       "\n",
       "    .dataframe tbody tr th {\n",
       "        vertical-align: top;\n",
       "    }\n",
       "\n",
       "    .dataframe thead th {\n",
       "        text-align: right;\n",
       "    }\n",
       "</style>\n",
       "<table border=\"1\" class=\"dataframe\">\n",
       "  <thead>\n",
       "    <tr style=\"text-align: right;\">\n",
       "      <th></th>\n",
       "      <th>filename</th>\n",
       "      <th>class</th>\n",
       "      <th>code</th>\n",
       "    </tr>\n",
       "  </thead>\n",
       "  <tbody>\n",
       "    <tr>\n",
       "      <th>0</th>\n",
       "      <td>10134.jpg</td>\n",
       "      <td>Nature</td>\n",
       "      <td>0</td>\n",
       "    </tr>\n",
       "    <tr>\n",
       "      <th>1</th>\n",
       "      <td>1.jpg</td>\n",
       "      <td>Nature</td>\n",
       "      <td>0</td>\n",
       "    </tr>\n",
       "    <tr>\n",
       "      <th>2</th>\n",
       "      <td>10135.jpg</td>\n",
       "      <td>Nature</td>\n",
       "      <td>0</td>\n",
       "    </tr>\n",
       "    <tr>\n",
       "      <th>3</th>\n",
       "      <td>10.jpg</td>\n",
       "      <td>Nature</td>\n",
       "      <td>0</td>\n",
       "    </tr>\n",
       "    <tr>\n",
       "      <th>4</th>\n",
       "      <td>10136.jpg</td>\n",
       "      <td>Nature</td>\n",
       "      <td>0</td>\n",
       "    </tr>\n",
       "  </tbody>\n",
       "</table>\n",
       "</div>"
      ],
      "text/plain": [
       "    filename   class  code\n",
       "0  10134.jpg  Nature     0\n",
       "1      1.jpg  Nature     0\n",
       "2  10135.jpg  Nature     0\n",
       "3     10.jpg  Nature     0\n",
       "4  10136.jpg  Nature     0"
      ]
     },
     "execution_count": 3,
     "metadata": {},
     "output_type": "execute_result"
    }
   ],
   "source": [
    "train = pd.read_csv('Data/nature_cls/train.csv').iloc[:,1:]\n",
    "\n",
    "train['code'] = train['class'].astype('category').cat.codes\n",
    "print(len(train.code.unique()), train.shape)\n",
    "train.head()"
   ]
  },
  {
   "cell_type": "code",
   "execution_count": 4,
   "metadata": {},
   "outputs": [],
   "source": [
    "from sklearn.model_selection import train_test_split\n",
    "\n",
    "train, test = train_test_split(train, test_size=0.2, random_state=420)"
   ]
  },
  {
   "cell_type": "code",
   "execution_count": 5,
   "metadata": {},
   "outputs": [],
   "source": [
    "def createModel(Model_name, final_classes):\n",
    "    vgg_model = Model_name(weights = \"imagenet\", include_top=False, input_shape = (224, 224, 3))\n",
    "\n",
    "    for layer in vgg_model.layers:\n",
    "        layer.trainable=False\n",
    "        \n",
    "    input = Input(shape=(224, 224, 3), name = 'image_input')\n",
    "    output_vgg19_conv = vgg_model(input)\n",
    "\n",
    "    x = BatchNormalization()(output_vgg19_conv)\n",
    "    x = MaxPooling2D(pool_size=(2, 2), padding='same')(x)\n",
    "    x = Dropout(0.3)(x)\n",
    "\n",
    "    x = Flatten()(x)\n",
    "    x = Dense(4096, activation='relu')(x)\n",
    "    x = BatchNormalization()(x)\n",
    "    x = Dropout(0.5)(x)\n",
    "\n",
    "    x = Dense(1024, activation='relu')(x)\n",
    "    x = BatchNormalization()(x)\n",
    "    x = Dropout(0.5)(x)\n",
    "\n",
    "    x = Dense(512, activation='relu')(x)\n",
    "    x = BatchNormalization()(x)\n",
    "    x = Dropout(0.3)(x)\n",
    "\n",
    "    x = Dense(final_classes, activation='softmax')(x)\n",
    "\n",
    "    model = Model(inputs=input, outputs=x)\n",
    "\n",
    "    model.summary()\n",
    "\n",
    "    model.compile(loss = \"categorical_crossentropy\",\n",
    "              optimizer = optimizers.Adadelta(lr = 1.0, rho = 0.95, epsilon = 1e-08, decay = 0.0),\n",
    "              metrics = ['accuracy'])\n",
    "    \n",
    "    return model"
   ]
  },
  {
   "cell_type": "code",
   "execution_count": 6,
   "metadata": {},
   "outputs": [],
   "source": [
    "def initialize_model_inv(Model_name, datagen_train,datagen_valid, final_classes):\n",
    "    model = createModel(Model_name, final_classes)\n",
    "\n",
    "    train_generator = datagen_train.flow_from_dataframe(dataframe=train,\n",
    "                                            directory=os.path.join('Data/nature_cls/','Agg_images'),\n",
    "                                            x_col=\"filename\",\n",
    "                                            y_col=\"class\",\n",
    "                                            batch_size=32,\n",
    "                                            seed=42,\n",
    "                                            color_mode=\"rgb\",\n",
    "                                            shuffle=True,\n",
    "                                            class_mode=\"categorical\",\n",
    "                                            target_size=(224, 224)\n",
    "                                            , validate_filenames=False\n",
    "                                            );\n",
    "\n",
    "    valid_generator=datagen_valid.flow_from_dataframe(dataframe=test,\n",
    "                                            directory=os.path.join('Data/nature_cls/','Agg_images'),\n",
    "                                            x_col=\"filename\",\n",
    "                                            y_col=\"class\",\n",
    "                                            batch_size=32,\n",
    "                                            seed=42,\n",
    "                                            color_mode=\"rgb\",\n",
    "                                            shuffle=False,\n",
    "                                            class_mode=\"categorical\",\n",
    "                                            target_size=(224, 224)\n",
    "                                            , validate_filenames=False\n",
    "                                            );\n",
    "\n",
    "    STEP_SIZE_TRAIN=train_generator.n//train_generator.batch_size\n",
    "    STEP_SIZE_VALID=valid_generator.n//valid_generator.batch_size\n",
    "\n",
    "\n",
    "    es = EarlyStopping(monitor='val_loss', mode='min', verbose=1, patience=5, restore_best_weights=True)\n",
    "\n",
    "    return model, train_generator, valid_generator, STEP_SIZE_TRAIN, STEP_SIZE_VALID, es"
   ]
  },
  {
   "cell_type": "code",
   "execution_count": 11,
   "metadata": {},
   "outputs": [],
   "source": [
    "def set_up_augmentation(\n",
    "    rotation_range=0,\n",
    "    guassian_blur=0, # vertical shift\n",
    "    zoom = 0,\n",
    "    horizontal_flip=0\n",
    "):\n",
    "    import imgaug as ia\n",
    "    import imgaug.augmenters as iaa\n",
    "\n",
    "    ia.seed(1411)\n",
    "\n",
    "    seq = iaa.Sequential([\n",
    "        iaa.Fliplr(horizontal_flip), # horizontal flips\n",
    "        iaa.Crop(percent=(0, zoom)), # random crops\n",
    "        # iaa.LinearContrast((0.75, 1.5)),\n",
    "        # Small gaussian blur with random sigma between 0 and 1.0.\n",
    "        # But we only blur about 25% of all images.\n",
    "        iaa.Sometimes(\n",
    "            guassian_blur,\n",
    "            iaa.GaussianBlur(sigma=(0, 1.0))\n",
    "        ),\n",
    "        # Apply affine transformations to each image.\n",
    "        # Scale/zoom them, translate/move them, rotate them and shear them.\n",
    "        iaa.Sometimes(\n",
    "        0.30, \n",
    "        iaa.Affine(rotate=(-rotation_range, rotation_range))\n",
    "        )\n",
    "    ], random_order=True) # apply augmenters in random order\n",
    "\n",
    "\n",
    "    datagen_train = ImageDataGenerator(rescale=1./255.,\n",
    "        preprocessing_function=seq.augment_image\n",
    "    )\n",
    "\n",
    "    datagen_valid = ImageDataGenerator(rescale=1./255)\n",
    "\n",
    "    return datagen_train, datagen_valid"
   ]
  },
  {
   "cell_type": "code",
   "execution_count": 9,
   "metadata": {},
   "outputs": [],
   "source": [
    "def printHistory(history, filename):\n",
    "    fig, (ax1, ax2) = plt.subplots(1,2)\n",
    "    fig.suptitle('VGG-19')\n",
    "    \n",
    "    \n",
    "    ax1.set_title('Accuracy')\n",
    "    ax1.set_ylabel('accuracy')\n",
    "    ax1.set_xlabel('epoch')\n",
    "    ax1.legend(['train', 'val'], loc='upper left')\n",
    "    ax1.plot(history.history['accuracy'])\n",
    "    ax1.plot(history.history['val_accuracy'])\n",
    "    \n",
    "    ax2.set_title('Loss')\n",
    "    ax2.set_ylabel('loss')\n",
    "    ax2.set_xlabel('epoch')\n",
    "    ax2.legend(['train', 'val'], loc='upper left')\n",
    "    ax2.plot(history.history['loss'])\n",
    "    ax2.plot(history.history['val_loss'])\n",
    "\n",
    "    plt.savefig(filename)\n",
    "\n",
    "    plt.show()"
   ]
  },
  {
   "cell_type": "code",
   "execution_count": 18,
   "metadata": {},
   "outputs": [
    {
     "name": "stdout",
     "output_type": "stream",
     "text": [
      "Model: \"model_2\"\n",
      "_________________________________________________________________\n",
      "Layer (type)                 Output Shape              Param #   \n",
      "=================================================================\n",
      "image_input (InputLayer)     [(None, 224, 224, 3)]     0         \n",
      "_________________________________________________________________\n",
      "vgg19 (Functional)           (None, 7, 7, 512)         20024384  \n",
      "_________________________________________________________________\n",
      "batch_normalization_8 (Batch (None, 7, 7, 512)         2048      \n",
      "_________________________________________________________________\n",
      "max_pooling2d_5 (MaxPooling2 (None, 4, 4, 512)         0         \n",
      "_________________________________________________________________\n",
      "dropout_8 (Dropout)          (None, 4, 4, 512)         0         \n",
      "_________________________________________________________________\n",
      "flatten_2 (Flatten)          (None, 8192)              0         \n",
      "_________________________________________________________________\n",
      "dense_8 (Dense)              (None, 4096)              33558528  \n",
      "_________________________________________________________________\n",
      "batch_normalization_9 (Batch (None, 4096)              16384     \n",
      "_________________________________________________________________\n",
      "dropout_9 (Dropout)          (None, 4096)              0         \n",
      "_________________________________________________________________\n",
      "dense_9 (Dense)              (None, 1024)              4195328   \n",
      "_________________________________________________________________\n",
      "batch_normalization_10 (Batc (None, 1024)              4096      \n",
      "_________________________________________________________________\n",
      "dropout_10 (Dropout)         (None, 1024)              0         \n",
      "_________________________________________________________________\n",
      "dense_10 (Dense)             (None, 512)               524800    \n",
      "_________________________________________________________________\n",
      "batch_normalization_11 (Batc (None, 512)               2048      \n",
      "_________________________________________________________________\n",
      "dropout_11 (Dropout)         (None, 512)               0         \n",
      "_________________________________________________________________\n",
      "dense_11 (Dense)             (None, 3)                 1539      \n",
      "=================================================================\n",
      "Total params: 58,329,155\n",
      "Trainable params: 38,292,483\n",
      "Non-trainable params: 20,036,672\n",
      "_________________________________________________________________\n",
      "Found 2372 non-validated image filenames belonging to 3 classes.\n",
      "Found 594 non-validated image filenames belonging to 3 classes.\n",
      "Epoch 1/50\n"
     ]
    },
    {
     "name": "stderr",
     "output_type": "stream",
     "text": [
      "/home/3049637/.conda/envs/tf-gpu/lib/python3.9/site-packages/tensorflow/python/keras/engine/training.py:1844: UserWarning: `Model.fit_generator` is deprecated and will be removed in a future version. Please use `Model.fit`, which supports generators.\n",
      "  warnings.warn('`Model.fit_generator` is deprecated and '\n"
     ]
    },
    {
     "name": "stdout",
     "output_type": "stream",
     "text": [
      "74/74 [==============================] - 31s 414ms/step - loss: 0.8345 - accuracy: 0.7159 - val_loss: 0.4933 - val_accuracy: 0.7795\n",
      "Epoch 2/50\n",
      "74/74 [==============================] - 11s 153ms/step - loss: 0.3578 - accuracy: 0.8823 - val_loss: 0.3982 - val_accuracy: 0.8472\n",
      "Epoch 3/50\n",
      "74/74 [==============================] - 11s 146ms/step - loss: 0.2325 - accuracy: 0.9270 - val_loss: 0.3251 - val_accuracy: 0.8854\n",
      "Epoch 4/50\n",
      "74/74 [==============================] - 11s 142ms/step - loss: 0.1860 - accuracy: 0.9309 - val_loss: 0.3139 - val_accuracy: 0.8854\n",
      "Epoch 5/50\n",
      "74/74 [==============================] - 11s 145ms/step - loss: 0.1305 - accuracy: 0.9571 - val_loss: 0.3083 - val_accuracy: 0.9010\n",
      "Epoch 6/50\n",
      "74/74 [==============================] - 11s 143ms/step - loss: 0.0770 - accuracy: 0.9730 - val_loss: 0.3571 - val_accuracy: 0.8889\n",
      "Epoch 7/50\n",
      "74/74 [==============================] - 11s 144ms/step - loss: 0.0902 - accuracy: 0.9685 - val_loss: 0.3716 - val_accuracy: 0.8976\n",
      "Epoch 8/50\n",
      "74/74 [==============================] - 10s 140ms/step - loss: 0.0694 - accuracy: 0.9749 - val_loss: 0.4305 - val_accuracy: 0.8889\n",
      "Epoch 9/50\n",
      "74/74 [==============================] - 10s 140ms/step - loss: 0.0702 - accuracy: 0.9782 - val_loss: 0.3918 - val_accuracy: 0.9028\n",
      "Epoch 10/50\n",
      "74/74 [==============================] - 11s 143ms/step - loss: 0.0436 - accuracy: 0.9844 - val_loss: 0.4120 - val_accuracy: 0.9028\n",
      "Restoring model weights from the end of the best epoch.\n",
      "Epoch 00010: early stopping\n"
     ]
    },
    {
     "data": {
      "image/png": "[encoded data removed]",
      "text/plain": [
       "<Figure size 432x288 with 2 Axes>"
      ]
     },
     "metadata": {
      "needs_background": "light"
     },
     "output_type": "display_data"
    }
   ],
   "source": [
    "# Training \n",
    "datagen_train, datagen_valid = set_up_augmentation(\n",
    "\n",
    ")\n",
    "\n",
    "model, train_generator, valid_generator\\\n",
    "    , STEP_SIZE_TRAIN, STEP_SIZE_VALID, es = \\\n",
    "    initialize_model_inv(applications.VGG19, datagen_train, datagen_valid, 3)\n",
    "\n",
    "history = model.fit_generator(generator=train_generator,\\\n",
    "                    validation_data = valid_generator, \\\n",
    "                    steps_per_epoch=STEP_SIZE_TRAIN, \\\n",
    "                    validation_steps=STEP_SIZE_VALID, \\\n",
    "                    epochs=50, \\\n",
    "                    verbose=1, \\\n",
    "                    callbacks=[es])\n",
    "\n",
    "printHistory(history, 'output/nature_vgg.jpg')"
   ]
  },
  {
   "cell_type": "code",
   "execution_count": 19,
   "metadata": {},
   "outputs": [
    {
     "name": "stdout",
     "output_type": "stream",
     "text": [
      "Model: \"model_3\"\n",
      "_________________________________________________________________\n",
      "Layer (type)                 Output Shape              Param #   \n",
      "=================================================================\n",
      "image_input (InputLayer)     [(None, 224, 224, 3)]     0         \n",
      "_________________________________________________________________\n",
      "inception_resnet_v2 (Functio (None, 5, 5, 1536)        54336736  \n",
      "_________________________________________________________________\n",
      "batch_normalization_215 (Bat (None, 5, 5, 1536)        6144      \n",
      "_________________________________________________________________\n",
      "max_pooling2d_10 (MaxPooling (None, 3, 3, 1536)        0         \n",
      "_________________________________________________________________\n",
      "dropout_12 (Dropout)         (None, 3, 3, 1536)        0         \n",
      "_________________________________________________________________\n",
      "flatten_3 (Flatten)          (None, 13824)             0         \n",
      "_________________________________________________________________\n",
      "dense_12 (Dense)             (None, 4096)              56627200  \n",
      "_________________________________________________________________\n",
      "batch_normalization_216 (Bat (None, 4096)              16384     \n",
      "_________________________________________________________________\n",
      "dropout_13 (Dropout)         (None, 4096)              0         \n",
      "_________________________________________________________________\n",
      "dense_13 (Dense)             (None, 1024)              4195328   \n",
      "_________________________________________________________________\n",
      "batch_normalization_217 (Bat (None, 1024)              4096      \n",
      "_________________________________________________________________\n",
      "dropout_14 (Dropout)         (None, 1024)              0         \n",
      "_________________________________________________________________\n",
      "dense_14 (Dense)             (None, 512)               524800    \n",
      "_________________________________________________________________\n",
      "batch_normalization_218 (Bat (None, 512)               2048      \n",
      "_________________________________________________________________\n",
      "dropout_15 (Dropout)         (None, 512)               0         \n",
      "_________________________________________________________________\n",
      "dense_15 (Dense)             (None, 3)                 1539      \n",
      "=================================================================\n",
      "Total params: 115,714,275\n",
      "Trainable params: 61,363,203\n",
      "Non-trainable params: 54,351,072\n",
      "_________________________________________________________________\n",
      "Found 2372 non-validated image filenames belonging to 3 classes.\n",
      "Found 594 non-validated image filenames belonging to 3 classes.\n",
      "Epoch 1/50\n"
     ]
    },
    {
     "name": "stderr",
     "output_type": "stream",
     "text": [
      "/home/3049637/.conda/envs/tf-gpu/lib/python3.9/site-packages/tensorflow/python/keras/engine/training.py:1844: UserWarning: `Model.fit_generator` is deprecated and will be removed in a future version. Please use `Model.fit`, which supports generators.\n",
      "  warnings.warn('`Model.fit_generator` is deprecated and '\n"
     ]
    },
    {
     "name": "stdout",
     "output_type": "stream",
     "text": [
      "74/74 [==============================] - 84s 187ms/step - loss: 0.6828 - accuracy: 0.7860 - val_loss: 0.5209 - val_accuracy: 0.8976\n",
      "Epoch 2/50\n",
      "74/74 [==============================] - 82s 1s/step - loss: 0.2155 - accuracy: 0.9242 - val_loss: 0.4520 - val_accuracy: 0.8976\n",
      "Epoch 3/50\n",
      "74/74 [==============================] - 11s 145ms/step - loss: 0.1671 - accuracy: 0.9437 - val_loss: 0.4046 - val_accuracy: 0.9184\n",
      "Epoch 4/50\n",
      "74/74 [==============================] - 11s 144ms/step - loss: 0.1349 - accuracy: 0.9595 - val_loss: 0.3160 - val_accuracy: 0.9149\n",
      "Epoch 5/50\n",
      "74/74 [==============================] - 11s 146ms/step - loss: 0.1088 - accuracy: 0.9654 - val_loss: 0.3374 - val_accuracy: 0.9115\n",
      "Epoch 6/50\n",
      "74/74 [==============================] - 11s 148ms/step - loss: 0.0681 - accuracy: 0.9777 - val_loss: 0.3284 - val_accuracy: 0.9253\n",
      "Epoch 7/50\n",
      "74/74 [==============================] - 11s 147ms/step - loss: 0.0615 - accuracy: 0.9797 - val_loss: 0.3990 - val_accuracy: 0.9201\n",
      "Epoch 8/50\n",
      "74/74 [==============================] - 11s 143ms/step - loss: 0.0625 - accuracy: 0.9826 - val_loss: 0.3306 - val_accuracy: 0.9236\n",
      "Epoch 9/50\n",
      "74/74 [==============================] - 11s 145ms/step - loss: 0.0660 - accuracy: 0.9802 - val_loss: 0.3392 - val_accuracy: 0.9201\n",
      "Restoring model weights from the end of the best epoch.\n",
      "Epoch 00009: early stopping\n"
     ]
    },
    {
     "data": {
      "image/png": "[encoded data removed]",
      "text/plain": [
       "<Figure size 432x288 with 2 Axes>"
      ]
     },
     "metadata": {
      "needs_background": "light"
     },
     "output_type": "display_data"
    }
   ],
   "source": [
    "# Training \n",
    "datagen_train, datagen_valid = set_up_augmentation(\n",
    "\n",
    ")\n",
    "\n",
    "model, train_generator, valid_generator\\\n",
    "    , STEP_SIZE_TRAIN, STEP_SIZE_VALID, es = \\\n",
    "    initialize_model_inv(applications.InceptionResNetV2, datagen_train, datagen_valid, 3)\n",
    "\n",
    "history = model.fit_generator(generator=train_generator,\\\n",
    "                    validation_data = valid_generator, \\\n",
    "                    steps_per_epoch=STEP_SIZE_TRAIN, \\\n",
    "                    validation_steps=STEP_SIZE_VALID, \\\n",
    "                    epochs=50, \\\n",
    "                    verbose=1, \\\n",
    "                    callbacks=[es])\n",
    "\n",
    "printHistory(history, 'output/nature_incep.jpg')"
   ]
  },
  {
   "cell_type": "code",
   "execution_count": 20,
   "metadata": {},
   "outputs": [
    {
     "name": "stdout",
     "output_type": "stream",
     "text": [
      "Model: \"model_4\"\n",
      "_________________________________________________________________\n",
      "Layer (type)                 Output Shape              Param #   \n",
      "=================================================================\n",
      "image_input (InputLayer)     [(None, 224, 224, 3)]     0         \n",
      "_________________________________________________________________\n",
      "resnet50v2 (Functional)      (None, 7, 7, 2048)        23564800  \n",
      "_________________________________________________________________\n",
      "batch_normalization_219 (Bat (None, 7, 7, 2048)        8192      \n",
      "_________________________________________________________________\n",
      "max_pooling2d_14 (MaxPooling (None, 4, 4, 2048)        0         \n",
      "_________________________________________________________________\n",
      "dropout_16 (Dropout)         (None, 4, 4, 2048)        0         \n",
      "_________________________________________________________________\n",
      "flatten_4 (Flatten)          (None, 32768)             0         \n",
      "_________________________________________________________________\n",
      "dense_16 (Dense)             (None, 4096)              134221824 \n",
      "_________________________________________________________________\n",
      "batch_normalization_220 (Bat (None, 4096)              16384     \n",
      "_________________________________________________________________\n",
      "dropout_17 (Dropout)         (None, 4096)              0         \n",
      "_________________________________________________________________\n",
      "dense_17 (Dense)             (None, 1024)              4195328   \n",
      "_________________________________________________________________\n",
      "batch_normalization_221 (Bat (None, 1024)              4096      \n",
      "_________________________________________________________________\n",
      "dropout_18 (Dropout)         (None, 1024)              0         \n",
      "_________________________________________________________________\n",
      "dense_18 (Dense)             (None, 512)               524800    \n",
      "_________________________________________________________________\n",
      "batch_normalization_222 (Bat (None, 512)               2048      \n",
      "_________________________________________________________________\n",
      "dropout_19 (Dropout)         (None, 512)               0         \n",
      "_________________________________________________________________\n",
      "dense_19 (Dense)             (None, 3)                 1539      \n",
      "=================================================================\n",
      "Total params: 162,539,011\n",
      "Trainable params: 138,958,851\n",
      "Non-trainable params: 23,580,160\n",
      "_________________________________________________________________\n",
      "Found 2372 non-validated image filenames belonging to 3 classes.\n",
      "Found 594 non-validated image filenames belonging to 3 classes.\n",
      "Epoch 1/50\n"
     ]
    },
    {
     "name": "stderr",
     "output_type": "stream",
     "text": [
      "/home/3049637/.conda/envs/tf-gpu/lib/python3.9/site-packages/tensorflow/python/keras/engine/training.py:1844: UserWarning: `Model.fit_generator` is deprecated and will be removed in a future version. Please use `Model.fit`, which supports generators.\n",
      "  warnings.warn('`Model.fit_generator` is deprecated and '\n"
     ]
    },
    {
     "name": "stdout",
     "output_type": "stream",
     "text": [
      "74/74 [==============================] - 113s 827ms/step - loss: 0.6435 - accuracy: 0.7929 - val_loss: 0.5876 - val_accuracy: 0.8924\n",
      "Epoch 2/50\n",
      "74/74 [==============================] - 10s 136ms/step - loss: 0.1960 - accuracy: 0.9310 - val_loss: 0.3913 - val_accuracy: 0.8993\n",
      "Epoch 3/50\n",
      "74/74 [==============================] - 10s 135ms/step - loss: 0.0743 - accuracy: 0.9753 - val_loss: 0.3410 - val_accuracy: 0.9201\n",
      "Epoch 4/50\n",
      "74/74 [==============================] - 10s 138ms/step - loss: 0.0407 - accuracy: 0.9862 - val_loss: 0.4049 - val_accuracy: 0.9062\n",
      "Epoch 5/50\n",
      "74/74 [==============================] - 10s 132ms/step - loss: 0.0610 - accuracy: 0.9826 - val_loss: 0.3870 - val_accuracy: 0.9045\n",
      "Epoch 6/50\n",
      "74/74 [==============================] - 10s 137ms/step - loss: 0.0445 - accuracy: 0.9847 - val_loss: 0.3801 - val_accuracy: 0.9115\n",
      "Epoch 7/50\n",
      "74/74 [==============================] - 10s 135ms/step - loss: 0.0134 - accuracy: 0.9959 - val_loss: 0.3806 - val_accuracy: 0.9132\n",
      "Epoch 8/50\n",
      "74/74 [==============================] - 10s 134ms/step - loss: 0.0462 - accuracy: 0.9830 - val_loss: 0.4004 - val_accuracy: 0.9201\n",
      "Restoring model weights from the end of the best epoch.\n",
      "Epoch 00008: early stopping\n"
     ]
    },
    {
     "data": {
      "image/png": "[encoded data removed]",
      "text/plain": [
       "<Figure size 432x288 with 2 Axes>"
      ]
     },
     "metadata": {
      "needs_background": "light"
     },
     "output_type": "display_data"
    }
   ],
   "source": [
    "# Training \n",
    "datagen_train, datagen_valid = set_up_augmentation(\n",
    "\n",
    ")\n",
    "\n",
    "model, train_generator, valid_generator\\\n",
    "    , STEP_SIZE_TRAIN, STEP_SIZE_VALID, es = \\\n",
    "    initialize_model_inv(applications.ResNet50V2, datagen_train, datagen_valid, 3)\n",
    "\n",
    "history = model.fit_generator(generator=train_generator,\\\n",
    "                    validation_data = valid_generator, \\\n",
    "                    steps_per_epoch=STEP_SIZE_TRAIN, \\\n",
    "                    validation_steps=STEP_SIZE_VALID, \\\n",
    "                    epochs=50, \\\n",
    "                    verbose=1, \\\n",
    "                    callbacks=[es])\n",
    "\n",
    "printHistory(history, 'output/nature_res.jpg')"
   ]
  },
  {
   "cell_type": "code",
   "execution_count": 12,
   "metadata": {},
   "outputs": [
    {
     "name": "stdout",
     "output_type": "stream",
     "text": [
      "Model: \"model_1\"\n",
      "_________________________________________________________________\n",
      "Layer (type)                 Output Shape              Param #   \n",
      "=================================================================\n",
      "image_input (InputLayer)     [(None, 224, 224, 3)]     0         \n",
      "_________________________________________________________________\n",
      "inception_resnet_v2 (Functio (None, 5, 5, 1536)        54336736  \n",
      "_________________________________________________________________\n",
      "batch_normalization_410 (Bat (None, 5, 5, 1536)        6144      \n",
      "_________________________________________________________________\n",
      "max_pooling2d_9 (MaxPooling2 (None, 3, 3, 1536)        0         \n",
      "_________________________________________________________________\n",
      "dropout_4 (Dropout)          (None, 3, 3, 1536)        0         \n",
      "_________________________________________________________________\n",
      "flatten_1 (Flatten)          (None, 13824)             0         \n",
      "_________________________________________________________________\n",
      "dense_4 (Dense)              (None, 4096)              56627200  \n",
      "_________________________________________________________________\n",
      "batch_normalization_411 (Bat (None, 4096)              16384     \n",
      "_________________________________________________________________\n",
      "dropout_5 (Dropout)          (None, 4096)              0         \n",
      "_________________________________________________________________\n",
      "dense_5 (Dense)              (None, 1024)              4195328   \n",
      "_________________________________________________________________\n",
      "batch_normalization_412 (Bat (None, 1024)              4096      \n",
      "_________________________________________________________________\n",
      "dropout_6 (Dropout)          (None, 1024)              0         \n",
      "_________________________________________________________________\n",
      "dense_6 (Dense)              (None, 512)               524800    \n",
      "_________________________________________________________________\n",
      "batch_normalization_413 (Bat (None, 512)               2048      \n",
      "_________________________________________________________________\n",
      "dropout_7 (Dropout)          (None, 512)               0         \n",
      "_________________________________________________________________\n",
      "dense_7 (Dense)              (None, 3)                 1539      \n",
      "=================================================================\n",
      "Total params: 115,714,275\n",
      "Trainable params: 61,363,203\n",
      "Non-trainable params: 54,351,072\n",
      "_________________________________________________________________\n",
      "Found 2372 non-validated image filenames belonging to 3 classes.\n",
      "Found 594 non-validated image filenames belonging to 3 classes.\n"
     ]
    },
    {
     "name": "stderr",
     "output_type": "stream",
     "text": [
      "/home/3049637/.conda/envs/tf-gpu/lib/python3.9/site-packages/tensorflow/python/keras/engine/training.py:1844: UserWarning: `Model.fit_generator` is deprecated and will be removed in a future version. Please use `Model.fit`, which supports generators.\n",
      "  warnings.warn('`Model.fit_generator` is deprecated and '\n"
     ]
    },
    {
     "name": "stdout",
     "output_type": "stream",
     "text": [
      "Epoch 1/50\n",
      "74/74 [==============================] - 31s 272ms/step - loss: 0.7162 - accuracy: 0.7537 - val_loss: 0.5688 - val_accuracy: 0.8507\n",
      "Epoch 2/50\n",
      "74/74 [==============================] - 18s 238ms/step - loss: 0.4119 - accuracy: 0.8635 - val_loss: 0.4337 - val_accuracy: 0.8767\n",
      "Epoch 3/50\n",
      "74/74 [==============================] - 17s 230ms/step - loss: 0.3646 - accuracy: 0.8753 - val_loss: 0.3435 - val_accuracy: 0.9062\n",
      "Epoch 4/50\n",
      "74/74 [==============================] - 17s 229ms/step - loss: 0.3767 - accuracy: 0.8731 - val_loss: 0.3043 - val_accuracy: 0.9219\n",
      "Epoch 5/50\n",
      "74/74 [==============================] - 17s 224ms/step - loss: 0.2981 - accuracy: 0.9040 - val_loss: 0.3381 - val_accuracy: 0.9062\n",
      "Epoch 6/50\n",
      "74/74 [==============================] - 17s 235ms/step - loss: 0.3490 - accuracy: 0.8755 - val_loss: 0.2660 - val_accuracy: 0.9184\n",
      "Epoch 7/50\n",
      "74/74 [==============================] - 16s 222ms/step - loss: 0.2787 - accuracy: 0.9020 - val_loss: 0.3316 - val_accuracy: 0.9219\n",
      "Epoch 8/50\n",
      "74/74 [==============================] - 17s 226ms/step - loss: 0.2737 - accuracy: 0.9082 - val_loss: 0.2643 - val_accuracy: 0.9236\n",
      "Epoch 9/50\n",
      "74/74 [==============================] - 16s 221ms/step - loss: 0.2555 - accuracy: 0.9031 - val_loss: 0.2805 - val_accuracy: 0.9062\n",
      "Epoch 10/50\n",
      "74/74 [==============================] - 18s 236ms/step - loss: 0.2464 - accuracy: 0.9154 - val_loss: 0.2585 - val_accuracy: 0.9149\n",
      "Epoch 11/50\n",
      "74/74 [==============================] - 17s 224ms/step - loss: 0.2579 - accuracy: 0.9110 - val_loss: 0.2837 - val_accuracy: 0.9132\n",
      "Epoch 12/50\n",
      "74/74 [==============================] - 17s 225ms/step - loss: 0.2783 - accuracy: 0.9110 - val_loss: 0.2550 - val_accuracy: 0.9288\n",
      "Epoch 13/50\n",
      "74/74 [==============================] - 17s 224ms/step - loss: 0.2156 - accuracy: 0.9210 - val_loss: 0.2681 - val_accuracy: 0.9236\n",
      "Epoch 14/50\n",
      "74/74 [==============================] - 17s 224ms/step - loss: 0.2086 - accuracy: 0.9257 - val_loss: 0.2762 - val_accuracy: 0.9219\n",
      "Epoch 15/50\n",
      "74/74 [==============================] - 17s 228ms/step - loss: 0.2120 - accuracy: 0.9254 - val_loss: 0.2982 - val_accuracy: 0.9062\n",
      "Epoch 16/50\n",
      "74/74 [==============================] - 17s 228ms/step - loss: 0.2028 - accuracy: 0.9270 - val_loss: 0.2690 - val_accuracy: 0.9271\n",
      "Epoch 17/50\n",
      "74/74 [==============================] - 17s 234ms/step - loss: 0.1721 - accuracy: 0.9470 - val_loss: 0.2705 - val_accuracy: 0.9184\n",
      "Restoring model weights from the end of the best epoch.\n",
      "Epoch 00017: early stopping\n"
     ]
    },
    {
     "data": {
      "image/png": "[encoded data removed]",
      "text/plain": [
       "<Figure size 432x288 with 2 Axes>"
      ]
     },
     "metadata": {
      "needs_background": "light"
     },
     "output_type": "display_data"
    }
   ],
   "source": [
    "# Training \n",
    "datagen_train, datagen_valid = set_up_augmentation(\n",
    "    rotation_range=25,\n",
    "    guassian_blur=0.25,\n",
    "    zoom = 0.2,\n",
    "    horizontal_flip=0.5\n",
    ")\n",
    "\n",
    "model, train_generator, valid_generator\\\n",
    "    , STEP_SIZE_TRAIN, STEP_SIZE_VALID, es = \\\n",
    "    initialize_model_inv(applications.InceptionResNetV2, datagen_train, datagen_valid, 3)\n",
    "\n",
    "history = model.fit_generator(generator=train_generator,\\\n",
    "                    validation_data = valid_generator, \\\n",
    "                    steps_per_epoch=STEP_SIZE_TRAIN, \\\n",
    "                    validation_steps=STEP_SIZE_VALID, \\\n",
    "                    epochs=50, \\\n",
    "                    verbose=1, \\\n",
    "                    callbacks=[es])\n",
    "\n",
    "printHistory(history, 'output/nature_incep_final.jpg')\n",
    "model.save(\"models/nature_cls.h5\")"
   ]
  },
  {
   "cell_type": "code",
   "execution_count": 13,
   "metadata": {},
   "outputs": [
    {
     "name": "stderr",
     "output_type": "stream",
     "text": [
      "/home/3049637/.conda/envs/tf-gpu/lib/python3.9/site-packages/tensorflow/python/keras/engine/training.py:1905: UserWarning: `Model.predict_generator` is deprecated and will be removed in a future version. Please use `Model.predict`, which supports generators.\n",
      "  warnings.warn('`Model.predict_generator` is deprecated and '\n"
     ]
    }
   ],
   "source": [
    "# get predict prob and label \n",
    "ypred = model.predict_generator(valid_generator)\n",
    "\n",
    "y_true = valid_generator.classes\n",
    "ypred = np.argmax(ypred, axis=1)"
   ]
  },
  {
   "cell_type": "code",
   "execution_count": 14,
   "metadata": {},
   "outputs": [
    {
     "name": "stdout",
     "output_type": "stream",
     "text": [
      "Classification Report\n",
      "              precision    recall  f1-score   support\n",
      "\n",
      "           0       0.96      0.96      0.96       203\n",
      "           1       0.91      0.94      0.92       233\n",
      "           2       0.93      0.87      0.90       158\n",
      "\n",
      "    accuracy                           0.93       594\n",
      "   macro avg       0.93      0.92      0.93       594\n",
      "weighted avg       0.93      0.93      0.93       594\n",
      "\n"
     ]
    }
   ],
   "source": [
    "print('Classification Report')\n",
    "print(classification_report(y_true, ypred))"
   ]
  },
  {
   "cell_type": "code",
   "execution_count": 15,
   "metadata": {},
   "outputs": [
    {
     "name": "stdout",
     "output_type": "stream",
     "text": [
      "Confusion Matrix\n",
      "[[195   6   2]\n",
      " [  5 220   8]\n",
      " [  4  17 137]]\n"
     ]
    },
    {
     "data": {
      "image/png": "[encoded data removed]",
      "text/plain": [
       "<Figure size 432x288 with 2 Axes>"
      ]
     },
     "metadata": {
      "needs_background": "light"
     },
     "output_type": "display_data"
    }
   ],
   "source": [
    "from sklearn.metrics import classification_report, confusion_matrix\n",
    "\n",
    "print('Confusion Matrix')\n",
    "cf_matrix = confusion_matrix(y_true, ypred)\n",
    "print(cf_matrix)\n",
    "\n",
    "import seaborn as sns\n",
    "\n",
    "ax = sns.heatmap(cf_matrix, annot=True, cmap='Blues', fmt='g')\n",
    "\n",
    "ax.set_title('Seaborn Confusion Matrix\\n\\n');\n",
    "ax.set_xlabel('\\nPredicted Values')\n",
    "ax.set_ylabel('Actual Values ');\n",
    "\n",
    "plt.savefig('output/nature_cls_confusion_M')\n",
    "\n",
    "## Display the visualization of the Confusion Matrix.\n",
    "plt.show()"
   ]
  },
  {
   "cell_type": "code",
   "execution_count": null,
   "metadata": {},
   "outputs": [],
   "source": []
  },
  {
   "cell_type": "code",
   "execution_count": null,
   "metadata": {},
   "outputs": [],
   "source": []
  },
  {
   "cell_type": "code",
   "execution_count": null,
   "metadata": {},
   "outputs": [],
   "source": []
  },
  {
   "cell_type": "code",
   "execution_count": null,
   "metadata": {},
   "outputs": [],
   "source": [
    "# Now we predict the validation iimages one by one to ensure they match\n",
    "from tqdm import tqdm\n",
    "tqdm.pandas()\n",
    "\n",
    "def predict_img(img):\n",
    "  # example of converting an image with the Keras API\n",
    "  from tensorflow.keras.preprocessing.image import load_img\n",
    "  from tensorflow.keras.preprocessing.image import img_to_array\n",
    "\n",
    "  img_path = os.path.join(DIR_inv, 'Agg_images', img)\n",
    "  image = np.expand_dims(img_to_array(load_img(img_path, target_size=(224, 224))) / 255, axis=0)\n",
    "  pred = model.predict(image)\n",
    "  \n",
    "  return np.argmax(pred, axis=1)[0]\n",
    "\n",
    "test['prediction'] = test.filename.progress_map(lambda x: predict_img(x))\n",
    "test"
   ]
  },
  {
   "cell_type": "code",
   "execution_count": null,
   "metadata": {},
   "outputs": [],
   "source": []
  },
  {
   "cell_type": "code",
   "execution_count": null,
   "metadata": {},
   "outputs": [],
   "source": []
  },
  {
   "cell_type": "code",
   "execution_count": null,
   "metadata": {},
   "outputs": [],
   "source": []
  }
 ],
 "metadata": {
  "kernelspec": {
   "display_name": "Python 3.9.7 ('tf-gpu')",
   "language": "python",
   "name": "python3"
  },
  "language_info": {
   "codemirror_mode": {
    "name": "ipython",
    "version": 3
   },
   "file_extension": ".py",
   "mimetype": "text/x-python",
   "name": "python",
   "nbconvert_exporter": "python",
   "pygments_lexer": "ipython3",
   "version": "3.9.7"
  },
  "orig_nbformat": 4,
  "vscode": {
   "interpreter": {
    "hash": "d5053a38874775f3fd31bdcf8476db41f9fd936cc6a4484ab25ae54cfbc6823b"
   }
  }
 },
 "nbformat": 4,
 "nbformat_minor": 2
}
