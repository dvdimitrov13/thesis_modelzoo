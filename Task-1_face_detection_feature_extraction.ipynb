{
 "cells": [
  {
   "cell_type": "markdown",
   "metadata": {},
   "source": [
    "### Face detection and feature extraction"
   ]
  },
  {
   "cell_type": "markdown",
   "metadata": {},
   "source": [
    "#### First we train a custom age classifier"
   ]
  },
  {
   "cell_type": "code",
   "execution_count": 1,
   "metadata": {},
   "outputs": [
    {
     "name": "stderr",
     "output_type": "stream",
     "text": [
      "2022-06-22 01:14:50.756657: I tensorflow/stream_executor/platform/default/dso_loader.cc:49] Successfully opened dynamic library libcudart.so.10.1\n"
     ]
    }
   ],
   "source": [
    "import urllib\n",
    "import os\n",
    "import shutil\n",
    "import cv2\n",
    "import numpy as np\n",
    "import pandas as pd\n",
    "import tensorflow as tf\n",
    "import matplotlib.pyplot as plt\n",
    "import matplotlib.image as mpimg\n",
    "from PIL import Image\n",
    "from tensorflow.keras.models import model_from_json\n",
    "from sklearn.model_selection import StratifiedKFold\n",
    "from sklearn.metrics import classification_report, confusion_matrix\n",
    "from tensorflow.keras import applications\n",
    "from tensorflow.keras import optimizers\n",
    "from tensorflow.keras.callbacks import EarlyStopping\n",
    "from tensorflow.keras.models import Sequential, Model\n",
    "from tensorflow.keras.layers import Input, Dense, BatchNormalization, Dropout, Flatten, MaxPooling2D\n",
    "from tensorflow.keras.layers import ZeroPadding2D, Convolution2D, Activation\n",
    "from tensorflow.keras.preprocessing.image import ImageDataGenerator\n",
    "\n",
    "os.environ[\"CUDA_VISIBLE_DEVICES\"] = \"1\""
   ]
  },
  {
   "cell_type": "code",
   "execution_count": 2,
   "metadata": {},
   "outputs": [
    {
     "data": {
      "text/html": [
       "<div>\n",
       "<style scoped>\n",
       "    .dataframe tbody tr th:only-of-type {\n",
       "        vertical-align: middle;\n",
       "    }\n",
       "\n",
       "    .dataframe tbody tr th {\n",
       "        vertical-align: top;\n",
       "    }\n",
       "\n",
       "    .dataframe thead th {\n",
       "        text-align: right;\n",
       "    }\n",
       "</style>\n",
       "<table border=\"1\" class=\"dataframe\">\n",
       "  <thead>\n",
       "    <tr style=\"text-align: right;\">\n",
       "      <th></th>\n",
       "      <th>filename</th>\n",
       "      <th>age</th>\n",
       "    </tr>\n",
       "  </thead>\n",
       "  <tbody>\n",
       "    <tr>\n",
       "      <th>0</th>\n",
       "      <td>95_1.jpg</td>\n",
       "      <td>95</td>\n",
       "    </tr>\n",
       "    <tr>\n",
       "      <th>1</th>\n",
       "      <td>95_2.jpg</td>\n",
       "      <td>95</td>\n",
       "    </tr>\n",
       "    <tr>\n",
       "      <th>2</th>\n",
       "      <td>95_3.jpg</td>\n",
       "      <td>95</td>\n",
       "    </tr>\n",
       "    <tr>\n",
       "      <th>3</th>\n",
       "      <td>53_1.jpg</td>\n",
       "      <td>53</td>\n",
       "    </tr>\n",
       "    <tr>\n",
       "      <th>4</th>\n",
       "      <td>53_2.jpg</td>\n",
       "      <td>53</td>\n",
       "    </tr>\n",
       "  </tbody>\n",
       "</table>\n",
       "</div>"
      ],
      "text/plain": [
       "   filename  age\n",
       "0  95_1.jpg   95\n",
       "1  95_2.jpg   95\n",
       "2  95_3.jpg   95\n",
       "3  53_1.jpg   53\n",
       "4  53_2.jpg   53"
      ]
     },
     "execution_count": 2,
     "metadata": {},
     "output_type": "execute_result"
    }
   ],
   "source": [
    "data_DIR = 'Data/Age_cls/Age_DATA/'\n",
    "\n",
    "traindf = pd.read_csv('Data/Age_cls/Age_data.csv').iloc()[:,1:3]\n",
    "traindf.head()"
   ]
  },
  {
   "cell_type": "code",
   "execution_count": 3,
   "metadata": {},
   "outputs": [
    {
     "name": "stdout",
     "output_type": "stream",
     "text": [
      "5 (34426, 3)\n"
     ]
    },
    {
     "data": {
      "text/html": [
       "<div>\n",
       "<style scoped>\n",
       "    .dataframe tbody tr th:only-of-type {\n",
       "        vertical-align: middle;\n",
       "    }\n",
       "\n",
       "    .dataframe tbody tr th {\n",
       "        vertical-align: top;\n",
       "    }\n",
       "\n",
       "    .dataframe thead th {\n",
       "        text-align: right;\n",
       "    }\n",
       "</style>\n",
       "<table border=\"1\" class=\"dataframe\">\n",
       "  <thead>\n",
       "    <tr style=\"text-align: right;\">\n",
       "      <th></th>\n",
       "      <th>filename</th>\n",
       "      <th>age</th>\n",
       "      <th>code</th>\n",
       "    </tr>\n",
       "  </thead>\n",
       "  <tbody>\n",
       "    <tr>\n",
       "      <th>0</th>\n",
       "      <td>95_1.jpg</td>\n",
       "      <td>60+</td>\n",
       "      <td>4</td>\n",
       "    </tr>\n",
       "    <tr>\n",
       "      <th>1</th>\n",
       "      <td>95_2.jpg</td>\n",
       "      <td>60+</td>\n",
       "      <td>4</td>\n",
       "    </tr>\n",
       "    <tr>\n",
       "      <th>2</th>\n",
       "      <td>95_3.jpg</td>\n",
       "      <td>60+</td>\n",
       "      <td>4</td>\n",
       "    </tr>\n",
       "    <tr>\n",
       "      <th>3</th>\n",
       "      <td>53_1.jpg</td>\n",
       "      <td>40-60</td>\n",
       "      <td>3</td>\n",
       "    </tr>\n",
       "    <tr>\n",
       "      <th>4</th>\n",
       "      <td>53_2.jpg</td>\n",
       "      <td>40-60</td>\n",
       "      <td>3</td>\n",
       "    </tr>\n",
       "  </tbody>\n",
       "</table>\n",
       "</div>"
      ],
      "text/plain": [
       "   filename    age  code\n",
       "0  95_1.jpg    60+     4\n",
       "1  95_2.jpg    60+     4\n",
       "2  95_3.jpg    60+     4\n",
       "3  53_1.jpg  40-60     3\n",
       "4  53_2.jpg  40-60     3"
      ]
     },
     "execution_count": 3,
     "metadata": {},
     "output_type": "execute_result"
    }
   ],
   "source": [
    "# Some ages are severely underrepresented - switching to buckets \n",
    "# Create buckets for age\n",
    "bins = [0, 18, 26, 39, 60, np.inf]\n",
    "names = ['1-18', '19-26', '27-39', '40-60', '60+']\n",
    "\n",
    "traindf['age'] = pd.cut(traindf['age'].astype('float'), bins, labels=names)\n",
    "traindf['code'] = traindf['age'].astype('category').cat.codes\n",
    "filenames = [file for file in os.listdir(data_DIR)]\n",
    "traindf = traindf[traindf.filename.isin(filenames)].reset_index(drop=True)\n",
    "print(len(traindf.age.unique()), traindf.shape)\n",
    "traindf.head()"
   ]
  },
  {
   "cell_type": "code",
   "execution_count": 4,
   "metadata": {},
   "outputs": [
    {
     "data": {
      "text/html": [
       "<div>\n",
       "<style scoped>\n",
       "    .dataframe tbody tr th:only-of-type {\n",
       "        vertical-align: middle;\n",
       "    }\n",
       "\n",
       "    .dataframe tbody tr th {\n",
       "        vertical-align: top;\n",
       "    }\n",
       "\n",
       "    .dataframe thead th {\n",
       "        text-align: right;\n",
       "    }\n",
       "</style>\n",
       "<table border=\"1\" class=\"dataframe\">\n",
       "  <thead>\n",
       "    <tr style=\"text-align: right;\">\n",
       "      <th></th>\n",
       "      <th></th>\n",
       "      <th>filename</th>\n",
       "    </tr>\n",
       "    <tr>\n",
       "      <th>age</th>\n",
       "      <th>code</th>\n",
       "      <th></th>\n",
       "    </tr>\n",
       "  </thead>\n",
       "  <tbody>\n",
       "    <tr>\n",
       "      <th>1-18</th>\n",
       "      <th>0</th>\n",
       "      <td>8920</td>\n",
       "    </tr>\n",
       "    <tr>\n",
       "      <th>19-26</th>\n",
       "      <th>1</th>\n",
       "      <td>6792</td>\n",
       "    </tr>\n",
       "    <tr>\n",
       "      <th>27-39</th>\n",
       "      <th>2</th>\n",
       "      <td>8274</td>\n",
       "    </tr>\n",
       "    <tr>\n",
       "      <th>40-60</th>\n",
       "      <th>3</th>\n",
       "      <td>6712</td>\n",
       "    </tr>\n",
       "    <tr>\n",
       "      <th>60+</th>\n",
       "      <th>4</th>\n",
       "      <td>3728</td>\n",
       "    </tr>\n",
       "  </tbody>\n",
       "</table>\n",
       "</div>"
      ],
      "text/plain": [
       "            filename\n",
       "age   code          \n",
       "1-18  0         8920\n",
       "19-26 1         6792\n",
       "27-39 2         8274\n",
       "40-60 3         6712\n",
       "60+   4         3728"
      ]
     },
     "execution_count": 4,
     "metadata": {},
     "output_type": "execute_result"
    }
   ],
   "source": [
    "df = traindf.groupby(['age', 'code']).count()\n",
    "df = df[df.filename > 0]\n",
    "df"
   ]
  },
  {
   "cell_type": "code",
   "execution_count": 5,
   "metadata": {},
   "outputs": [],
   "source": [
    "def printHistory(history, filename):\n",
    "    fig, (ax1, ax2) = plt.subplots(1,2)\n",
    "    fig.suptitle('VGG-19')\n",
    "    \n",
    "    \n",
    "    ax1.set_title('Accuracy')\n",
    "    ax1.set_ylabel('accuracy')\n",
    "    ax1.set_xlabel('epoch')\n",
    "    ax1.legend(['train', 'val'], loc='upper left')\n",
    "    ax1.plot(history.history['accuracy'])\n",
    "    ax1.plot(history.history['val_accuracy'])\n",
    "    \n",
    "    ax2.set_title('Loss')\n",
    "    ax2.set_ylabel('loss')\n",
    "    ax2.set_xlabel('epoch')\n",
    "    ax2.legend(['train', 'val'], loc='upper left')\n",
    "    ax2.plot(history.history['loss'])\n",
    "    ax2.plot(history.history['val_loss'])\n",
    "\n",
    "    plt.savefig(filename)\n",
    "\n",
    "    plt.show()"
   ]
  },
  {
   "cell_type": "code",
   "execution_count": 6,
   "metadata": {},
   "outputs": [],
   "source": [
    "# The model is build on VGG-face\n",
    "\n",
    "def createModel():\n",
    "    import coral_ordinal as coral\n",
    "\n",
    "    #VGG-Face model\n",
    "    model = Sequential()\n",
    "    model.add(ZeroPadding2D((1,1),input_shape=(224,224, 3)))\n",
    "    model.add(Convolution2D(64, (3, 3), activation='relu'))\n",
    "    model.add(ZeroPadding2D((1,1)))\n",
    "    model.add(Convolution2D(64, (3, 3), activation='relu'))\n",
    "    model.add(MaxPooling2D((2,2), strides=(2,2)))\n",
    "\n",
    "    model.add(ZeroPadding2D((1,1)))\n",
    "    model.add(Convolution2D(128, (3, 3), activation='relu'))\n",
    "    model.add(ZeroPadding2D((1,1)))\n",
    "    model.add(Convolution2D(128, (3, 3), activation='relu'))\n",
    "    model.add(MaxPooling2D((2,2), strides=(2,2)))\n",
    "\n",
    "    model.add(ZeroPadding2D((1,1)))\n",
    "    model.add(Convolution2D(256, (3, 3), activation='relu'))\n",
    "    model.add(ZeroPadding2D((1,1)))\n",
    "    model.add(Convolution2D(256, (3, 3), activation='relu'))\n",
    "    model.add(ZeroPadding2D((1,1)))\n",
    "    model.add(Convolution2D(256, (3, 3), activation='relu'))\n",
    "    model.add(MaxPooling2D((2,2), strides=(2,2)))\n",
    "\n",
    "    model.add(ZeroPadding2D((1,1)))\n",
    "    model.add(Convolution2D(512, (3, 3), activation='relu'))\n",
    "    model.add(ZeroPadding2D((1,1)))\n",
    "    model.add(Convolution2D(512, (3, 3), activation='relu'))\n",
    "    model.add(ZeroPadding2D((1,1)))\n",
    "    model.add(Convolution2D(512, (3, 3), activation='relu'))\n",
    "    model.add(MaxPooling2D((2,2), strides=(2,2)))\n",
    "\n",
    "    model.add(ZeroPadding2D((1,1)))\n",
    "    model.add(Convolution2D(512, (3, 3), activation='relu'))\n",
    "    model.add(ZeroPadding2D((1,1)))\n",
    "    model.add(Convolution2D(512, (3, 3), activation='relu'))\n",
    "    model.add(ZeroPadding2D((1,1)))\n",
    "    model.add(Convolution2D(512, (3, 3), activation='relu'))\n",
    "    model.add(MaxPooling2D((2,2), strides=(2,2)))\n",
    "\n",
    "    model.add(Convolution2D(4096, (7, 7), activation='relu'))\n",
    "    model.add(Dropout(0.5))\n",
    "    model.add(Convolution2D(4096, (1, 1), activation='relu'))\n",
    "    model.add(Convolution2D(101, (1, 1), name='predictions'))\n",
    "    model.add(Flatten())\n",
    "    model.add(Activation('softmax'))\n",
    "    \n",
    "    \n",
    "    model.load_weights('models/pre_trained//age_model_weights.h5')\n",
    "\n",
    "    # Now lets try finetuning the deepface model that already has the wiki data\n",
    "    \n",
    "    for layer in model.layers[:-7]:\n",
    "        layer.trainable = False\n",
    "\n",
    "    base_model_output = Sequential()\n",
    "    base_model_output = Dropout(0.5)(model.layers[-4].output)\n",
    "    # base_model_output = Flatten()(base_model_output)\n",
    "    # base_model_output = coral.CoralOrdinal(8)(base_model_output)\n",
    "    base_model_output = Convolution2D(5, (1, 1), name='predictions')(base_model_output)\n",
    "    base_model_output = Flatten()(base_model_output)\n",
    "    base_model_output = Activation('softmax')(base_model_output)   \n",
    "\n",
    "    age_model = Model(inputs=model.input, outputs=base_model_output)\n",
    "\n",
    "    # age_model.summary()\n",
    "\n",
    "    age_model.compile(loss = \"categorical_crossentropy\",\n",
    "              optimizer = optimizers.Adadelta(lr = 1.0, rho = 0.95, epsilon = 1e-08, decay = 0.0),\n",
    "              metrics = ['accuracy'])\n",
    "\n",
    "\n",
    "    ## Did not improve accuracy\n",
    "    # age_model.compile(loss = coral.OrdinalCrossEntropy(8),\n",
    "    #           metrics = [coral.MeanAbsoluteErrorLabels()],\n",
    "    #           optimizer = optimizers.Adadelta(lr = 1.0, rho = 0.95, epsilon = 1e-08, decay = 0.0))\n",
    "    \n",
    "    return age_model"
   ]
  },
  {
   "cell_type": "code",
   "execution_count": 7,
   "metadata": {},
   "outputs": [],
   "source": [
    "from sklearn.model_selection import train_test_split\n",
    "\n",
    "train, test = train_test_split(traindf, test_size=0.2, random_state=1411)"
   ]
  },
  {
   "cell_type": "code",
   "execution_count": 8,
   "metadata": {},
   "outputs": [
    {
     "name": "stderr",
     "output_type": "stream",
     "text": [
      "2022-06-22 01:15:17.447009: I tensorflow/compiler/jit/xla_cpu_device.cc:41] Not creating XLA devices, tf_xla_enable_xla_devices not set\n",
      "2022-06-22 01:15:17.448552: I tensorflow/stream_executor/platform/default/dso_loader.cc:49] Successfully opened dynamic library libcuda.so.1\n",
      "2022-06-22 01:15:17.462289: I tensorflow/core/common_runtime/gpu/gpu_device.cc:1720] Found device 0 with properties: \n",
      "pciBusID: 0000:86:00.0 name: NVIDIA GeForce RTX 2080 Ti computeCapability: 7.5\n",
      "coreClock: 1.545GHz coreCount: 68 deviceMemorySize: 10.76GiB deviceMemoryBandwidth: 573.69GiB/s\n",
      "2022-06-22 01:15:17.462315: I tensorflow/stream_executor/platform/default/dso_loader.cc:49] Successfully opened dynamic library libcudart.so.10.1\n",
      "2022-06-22 01:15:17.464679: I tensorflow/stream_executor/platform/default/dso_loader.cc:49] Successfully opened dynamic library libcublas.so.10\n",
      "2022-06-22 01:15:17.464724: I tensorflow/stream_executor/platform/default/dso_loader.cc:49] Successfully opened dynamic library libcublasLt.so.10\n",
      "2022-06-22 01:15:17.467250: I tensorflow/stream_executor/platform/default/dso_loader.cc:49] Successfully opened dynamic library libcufft.so.10\n",
      "2022-06-22 01:15:17.467591: I tensorflow/stream_executor/platform/default/dso_loader.cc:49] Successfully opened dynamic library libcurand.so.10\n",
      "2022-06-22 01:15:17.470158: I tensorflow/stream_executor/platform/default/dso_loader.cc:49] Successfully opened dynamic library libcusolver.so.10\n",
      "2022-06-22 01:15:17.471383: I tensorflow/stream_executor/platform/default/dso_loader.cc:49] Successfully opened dynamic library libcusparse.so.10\n",
      "2022-06-22 01:15:17.476755: I tensorflow/stream_executor/platform/default/dso_loader.cc:49] Successfully opened dynamic library libcudnn.so.7\n",
      "2022-06-22 01:15:17.477473: I tensorflow/core/common_runtime/gpu/gpu_device.cc:1862] Adding visible gpu devices: 0\n",
      "2022-06-22 01:15:17.478024: I tensorflow/core/platform/cpu_feature_guard.cc:142] This TensorFlow binary is optimized with oneAPI Deep Neural Network Library (oneDNN) to use the following CPU instructions in performance-critical operations:  SSE4.1 SSE4.2 AVX AVX2 AVX512F FMA\n",
      "To enable them in other operations, rebuild TensorFlow with the appropriate compiler flags.\n",
      "2022-06-22 01:15:17.491297: I tensorflow/core/common_runtime/gpu/gpu_device.cc:1720] Found device 0 with properties: \n",
      "pciBusID: 0000:86:00.0 name: NVIDIA GeForce RTX 2080 Ti computeCapability: 7.5\n",
      "coreClock: 1.545GHz coreCount: 68 deviceMemorySize: 10.76GiB deviceMemoryBandwidth: 573.69GiB/s\n",
      "2022-06-22 01:15:17.491324: I tensorflow/stream_executor/platform/default/dso_loader.cc:49] Successfully opened dynamic library libcudart.so.10.1\n",
      "2022-06-22 01:15:17.491343: I tensorflow/stream_executor/platform/default/dso_loader.cc:49] Successfully opened dynamic library libcublas.so.10\n",
      "2022-06-22 01:15:17.491357: I tensorflow/stream_executor/platform/default/dso_loader.cc:49] Successfully opened dynamic library libcublasLt.so.10\n",
      "2022-06-22 01:15:17.491369: I tensorflow/stream_executor/platform/default/dso_loader.cc:49] Successfully opened dynamic library libcufft.so.10\n",
      "2022-06-22 01:15:17.491382: I tensorflow/stream_executor/platform/default/dso_loader.cc:49] Successfully opened dynamic library libcurand.so.10\n",
      "2022-06-22 01:15:17.491394: I tensorflow/stream_executor/platform/default/dso_loader.cc:49] Successfully opened dynamic library libcusolver.so.10\n",
      "2022-06-22 01:15:17.491407: I tensorflow/stream_executor/platform/default/dso_loader.cc:49] Successfully opened dynamic library libcusparse.so.10\n",
      "2022-06-22 01:15:17.491420: I tensorflow/stream_executor/platform/default/dso_loader.cc:49] Successfully opened dynamic library libcudnn.so.7\n",
      "2022-06-22 01:15:17.492032: I tensorflow/core/common_runtime/gpu/gpu_device.cc:1862] Adding visible gpu devices: 0\n",
      "2022-06-22 01:15:17.492064: I tensorflow/stream_executor/platform/default/dso_loader.cc:49] Successfully opened dynamic library libcudart.so.10.1\n",
      "2022-06-22 01:15:18.253489: I tensorflow/core/common_runtime/gpu/gpu_device.cc:1261] Device interconnect StreamExecutor with strength 1 edge matrix:\n",
      "2022-06-22 01:15:18.253518: I tensorflow/core/common_runtime/gpu/gpu_device.cc:1267]      0 \n",
      "2022-06-22 01:15:18.253532: I tensorflow/core/common_runtime/gpu/gpu_device.cc:1280] 0:   N \n",
      "2022-06-22 01:15:18.254906: I tensorflow/core/common_runtime/gpu/gpu_device.cc:1406] Created TensorFlow device (/job:localhost/replica:0/task:0/device:GPU:0 with 9797 MB memory) -> physical GPU (device: 0, name: NVIDIA GeForce RTX 2080 Ti, pci bus id: 0000:86:00.0, compute capability: 7.5)\n",
      "2022-06-22 01:15:18.255350: I tensorflow/compiler/jit/xla_gpu_device.cc:99] Not creating XLA devices, tf_xla_enable_xla_devices not set\n",
      "2022-06-22 01:15:19.169668: W tensorflow/core/framework/cpu_allocator_impl.cc:80] Allocation of 411041792 exceeds 10% of free system memory.\n"
     ]
    },
    {
     "name": "stdout",
     "output_type": "stream",
     "text": [
      "Found 27540 validated image filenames belonging to 5 classes.\n",
      "Found 6886 validated image filenames belonging to 5 classes.\n"
     ]
    },
    {
     "name": "stderr",
     "output_type": "stream",
     "text": [
      "/home/3049637/.conda/envs/tf-gpu/lib/python3.9/site-packages/tensorflow/python/keras/engine/training.py:1844: UserWarning: `Model.fit_generator` is deprecated and will be removed in a future version. Please use `Model.fit`, which supports generators.\n",
      "  warnings.warn('`Model.fit_generator` is deprecated and '\n",
      "2022-06-22 01:15:20.734236: I tensorflow/compiler/mlir/mlir_graph_optimization_pass.cc:116] None of the MLIR optimization passes are enabled (registered 2)\n",
      "2022-06-22 01:15:20.734774: I tensorflow/core/platform/profile_utils/cpu_utils.cc:112] CPU Frequency: 2100000000 Hz\n"
     ]
    },
    {
     "name": "stdout",
     "output_type": "stream",
     "text": [
      "Epoch 1/100\n"
     ]
    },
    {
     "name": "stderr",
     "output_type": "stream",
     "text": [
      "2022-06-22 01:15:21.915466: I tensorflow/stream_executor/platform/default/dso_loader.cc:49] Successfully opened dynamic library libcudnn.so.7\n",
      "2022-06-22 01:15:23.366296: W tensorflow/stream_executor/gpu/asm_compiler.cc:63] Running ptxas --version returned 256\n",
      "2022-06-22 01:15:23.482056: W tensorflow/stream_executor/gpu/redzone_allocator.cc:314] Internal: ptxas exited with non-zero error code 256, output: \n",
      "Relying on driver to perform ptx compilation. \n",
      "Modify $PATH to customize ptxas location.\n",
      "This message will be only logged once.\n",
      "2022-06-22 01:15:24.781150: I tensorflow/stream_executor/platform/default/dso_loader.cc:49] Successfully opened dynamic library libcublas.so.10\n"
     ]
    },
    {
     "name": "stdout",
     "output_type": "stream",
     "text": [
      "215/215 [==============================] - 184s 740ms/step - loss: 1.4760 - accuracy: 0.3169 - val_loss: 1.0602 - val_accuracy: 0.5727\n"
     ]
    },
    {
     "name": "stderr",
     "output_type": "stream",
     "text": [
      "2022-06-22 01:18:24.505046: W tensorflow/core/framework/cpu_allocator_impl.cc:80] Allocation of 411041792 exceeds 10% of free system memory.\n"
     ]
    },
    {
     "name": "stdout",
     "output_type": "stream",
     "text": [
      "Epoch 2/100\n",
      "215/215 [==============================] - 128s 594ms/step - loss: 1.1714 - accuracy: 0.4843 - val_loss: 0.9406 - val_accuracy: 0.6216\n"
     ]
    },
    {
     "name": "stderr",
     "output_type": "stream",
     "text": [
      "2022-06-22 01:20:33.483346: W tensorflow/core/framework/cpu_allocator_impl.cc:80] Allocation of 411041792 exceeds 10% of free system memory.\n"
     ]
    },
    {
     "name": "stdout",
     "output_type": "stream",
     "text": [
      "Epoch 3/100\n",
      "215/215 [==============================] - 125s 580ms/step - loss: 1.0704 - accuracy: 0.5245 - val_loss: 0.8840 - val_accuracy: 0.6344\n"
     ]
    },
    {
     "name": "stderr",
     "output_type": "stream",
     "text": [
      "2022-06-22 01:22:39.389958: W tensorflow/core/framework/cpu_allocator_impl.cc:80] Allocation of 411041792 exceeds 10% of free system memory.\n"
     ]
    },
    {
     "name": "stdout",
     "output_type": "stream",
     "text": [
      "Epoch 4/100\n",
      "215/215 [==============================] - 125s 580ms/step - loss: 1.0011 - accuracy: 0.5589 - val_loss: 0.8542 - val_accuracy: 0.6390\n"
     ]
    },
    {
     "name": "stderr",
     "output_type": "stream",
     "text": [
      "2022-06-22 01:24:45.355317: W tensorflow/core/framework/cpu_allocator_impl.cc:80] Allocation of 411041792 exceeds 10% of free system memory.\n"
     ]
    },
    {
     "name": "stdout",
     "output_type": "stream",
     "text": [
      "Epoch 5/100\n",
      "215/215 [==============================] - 124s 578ms/step - loss: 0.9635 - accuracy: 0.5783 - val_loss: 0.8199 - val_accuracy: 0.6580\n",
      "Epoch 6/100\n",
      "215/215 [==============================] - 125s 582ms/step - loss: 0.9339 - accuracy: 0.5928 - val_loss: 0.8103 - val_accuracy: 0.6598\n",
      "Epoch 7/100\n",
      "215/215 [==============================] - 125s 580ms/step - loss: 0.9046 - accuracy: 0.6077 - val_loss: 0.7941 - val_accuracy: 0.6750\n",
      "Epoch 8/100\n",
      "215/215 [==============================] - 124s 577ms/step - loss: 0.8884 - accuracy: 0.6133 - val_loss: 0.7852 - val_accuracy: 0.6697\n",
      "Epoch 9/100\n",
      "215/215 [==============================] - 125s 578ms/step - loss: 0.8770 - accuracy: 0.6220 - val_loss: 0.7665 - val_accuracy: 0.6809\n",
      "Epoch 10/100\n",
      "215/215 [==============================] - 125s 580ms/step - loss: 0.8328 - accuracy: 0.6386 - val_loss: 0.7549 - val_accuracy: 0.6807\n",
      "Epoch 11/100\n",
      "215/215 [==============================] - 125s 581ms/step - loss: 0.8241 - accuracy: 0.6408 - val_loss: 0.7412 - val_accuracy: 0.6865\n",
      "Epoch 12/100\n",
      "215/215 [==============================] - 125s 581ms/step - loss: 0.8107 - accuracy: 0.6528 - val_loss: 0.7356 - val_accuracy: 0.6888\n",
      "Epoch 13/100\n",
      "215/215 [==============================] - 125s 579ms/step - loss: 0.8080 - accuracy: 0.6503 - val_loss: 0.7235 - val_accuracy: 0.6890\n",
      "Epoch 14/100\n",
      "215/215 [==============================] - 123s 572ms/step - loss: 0.7920 - accuracy: 0.6588 - val_loss: 0.7267 - val_accuracy: 0.6897\n",
      "Epoch 15/100\n",
      "215/215 [==============================] - 125s 580ms/step - loss: 0.7741 - accuracy: 0.6619 - val_loss: 0.7058 - val_accuracy: 0.6949\n",
      "Epoch 16/100\n",
      "215/215 [==============================] - 125s 580ms/step - loss: 0.7653 - accuracy: 0.6684 - val_loss: 0.7001 - val_accuracy: 0.6974\n",
      "Epoch 17/100\n",
      "215/215 [==============================] - 125s 581ms/step - loss: 0.7525 - accuracy: 0.6692 - val_loss: 0.7032 - val_accuracy: 0.6999\n",
      "Epoch 18/100\n",
      "215/215 [==============================] - 125s 581ms/step - loss: 0.7521 - accuracy: 0.6790 - val_loss: 0.6992 - val_accuracy: 0.6934\n",
      "Epoch 19/100\n",
      "215/215 [==============================] - 126s 586ms/step - loss: 0.7513 - accuracy: 0.6762 - val_loss: 0.6895 - val_accuracy: 0.6955\n",
      "Epoch 20/100\n",
      "215/215 [==============================] - 125s 581ms/step - loss: 0.7484 - accuracy: 0.6762 - val_loss: 0.6856 - val_accuracy: 0.7101\n",
      "Epoch 21/100\n",
      "215/215 [==============================] - 125s 582ms/step - loss: 0.7433 - accuracy: 0.6820 - val_loss: 0.6778 - val_accuracy: 0.7137\n",
      "Epoch 22/100\n",
      "215/215 [==============================] - 125s 580ms/step - loss: 0.7230 - accuracy: 0.6885 - val_loss: 0.6769 - val_accuracy: 0.7083\n",
      "Epoch 23/100\n",
      "215/215 [==============================] - 125s 580ms/step - loss: 0.7208 - accuracy: 0.6868 - val_loss: 0.6764 - val_accuracy: 0.7078\n",
      "Epoch 24/100\n",
      "215/215 [==============================] - 127s 588ms/step - loss: 0.7249 - accuracy: 0.6872 - val_loss: 0.6739 - val_accuracy: 0.7065\n",
      "Epoch 25/100\n",
      "215/215 [==============================] - 125s 581ms/step - loss: 0.7103 - accuracy: 0.6912 - val_loss: 0.6657 - val_accuracy: 0.7101\n",
      "Epoch 26/100\n",
      "215/215 [==============================] - 125s 580ms/step - loss: 0.7144 - accuracy: 0.6854 - val_loss: 0.6620 - val_accuracy: 0.7155\n",
      "Epoch 27/100\n",
      "215/215 [==============================] - 125s 579ms/step - loss: 0.6961 - accuracy: 0.6941 - val_loss: 0.6587 - val_accuracy: 0.7143\n",
      "Epoch 28/100\n",
      "215/215 [==============================] - 125s 581ms/step - loss: 0.6954 - accuracy: 0.6980 - val_loss: 0.6588 - val_accuracy: 0.7186\n",
      "Epoch 29/100\n",
      "215/215 [==============================] - 125s 581ms/step - loss: 0.6918 - accuracy: 0.7061 - val_loss: 0.6550 - val_accuracy: 0.7188\n",
      "Epoch 30/100\n",
      "215/215 [==============================] - 125s 580ms/step - loss: 0.6794 - accuracy: 0.7028 - val_loss: 0.6514 - val_accuracy: 0.7208\n",
      "Epoch 31/100\n",
      "215/215 [==============================] - 124s 577ms/step - loss: 0.6869 - accuracy: 0.7072 - val_loss: 0.6520 - val_accuracy: 0.7130\n",
      "Epoch 32/100\n",
      "215/215 [==============================] - 126s 584ms/step - loss: 0.6745 - accuracy: 0.7062 - val_loss: 0.6495 - val_accuracy: 0.7186\n",
      "Epoch 33/100\n",
      "215/215 [==============================] - 125s 582ms/step - loss: 0.6719 - accuracy: 0.7115 - val_loss: 0.6542 - val_accuracy: 0.7201\n",
      "Epoch 34/100\n",
      "215/215 [==============================] - 127s 590ms/step - loss: 0.6609 - accuracy: 0.7165 - val_loss: 0.6533 - val_accuracy: 0.7145\n",
      "Epoch 35/100\n",
      "215/215 [==============================] - 125s 581ms/step - loss: 0.6598 - accuracy: 0.7162 - val_loss: 0.6473 - val_accuracy: 0.7251\n",
      "Epoch 36/100\n",
      "215/215 [==============================] - 124s 578ms/step - loss: 0.6639 - accuracy: 0.7181 - val_loss: 0.6496 - val_accuracy: 0.7204\n",
      "Epoch 37/100\n",
      "215/215 [==============================] - 125s 579ms/step - loss: 0.6501 - accuracy: 0.7226 - val_loss: 0.6466 - val_accuracy: 0.7218\n",
      "Epoch 38/100\n",
      "215/215 [==============================] - 124s 574ms/step - loss: 0.6552 - accuracy: 0.7191 - val_loss: 0.6457 - val_accuracy: 0.7213\n",
      "Epoch 39/100\n",
      "215/215 [==============================] - 124s 575ms/step - loss: 0.6393 - accuracy: 0.7290 - val_loss: 0.6454 - val_accuracy: 0.7226\n",
      "Epoch 40/100\n",
      "215/215 [==============================] - 122s 568ms/step - loss: 0.6483 - accuracy: 0.7214 - val_loss: 0.6427 - val_accuracy: 0.7238\n",
      "Epoch 41/100\n",
      "215/215 [==============================] - 124s 577ms/step - loss: 0.6463 - accuracy: 0.7181 - val_loss: 0.6435 - val_accuracy: 0.7218\n",
      "Epoch 42/100\n",
      "215/215 [==============================] - 124s 577ms/step - loss: 0.6278 - accuracy: 0.7305 - val_loss: 0.6431 - val_accuracy: 0.7229\n",
      "Epoch 43/100\n",
      "215/215 [==============================] - 124s 577ms/step - loss: 0.6370 - accuracy: 0.7249 - val_loss: 0.6441 - val_accuracy: 0.7211\n",
      "Epoch 44/100\n",
      "215/215 [==============================] - 123s 571ms/step - loss: 0.6069 - accuracy: 0.7355 - val_loss: 0.6472 - val_accuracy: 0.7224\n",
      "Epoch 45/100\n",
      "215/215 [==============================] - 124s 575ms/step - loss: 0.6225 - accuracy: 0.7353 - val_loss: 0.6459 - val_accuracy: 0.7214\n",
      "Epoch 46/100\n",
      "215/215 [==============================] - 123s 570ms/step - loss: 0.6150 - accuracy: 0.7401 - val_loss: 0.6434 - val_accuracy: 0.7224\n",
      "Epoch 47/100\n",
      "215/215 [==============================] - 123s 573ms/step - loss: 0.6232 - accuracy: 0.7354 - val_loss: 0.6480 - val_accuracy: 0.7208\n",
      "Restoring model weights from the end of the best epoch.\n",
      "Epoch 00047: early stopping\n"
     ]
    },
    {
     "data": {
      "image/png": "[encoded data removed]",
      "text/plain": [
       "<Figure size 432x288 with 2 Axes>"
      ]
     },
     "metadata": {
      "needs_background": "light"
     },
     "output_type": "display_data"
    }
   ],
   "source": [
    "# This one is 7224\n",
    "import imgaug as ia\n",
    "import imgaug.augmenters as iaa\n",
    "\n",
    "ia.seed(1411)\n",
    "\n",
    "seq = iaa.Sequential([\n",
    "    iaa.Fliplr(0.5), # horizontal flips\n",
    "    # Small gaussian blur with random sigma between 0 and 1.0.\n",
    "    # But we only blur about 25% of all images.\n",
    "    iaa.Sometimes(\n",
    "        0.30,\n",
    "        iaa.GaussianBlur(sigma=(0, 1.5))\n",
    "    ),\n",
    "    # Apply affine transformations to each image.\n",
    "    # Scale/zoom them, translate/move them, rotate them and shear them.\n",
    "    iaa.Sometimes(\n",
    "      0.30, \n",
    "      iaa.Affine(rotate=(-45, 45))\n",
    "    )\n",
    "], random_order=True) # apply augmenters in random order\n",
    "\n",
    "\n",
    "datagen_train = ImageDataGenerator(rescale=1./255.,\n",
    "      preprocessing_function=seq.augment_image\n",
    "   )\n",
    "\n",
    "datagen_valid = ImageDataGenerator(rescale=1./255)\n",
    "\n",
    "model = createModel()\n",
    "\n",
    "train_generator = datagen_train.flow_from_dataframe(dataframe=train,\n",
    "                                          directory=data_DIR,\n",
    "                                          x_col=\"filename\",\n",
    "                                          y_col=\"age\",\n",
    "                                          batch_size=128,\n",
    "                                          seed=420,\n",
    "                                          color_mode=\"rgb\",\n",
    "                                          shuffle=True,\n",
    "                                          class_mode=\"categorical\",\n",
    "                                          target_size=(224, 224)\n",
    "                                          # , validate_filenames=False\n",
    "                                          );\n",
    "\n",
    "valid_generator=datagen_valid.flow_from_dataframe(dataframe=test,\n",
    "                                          directory=data_DIR,\n",
    "                                          x_col=\"filename\",\n",
    "                                          y_col=\"age\",\n",
    "                                          batch_size=128,\n",
    "                                          seed=420,\n",
    "                                          color_mode=\"rgb\",\n",
    "                                          shuffle=False,\n",
    "                                          class_mode=\"categorical\",\n",
    "                                          target_size=(224, 224)\n",
    "                                          # , validate_filenames=False\n",
    "                                          );\n",
    "\n",
    "STEP_SIZE_TRAIN=train_generator.n//train_generator.batch_size\n",
    "STEP_SIZE_VALID=valid_generator.n//valid_generator.batch_size\n",
    "\n",
    "\n",
    "es = history = EarlyStopping(verbose=1, patience=7, restore_best_weights=True)\n",
    "# EarlyStopping(monitor='val_loss', mode='min', verbose=1, patience=10, restore_best_weights=True)\n",
    "\n",
    "#Trains the model on data generated batch-by-batch by a Python generator\n",
    "history = model.fit_generator(generator=train_generator,\\\n",
    "                    validation_data = valid_generator, \\\n",
    "                    steps_per_epoch=STEP_SIZE_TRAIN, \\\n",
    "                    validation_steps=STEP_SIZE_VALID, \\\n",
    "                    epochs=100, \\\n",
    "                    verbose=1, \\\n",
    "                    callbacks=[es])\n",
    "\n",
    "printHistory(history, 'output/Age_cls_baseline_40b_40d.jpg')\n",
    "model.save(\"models/age_cls.h5\")"
   ]
  },
  {
   "cell_type": "code",
   "execution_count": 13,
   "metadata": {},
   "outputs": [
    {
     "name": "stderr",
     "output_type": "stream",
     "text": [
      "/home/3049637/.conda/envs/tf-gpu/lib/python3.9/site-packages/tensorflow/python/keras/engine/training.py:1905: UserWarning: `Model.predict_generator` is deprecated and will be removed in a future version. Please use `Model.predict`, which supports generators.\n",
      "  warnings.warn('`Model.predict_generator` is deprecated and '\n",
      "2022-06-21 11:22:30.224846: W tensorflow/core/common_runtime/bfc_allocator.cc:248] Allocator (GPU_0_bfc) ran out of memory trying to allocate 3.45GiB with freed_by_count=0. The caller indicates that this is not a failure, but may mean that there could be performance gains if more memory were available.\n",
      "2022-06-21 11:22:30.632108: W tensorflow/core/common_runtime/bfc_allocator.cc:248] Allocator (GPU_0_bfc) ran out of memory trying to allocate 3.45GiB with freed_by_count=0. The caller indicates that this is not a failure, but may mean that there could be performance gains if more memory were available.\n",
      "2022-06-21 11:22:31.042979: W tensorflow/core/common_runtime/bfc_allocator.cc:248] Allocator (GPU_0_bfc) ran out of memory trying to allocate 3.45GiB with freed_by_count=0. The caller indicates that this is not a failure, but may mean that there could be performance gains if more memory were available.\n",
      "2022-06-21 11:22:31.362659: W tensorflow/core/common_runtime/bfc_allocator.cc:248] Allocator (GPU_0_bfc) ran out of memory trying to allocate 3.45GiB with freed_by_count=0. The caller indicates that this is not a failure, but may mean that there could be performance gains if more memory were available.\n",
      "2022-06-21 11:22:31.709368: W tensorflow/core/common_runtime/bfc_allocator.cc:248] Allocator (GPU_0_bfc) ran out of memory trying to allocate 3.45GiB with freed_by_count=0. The caller indicates that this is not a failure, but may mean that there could be performance gains if more memory were available.\n",
      "2022-06-21 11:22:32.029595: W tensorflow/core/common_runtime/bfc_allocator.cc:248] Allocator (GPU_0_bfc) ran out of memory trying to allocate 3.45GiB with freed_by_count=0. The caller indicates that this is not a failure, but may mean that there could be performance gains if more memory were available.\n",
      "2022-06-21 11:22:32.381066: W tensorflow/core/common_runtime/bfc_allocator.cc:248] Allocator (GPU_0_bfc) ran out of memory trying to allocate 3.45GiB with freed_by_count=0. The caller indicates that this is not a failure, but may mean that there could be performance gains if more memory were available.\n",
      "2022-06-21 11:22:32.716380: W tensorflow/core/common_runtime/bfc_allocator.cc:248] Allocator (GPU_0_bfc) ran out of memory trying to allocate 3.45GiB with freed_by_count=0. The caller indicates that this is not a failure, but may mean that there could be performance gains if more memory were available.\n",
      "2022-06-21 11:22:33.033195: W tensorflow/core/common_runtime/bfc_allocator.cc:248] Allocator (GPU_0_bfc) ran out of memory trying to allocate 3.45GiB with freed_by_count=0. The caller indicates that this is not a failure, but may mean that there could be performance gains if more memory were available.\n",
      "2022-06-21 11:22:33.333423: W tensorflow/core/common_runtime/bfc_allocator.cc:248] Allocator (GPU_0_bfc) ran out of memory trying to allocate 3.45GiB with freed_by_count=0. The caller indicates that this is not a failure, but may mean that there could be performance gains if more memory were available.\n"
     ]
    }
   ],
   "source": [
    "# get predict prob and label \n",
    "ypred = model.predict_generator(valid_generator)"
   ]
  },
  {
   "cell_type": "code",
   "execution_count": 14,
   "metadata": {},
   "outputs": [],
   "source": [
    "y_true = valid_generator.classes\n",
    "ypred = np.argmax(ypred, axis=1)"
   ]
  },
  {
   "cell_type": "code",
   "execution_count": 17,
   "metadata": {},
   "outputs": [],
   "source": [
    "# # mapping to 5 categories\n",
    "# dct = {0:0,1:0,2:1,3:2,4:2,5:3,6:3,7:4}\n",
    "\n",
    "# y_true_5 = [dct[k] for k in y_true]\n",
    "# y_pred_5 = [dct[k] for k in ypred]"
   ]
  },
  {
   "cell_type": "code",
   "execution_count": 15,
   "metadata": {},
   "outputs": [
    {
     "name": "stdout",
     "output_type": "stream",
     "text": [
      "Classification Report\n",
      "              precision    recall  f1-score   support\n",
      "\n",
      "           0       0.94      0.92      0.93      1786\n",
      "           1       0.61      0.69      0.65      1366\n",
      "           2       0.59      0.55      0.57      1655\n",
      "           3       0.66      0.67      0.67      1333\n",
      "           4       0.82      0.71      0.76       746\n",
      "\n",
      "    accuracy                           0.72      6886\n",
      "   macro avg       0.72      0.71      0.72      6886\n",
      "weighted avg       0.72      0.72      0.72      6886\n",
      "\n"
     ]
    }
   ],
   "source": [
    "print('Classification Report')\n",
    "print(classification_report(y_true, ypred))"
   ]
  },
  {
   "cell_type": "code",
   "execution_count": 18,
   "metadata": {},
   "outputs": [
    {
     "name": "stdout",
     "output_type": "stream",
     "text": [
      "Confusion Matrix\n",
      "[[1652  103   23    6    2]\n",
      " [  74  949  318   24    1]\n",
      " [  30  469  916  236    4]\n",
      " [   5   34  287  894  113]\n",
      " [   5    9   11  190  531]]\n"
     ]
    },
    {
     "data": {
      "image/png": "[encoded data removed]",
      "text/plain": [
       "<Figure size 432x288 with 2 Axes>"
      ]
     },
     "metadata": {
      "needs_background": "light"
     },
     "output_type": "display_data"
    }
   ],
   "source": [
    "from sklearn.metrics import classification_report, confusion_matrix\n",
    "\n",
    "print('Confusion Matrix')\n",
    "cf_matrix = confusion_matrix(y_true, ypred)\n",
    "print(cf_matrix)\n",
    "\n",
    "import seaborn as sns\n",
    "\n",
    "ax = sns.heatmap(cf_matrix, annot=True, cmap='Blues', fmt='g')\n",
    "\n",
    "ax.set_title('Seaborn Confusion Matrix\\n\\n');\n",
    "ax.set_xlabel('\\nPredicted Values')\n",
    "ax.set_ylabel('Actual Values ');\n",
    "\n",
    "plt.savefig('output/age_cls_confusion_M')\n",
    "\n",
    "## Display the visualization of the Confusion Matrix.\n",
    "plt.show()"
   ]
  },
  {
   "cell_type": "code",
   "execution_count": 19,
   "metadata": {},
   "outputs": [
    {
     "name": "stderr",
     "output_type": "stream",
     "text": [
      "/home/3049637/.conda/envs/tf-gpu/lib/python3.9/site-packages/tensorflow/python/keras/engine/training.py:1905: UserWarning: `Model.predict_generator` is deprecated and will be removed in a future version. Please use `Model.predict`, which supports generators.\n",
      "  warnings.warn('`Model.predict_generator` is deprecated and '\n"
     ]
    }
   ],
   "source": [
    "# Here is the model before finetuning \n",
    "def createModel_old():\n",
    "    #VGG-Face model\n",
    "    model = Sequential()\n",
    "    model.add(ZeroPadding2D((1,1),input_shape=(224,224, 3)))\n",
    "    model.add(Convolution2D(64, (3, 3), activation='relu'))\n",
    "    model.add(ZeroPadding2D((1,1)))\n",
    "    model.add(Convolution2D(64, (3, 3), activation='relu'))\n",
    "    model.add(MaxPooling2D((2,2), strides=(2,2)))\n",
    "\n",
    "    model.add(ZeroPadding2D((1,1)))\n",
    "    model.add(Convolution2D(128, (3, 3), activation='relu'))\n",
    "    model.add(ZeroPadding2D((1,1)))\n",
    "    model.add(Convolution2D(128, (3, 3), activation='relu'))\n",
    "    model.add(MaxPooling2D((2,2), strides=(2,2)))\n",
    "\n",
    "    model.add(ZeroPadding2D((1,1)))\n",
    "    model.add(Convolution2D(256, (3, 3), activation='relu'))\n",
    "    model.add(ZeroPadding2D((1,1)))\n",
    "    model.add(Convolution2D(256, (3, 3), activation='relu'))\n",
    "    model.add(ZeroPadding2D((1,1)))\n",
    "    model.add(Convolution2D(256, (3, 3), activation='relu'))\n",
    "    model.add(MaxPooling2D((2,2), strides=(2,2)))\n",
    "\n",
    "    model.add(ZeroPadding2D((1,1)))\n",
    "    model.add(Convolution2D(512, (3, 3), activation='relu'))\n",
    "    model.add(ZeroPadding2D((1,1)))\n",
    "    model.add(Convolution2D(512, (3, 3), activation='relu'))\n",
    "    model.add(ZeroPadding2D((1,1)))\n",
    "    model.add(Convolution2D(512, (3, 3), activation='relu'))\n",
    "    model.add(MaxPooling2D((2,2), strides=(2,2)))\n",
    "\n",
    "    model.add(ZeroPadding2D((1,1)))\n",
    "    model.add(Convolution2D(512, (3, 3), activation='relu'))\n",
    "    model.add(ZeroPadding2D((1,1)))\n",
    "    model.add(Convolution2D(512, (3, 3), activation='relu'))\n",
    "    model.add(ZeroPadding2D((1,1)))\n",
    "    model.add(Convolution2D(512, (3, 3), activation='relu'))\n",
    "    model.add(MaxPooling2D((2,2), strides=(2,2)))\n",
    "\n",
    "    model.add(Convolution2D(4096, (7, 7), activation='relu'))\n",
    "    model.add(Dropout(0.5))\n",
    "    model.add(Convolution2D(4096, (1, 1), activation='relu'))\n",
    "    model.add(Convolution2D(101, (1, 1), name='predictions'))\n",
    "    model.add(Flatten())\n",
    "    model.add(Activation('softmax'))\n",
    "    \n",
    "    \n",
    "    model.load_weights('models/pre_trained//age_model_weights.h5')\n",
    "\n",
    "    return model\n",
    "\n",
    "old_model = createModel_old()\n",
    "\n",
    "ypred_ = old_model.predict_generator(valid_generator)"
   ]
  },
  {
   "cell_type": "code",
   "execution_count": 23,
   "metadata": {},
   "outputs": [
    {
     "data": {
      "text/plain": [
       "array([3, 4, 3, ..., 3, 3, 2])"
      ]
     },
     "execution_count": 23,
     "metadata": {},
     "output_type": "execute_result"
    }
   ],
   "source": [
    "# This is the methodology used in the original paper\n",
    "output_indexes = np.array([i for i in range(0, 101)])\n",
    "apparent_predictions = np.sum(ypred_ * output_indexes, axis = 1)\n",
    "\n",
    "# Now lets convert to our labels\n",
    "predicted = np.digitize(apparent_predictions, bins)\n",
    "predicted"
   ]
  },
  {
   "cell_type": "code",
   "execution_count": 26,
   "metadata": {},
   "outputs": [
    {
     "data": {
      "text/plain": [
       "array([0, 1, 2, 3, 4])"
      ]
     },
     "execution_count": 26,
     "metadata": {},
     "output_type": "execute_result"
    }
   ],
   "source": [
    "predicted -= 1\n",
    "np.unique(predicted)"
   ]
  },
  {
   "cell_type": "code",
   "execution_count": 28,
   "metadata": {},
   "outputs": [
    {
     "name": "stdout",
     "output_type": "stream",
     "text": [
      "Classification Report\n",
      "              precision    recall  f1-score   support\n",
      "\n",
      "           0       1.00      0.00      0.00      1786\n",
      "           1       0.24      0.35      0.29      1366\n",
      "           2       0.28      0.69      0.39      1655\n",
      "           3       0.35      0.20      0.26      1333\n",
      "           4       1.00      0.01      0.02       746\n",
      "\n",
      "    accuracy                           0.28      6886\n",
      "   macro avg       0.57      0.25      0.19      6886\n",
      "weighted avg       0.55      0.28      0.20      6886\n",
      "\n"
     ]
    }
   ],
   "source": [
    "print('Classification Report')\n",
    "print(classification_report(y_true, predicted))"
   ]
  },
  {
   "cell_type": "code",
   "execution_count": 29,
   "metadata": {},
   "outputs": [
    {
     "name": "stdout",
     "output_type": "stream",
     "text": [
      "Confusion Matrix\n",
      "[[   2  836  919   29    0]\n",
      " [   0  476  880   10    0]\n",
      " [   0  465 1141   49    0]\n",
      " [   0  146  917  270    0]\n",
      " [   0   34  292  413    7]]\n"
     ]
    },
    {
     "data": {
      "image/png": "[encoded data removed]",
      "text/plain": [
       "<Figure size 432x288 with 2 Axes>"
      ]
     },
     "metadata": {
      "needs_background": "light"
     },
     "output_type": "display_data"
    }
   ],
   "source": [
    "from sklearn.metrics import classification_report, confusion_matrix\n",
    "\n",
    "print('Confusion Matrix')\n",
    "cf_matrix = confusion_matrix(y_true, predicted)\n",
    "print(cf_matrix)\n",
    "\n",
    "import seaborn as sns\n",
    "\n",
    "ax = sns.heatmap(cf_matrix, annot=True, cmap='Blues', fmt='g')\n",
    "\n",
    "ax.set_title('Seaborn Confusion Matrix\\n\\n');\n",
    "ax.set_xlabel('\\nPredicted Values')\n",
    "ax.set_ylabel('Actual Values ');\n",
    "\n",
    "plt.savefig('output/age_cls_old')\n",
    "\n",
    "## Display the visualization of the Confusion Matrix.\n",
    "plt.show()"
   ]
  },
  {
   "cell_type": "code",
   "execution_count": 12,
   "metadata": {},
   "outputs": [
    {
     "data": {
      "text/html": [
       "<div>\n",
       "<style scoped>\n",
       "    .dataframe tbody tr th:only-of-type {\n",
       "        vertical-align: middle;\n",
       "    }\n",
       "\n",
       "    .dataframe tbody tr th {\n",
       "        vertical-align: top;\n",
       "    }\n",
       "\n",
       "    .dataframe thead th {\n",
       "        text-align: right;\n",
       "    }\n",
       "</style>\n",
       "<table border=\"1\" class=\"dataframe\">\n",
       "  <thead>\n",
       "    <tr style=\"text-align: right;\">\n",
       "      <th></th>\n",
       "      <th>0</th>\n",
       "      <th>1</th>\n",
       "      <th>2</th>\n",
       "      <th>3</th>\n",
       "      <th>4</th>\n",
       "      <th>5</th>\n",
       "      <th>6</th>\n",
       "      <th>7</th>\n",
       "    </tr>\n",
       "  </thead>\n",
       "  <tbody>\n",
       "    <tr>\n",
       "      <th>0</th>\n",
       "      <td>0.101720</td>\n",
       "      <td>0.485755</td>\n",
       "      <td>0.366887</td>\n",
       "      <td>0.029853</td>\n",
       "      <td>0.012966</td>\n",
       "      <td>0.002236</td>\n",
       "      <td>0.000512</td>\n",
       "      <td>0.000071</td>\n",
       "    </tr>\n",
       "    <tr>\n",
       "      <th>1</th>\n",
       "      <td>0.000005</td>\n",
       "      <td>0.000061</td>\n",
       "      <td>0.000899</td>\n",
       "      <td>0.001907</td>\n",
       "      <td>0.013208</td>\n",
       "      <td>0.057267</td>\n",
       "      <td>0.320264</td>\n",
       "      <td>0.606389</td>\n",
       "    </tr>\n",
       "    <tr>\n",
       "      <th>2</th>\n",
       "      <td>0.000246</td>\n",
       "      <td>0.002837</td>\n",
       "      <td>0.040357</td>\n",
       "      <td>0.075818</td>\n",
       "      <td>0.315210</td>\n",
       "      <td>0.353707</td>\n",
       "      <td>0.180093</td>\n",
       "      <td>0.031732</td>\n",
       "    </tr>\n",
       "    <tr>\n",
       "      <th>3</th>\n",
       "      <td>0.000018</td>\n",
       "      <td>0.000210</td>\n",
       "      <td>0.003117</td>\n",
       "      <td>0.006565</td>\n",
       "      <td>0.043830</td>\n",
       "      <td>0.161988</td>\n",
       "      <td>0.477123</td>\n",
       "      <td>0.307148</td>\n",
       "    </tr>\n",
       "    <tr>\n",
       "      <th>4</th>\n",
       "      <td>0.000207</td>\n",
       "      <td>0.002395</td>\n",
       "      <td>0.034297</td>\n",
       "      <td>0.065626</td>\n",
       "      <td>0.290731</td>\n",
       "      <td>0.365150</td>\n",
       "      <td>0.204201</td>\n",
       "      <td>0.037392</td>\n",
       "    </tr>\n",
       "  </tbody>\n",
       "</table>\n",
       "</div>"
      ],
      "text/plain": [
       "          0         1         2         3         4         5         6  \\\n",
       "0  0.101720  0.485755  0.366887  0.029853  0.012966  0.002236  0.000512   \n",
       "1  0.000005  0.000061  0.000899  0.001907  0.013208  0.057267  0.320264   \n",
       "2  0.000246  0.002837  0.040357  0.075818  0.315210  0.353707  0.180093   \n",
       "3  0.000018  0.000210  0.003117  0.006565  0.043830  0.161988  0.477123   \n",
       "4  0.000207  0.002395  0.034297  0.065626  0.290731  0.365150  0.204201   \n",
       "\n",
       "          7  \n",
       "0  0.000071  \n",
       "1  0.606389  \n",
       "2  0.031732  \n",
       "3  0.307148  \n",
       "4  0.037392  "
      ]
     },
     "execution_count": 12,
     "metadata": {},
     "output_type": "execute_result"
    }
   ],
   "source": [
    "## Baseine acuracy of 0.6145\n",
    "## Lets evaluate CORAL results\n",
    "import coral_ordinal as coral\n",
    "\n",
    "# Note that these are ordinal (cumulative) logits, not probabilities or regular logits.\n",
    "ordinal_logits = model.predict(valid_generator)\n",
    "\n",
    "# Convert from logits to label probabilities. This is initially a tensorflow tensor.\n",
    "tensor_probs = coral.ordinal_softmax(ordinal_logits)\n",
    "\n",
    "# Convert the tensor into a pandas dataframe.\n",
    "probs_df = pd.DataFrame(tensor_probs.numpy())\n",
    "\n",
    "probs_df.head()"
   ]
  },
  {
   "cell_type": "code",
   "execution_count": 23,
   "metadata": {},
   "outputs": [
    {
     "data": {
      "text/plain": [
       "array([1, 7, 5, ..., 6, 4, 5])"
      ]
     },
     "execution_count": 23,
     "metadata": {},
     "output_type": "execute_result"
    }
   ],
   "source": [
    "ypred = probs_df.idxmax(axis = 1).values\n",
    "y_true = valid_generator.labels\n",
    "\n",
    "ypred"
   ]
  },
  {
   "cell_type": "code",
   "execution_count": 24,
   "metadata": {},
   "outputs": [
    {
     "name": "stdout",
     "output_type": "stream",
     "text": [
      "Classification Report\n",
      "              precision    recall  f1-score   support\n",
      "\n",
      "           0       0.90      0.93      0.91      1190\n",
      "           1       0.71      0.51      0.59       596\n",
      "           2       0.54      0.80      0.64      1366\n",
      "           3       0.00      0.00      0.00       703\n",
      "           4       0.40      0.56      0.47       952\n",
      "           5       0.40      0.31      0.35       661\n",
      "           6       0.52      0.46      0.49       672\n",
      "           7       0.77      0.78      0.77       746\n",
      "\n",
      "    accuracy                           0.60      6886\n",
      "   macro avg       0.53      0.54      0.53      6886\n",
      "weighted avg       0.55      0.60      0.57      6886\n",
      "\n"
     ]
    },
    {
     "name": "stderr",
     "output_type": "stream",
     "text": [
      "/home/3049637/.conda/envs/tf-gpu/lib/python3.9/site-packages/sklearn/metrics/_classification.py:1318: UndefinedMetricWarning: Precision and F-score are ill-defined and being set to 0.0 in labels with no predicted samples. Use `zero_division` parameter to control this behavior.\n",
      "  _warn_prf(average, modifier, msg_start, len(result))\n",
      "/home/3049637/.conda/envs/tf-gpu/lib/python3.9/site-packages/sklearn/metrics/_classification.py:1318: UndefinedMetricWarning: Precision and F-score are ill-defined and being set to 0.0 in labels with no predicted samples. Use `zero_division` parameter to control this behavior.\n",
      "  _warn_prf(average, modifier, msg_start, len(result))\n",
      "/home/3049637/.conda/envs/tf-gpu/lib/python3.9/site-packages/sklearn/metrics/_classification.py:1318: UndefinedMetricWarning: Precision and F-score are ill-defined and being set to 0.0 in labels with no predicted samples. Use `zero_division` parameter to control this behavior.\n",
      "  _warn_prf(average, modifier, msg_start, len(result))\n"
     ]
    }
   ],
   "source": [
    "print('Classification Report')\n",
    "# target_names = traindf.age.unique()\n",
    "print(classification_report(y_true, ypred))"
   ]
  },
  {
   "cell_type": "code",
   "execution_count": 25,
   "metadata": {},
   "outputs": [
    {
     "name": "stdout",
     "output_type": "stream",
     "text": [
      "Confusion Matrix\n",
      "[[1102   63   17    0    6    1    1    0]\n",
      " [ 114  305  163    0   12    2    0    0]\n",
      " [   4   46 1095    0  198   18    5    0]\n",
      " [   2    8  427    0  242   21    3    0]\n",
      " [   0    5  268    0  536  111   28    4]\n",
      " [   0    2   41    0  262  203  135   18]\n",
      " [   0    1   16    0   62  127  312  154]\n",
      " [   0    0    9    0   12   24  121  580]]\n"
     ]
    },
    {
     "data": {
      "image/png": "[encoded data removed]",
      "text/plain": [
       "<Figure size 432x288 with 2 Axes>"
      ]
     },
     "metadata": {
      "needs_background": "light"
     },
     "output_type": "display_data"
    }
   ],
   "source": [
    "from sklearn.metrics import classification_report, confusion_matrix\n",
    "\n",
    "print('Confusion Matrix')\n",
    "cf_matrix = confusion_matrix(y_true, ypred)\n",
    "print(cf_matrix)\n",
    "\n",
    "import seaborn as sns\n",
    "\n",
    "ax = sns.heatmap(cf_matrix, annot=True, cmap='Blues')\n",
    "\n",
    "ax.set_title('Seaborn Confusion Matrix\\n\\n');\n",
    "ax.set_xlabel('\\nPredicted Values')\n",
    "ax.set_ylabel('Actual Values ');\n",
    "\n",
    "\n",
    "## Display the visualization of the Confusion Matrix.\n",
    "plt.show()"
   ]
  }
 ],
 "metadata": {
  "kernelspec": {
   "display_name": "Python 3.9.7 ('tf-gpu')",
   "language": "python",
   "name": "python3"
  },
  "language_info": {
   "codemirror_mode": {
    "name": "ipython",
    "version": 3
   },
   "file_extension": ".py",
   "mimetype": "text/x-python",
   "name": "python",
   "nbconvert_exporter": "python",
   "pygments_lexer": "ipython3",
   "version": "3.9.7"
  },
  "orig_nbformat": 4,
  "vscode": {
   "interpreter": {
    "hash": "d5053a38874775f3fd31bdcf8476db41f9fd936cc6a4484ab25ae54cfbc6823b"
   }
  }
 },
 "nbformat": 4,
 "nbformat_minor": 2
}
